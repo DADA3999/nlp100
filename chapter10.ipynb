{
 "cells": [
  {
   "cell_type": "markdown",
   "metadata": {},
   "source": [
    "### 90 データの準備"
   ]
  },
  {
   "cell_type": "code",
   "execution_count": 1,
   "metadata": {},
   "outputs": [
    {
     "name": "stdout",
     "output_type": "stream",
     "text": [
      "kftt-data-1.0/\n",
      "kftt-data-1.0/data/\n",
      "kftt-data-1.0/data/orig/\n",
      "kftt-data-1.0/data/orig/kyoto-tune.en\n",
      "kftt-data-1.0/data/orig/kyoto-dev.ja\n",
      "kftt-data-1.0/data/orig/kyoto-dev.en\n",
      "kftt-data-1.0/data/orig/kyoto-train.en\n",
      "kftt-data-1.0/data/orig/kyoto-tune.ja\n",
      "kftt-data-1.0/data/orig/kyoto-train.ja\n",
      "kftt-data-1.0/data/orig/kyoto-test.ja\n",
      "kftt-data-1.0/data/orig/kyoto-test.en\n",
      "kftt-data-1.0/data/tok/\n",
      "kftt-data-1.0/data/tok/kyoto-tune.en\n",
      "kftt-data-1.0/data/tok/kyoto-dev.ja\n",
      "kftt-data-1.0/data/tok/kyoto-train.cln.en\n",
      "kftt-data-1.0/data/tok/kyoto-dev.en\n",
      "kftt-data-1.0/data/tok/kyoto-train.en\n",
      "kftt-data-1.0/data/tok/kyoto-tune.ja\n",
      "kftt-data-1.0/data/tok/kyoto-train.cln.ja\n",
      "kftt-data-1.0/data/tok/kyoto-train.ja\n",
      "kftt-data-1.0/data/tok/kyoto-test.ja\n",
      "kftt-data-1.0/data/tok/kyoto-test.en\n",
      "kftt-data-1.0/README.txt\n"
     ]
    }
   ],
   "source": [
    "! tar zxvf kftt-data-1.0.tar.gz"
   ]
  },
  {
   "cell_type": "markdown",
   "metadata": {},
   "source": [
    "ginzaで形態素解析"
   ]
  },
  {
   "cell_type": "code",
   "execution_count": 2,
   "metadata": {},
   "outputs": [],
   "source": [
    "%%bash\n",
    "cat kftt-data-1.0/data/orig/kyoto-train.ja | sed 's/\\s+/ /g' | ginzame > train.ginza.ja\n",
    "cat kftt-data-1.0/data/orig/kyoto-dev.ja | sed 's/\\s+/ /g' | ginzame > dev.ginza.ja\n",
    "cat kftt-data-1.0/data/orig/kyoto-test.ja | sed 's/\\s+/ /g' | ginzame > test.ginza.ja"
   ]
  },
  {
   "cell_type": "code",
   "execution_count": 3,
   "metadata": {},
   "outputs": [
    {
     "name": "stdout",
     "output_type": "stream",
     "text": [
      "雪舟\t名詞,固有名詞,人名,一般,*,*,雪舟,セッシュウ,*\r\n",
      "（\t補助記号,括弧開,*,*,*,*,（,キゴウ,*\r\n",
      "せっ\t名詞,固有名詞,人名,一般,*,*,せっ,セッ,*\r\n",
      "しゅう\t名詞,固有名詞,人名,名,*,*,しゅう,シュウ,*\r\n",
      "、\t補助記号,読点,*,*,*,*,、,、,*\r\n",
      "1420\t名詞,数詞,*,*,*,*,1420,イチヨンニレイ,*\r\n",
      "年\t名詞,普通名詞,助数詞可能,*,*,*,年,ネン,*\r\n",
      "（\t補助記号,括弧開,*,*,*,*,（,キゴウ,*\r\n",
      "応永\t名詞,固有名詞,一般,*,*,*,応永,オウエイ,*\r\n",
      "27\t名詞,数詞,*,*,*,*,27,ニシチ,*\r\n"
     ]
    }
   ],
   "source": [
    "! head train.ginza.ja"
   ]
  },
  {
   "cell_type": "markdown",
   "metadata": {},
   "source": [
    "spacyで単語分割"
   ]
  },
  {
   "cell_type": "code",
   "execution_count": 4,
   "metadata": {},
   "outputs": [],
   "source": [
    "import re\n",
    "import spacy"
   ]
  },
  {
   "cell_type": "code",
   "execution_count": 5,
   "metadata": {},
   "outputs": [],
   "source": [
    "nlp = spacy.load('en')"
   ]
  },
  {
   "cell_type": "code",
   "execution_count": 6,
   "metadata": {},
   "outputs": [],
   "source": [
    "for src, dst in [\n",
    "    ('kftt-data-1.0/data/orig/kyoto-train.en', 'train.spacy.en'),\n",
    "    ('kftt-data-1.0/data/orig/kyoto-dev.en', 'dev.spacy.en'),\n",
    "    ('kftt-data-1.0/data/orig/kyoto-test.en', 'test.spacy.en'),\n",
    "]:\n",
    "    with open(src) as f, open(dst, 'w') as g:\n",
    "        for x in f:\n",
    "            x = x.strip()\n",
    "            x = re.sub(r'\\s+', ' ', x)\n",
    "            x = nlp.make_doc(x)\n",
    "            x = ' '.join([doc.text for doc in x])\n",
    "            print(x, file=g)"
   ]
  },
  {
   "cell_type": "code",
   "execution_count": 7,
   "metadata": {},
   "outputs": [
    {
     "name": "stdout",
     "output_type": "stream",
     "text": [
      "Known as Sesshu ( 1420 - 1506 ) , he was an ink painter and Zen monk active in the Muromachi period in the latter half of the 15th century , and was called a master painter .\r\n",
      "He revolutionized the Japanese ink painting .\r\n",
      "He was given the posthumous name \" Toyo \" or \" Sesshu ( 拙宗 ) . \"\r\n",
      "Born in Bicchu Province , he moved to Suo Province after entering SShokoku - ji Temple in Kyoto .\r\n",
      "Later he accompanied a mission to Ming Dynasty China and learned Chinese ink painting .\r\n",
      "His works were many , including not only Chinese - style landscape paintings , but also portraits and pictures of flowers and birds .\r\n",
      "His bold compositions and strong brush strokes constituted an extremely distinctive style .\r\n",
      "6 of his extant works are designated national treasures . Indeed , he is considered to be extraordinary among Japanese painters .\r\n",
      "For this reason , there are a great many artworks that are attributed to him , such as folding screens with pictures of flowers and that birds are painted on them .\r\n",
      "There are many works that even experts can not agree if they are really his work or not .\r\n"
     ]
    }
   ],
   "source": [
    "! head train.spacy.en"
   ]
  },
  {
   "cell_type": "markdown",
   "metadata": {},
   "source": [
    "ginzaの解析結果から形態素に分割"
   ]
  },
  {
   "cell_type": "code",
   "execution_count": 8,
   "metadata": {},
   "outputs": [],
   "source": [
    "for src, dst in [\n",
    "    ('train.ginza.ja', 'train.spacy.ja'),\n",
    "    ('dev.ginza.ja', 'dev.spacy.ja'),\n",
    "    ('test.ginza.ja', 'test.spacy.ja'),\n",
    "]:\n",
    "    with open(src) as f:\n",
    "        lst = []\n",
    "        tmp = []\n",
    "        for x in f:\n",
    "            x = x.strip()\n",
    "            if x == 'EOS':\n",
    "                lst.append(' '.join(tmp))\n",
    "                tmp = []\n",
    "            elif x != '':\n",
    "                tmp.append(x.split('\\t')[0])\n",
    "    with open(dst, 'w') as f:\n",
    "        for line in lst:\n",
    "            print(line, file=f)"
   ]
  },
  {
   "cell_type": "code",
   "execution_count": 9,
   "metadata": {},
   "outputs": [
    {
     "name": "stdout",
     "output_type": "stream",
     "text": [
      "雪舟 （ せっ しゅう 、 1420 年 （ 応永 27 年 ） - 1506 年 （ 永正 3 年 ） ） は 号 で 、 15 世紀 後半 室町 時代 に 活躍 し た 水墨 画家 ・ 禅僧 で 、 画聖 と も 称え られる 。\r\n",
      "日本 の 水墨画 を 一変 さ せ た 。\r\n",
      "諱 は 「 等楊 （ とう よう ） 」 、 もしくは 「 拙 宗 （ せっ しゅう ） 」 と 号し た 。\r\n",
      "備中 国 に 生まれ 、 京都 ・ 相国 寺 に 入っ て から 周防 国 に 移る 。\r\n",
      "その 後 遣明 使 に 随行 し て 中国 （ 明 ） に 渡っ て 中国 の 水墨画 を 学ん だ 。\r\n",
      "作品 は 数多く 、 中国 風 の 山水画 だけ で なく 人物画 や 花鳥画 も よく し た 。\r\n",
      "大胆 な 構図 と 力強い 筆線 は 非常 に 個性的 な 画風 を 作り出し て いる 。\r\n",
      "現存 する 作品 の うち 6 点 が 国宝 に 指定 さ れ て おり 、 日本 の 画家 の なか で も 別格 の 評価 を 受け て いる と いえる 。\r\n",
      "この ため 、 花鳥 図 屏風 など に 「 伝 雪舟 筆 」 さ れる 作品 は 大変 多い 。\r\n",
      "真筆 で ある か 専門家 の 間 で も 意見 の 分かれる もの も 多々 ある 。\r\n"
     ]
    }
   ],
   "source": [
    "! head train.spacy.ja"
   ]
  },
  {
   "cell_type": "markdown",
   "metadata": {},
   "source": [
    "### 91. 機械翻訳モデルの訓練"
   ]
  },
  {
   "cell_type": "code",
   "execution_count": 10,
   "metadata": {},
   "outputs": [
    {
     "name": "stdout",
     "output_type": "stream",
     "text": [
      "Namespace(align_suffix=None, alignfile=None, bpe=None, cpu=False, criterion='cross_entropy', dataset_impl='mmap', destdir='data91', empty_cache_freq=0, fp16=False, fp16_init_scale=128, fp16_scale_tolerance=0.0, fp16_scale_window=None, joined_dictionary=False, log_format=None, log_interval=1000, lr_scheduler='fixed', memory_efficient_fp16=False, min_loss_scale=0.0001, no_progress_bar=False, nwordssrc=-1, nwordstgt=-1, only_source=False, optimizer='nag', padding_factor=8, seed=1, source_lang='ja', srcdict=None, target_lang='en', task='translation', tensorboard_logdir='', testpref=None, tgtdict=None, threshold_loss_scale=None, thresholdsrc=5, thresholdtgt=5, tokenizer=None, trainpref='train.spacy', user_dir=None, validpref='dev.spacy', workers=20)\n",
      "| [ja] Dictionary: 60247 types\n",
      "| [ja] train.spacy.ja: 440288 sents, 11298955 tokens, 1.41% replaced by <unk>\n",
      "| [ja] Dictionary: 60247 types\n",
      "| [ja] dev.spacy.ja: 1166 sents, 25550 tokens, 1.54% replaced by <unk>\n",
      "| [en] Dictionary: 55495 types\n",
      "| [en] train.spacy.en: 440288 sents, 12319171 tokens, 1.58% replaced by <unk>\n",
      "| [en] Dictionary: 55495 types\n",
      "| [en] dev.spacy.en: 1166 sents, 26091 tokens, 2.85% replaced by <unk>\n",
      "| Wrote preprocessed data to data91\n"
     ]
    }
   ],
   "source": [
    "!fairseq-preprocess -s ja -t en \\\n",
    "    --trainpref train.spacy \\\n",
    "    --validpref dev.spacy \\\n",
    "    --destdir data91  \\\n",
    "    --thresholdsrc 5 \\\n",
    "    --thresholdtgt 5 \\\n",
    "    --workers 20"
   ]
  },
  {
   "cell_type": "code",
   "execution_count": 12,
   "metadata": {},
   "outputs": [
    {
     "name": "stdout",
     "output_type": "stream",
     "text": [
      "/apps/python/3.8.2/lib/python3.8/multiprocessing/resource_tracker.py:216: UserWarning: resource_tracker: There appear to be 16 leaked semaphore objects to clean up at shutdown\n",
      "  warnings.warn('resource_tracker: There appear to be %d '\n"
     ]
    }
   ],
   "source": [
    "! fairseq-train data91 \\\n",
    "    --fp16 \\\n",
    "    --save-dir save91 \\\n",
    "    --max-epoch 10 \\\n",
    "    --arch transformer --share-decoder-input-output-embed \\\n",
    "    --optimizer adam --clip-norm 1.0 \\\n",
    "    --lr 1e-3 --lr-scheduler inverse_sqrt --warmup-updates 2000 \\\n",
    "    --update-freq 1 \\\n",
    "    --dropout 0.2 --weight-decay 0.0001 \\\n",
    "    --criterion label_smoothed_cross_entropy --label-smoothing 0.1 \\\n",
    "    --max-tokens 8000 > 91.log"
   ]
  },
  {
   "cell_type": "markdown",
   "metadata": {},
   "source": [
    "### 92. 機械翻訳モデルの適用"
   ]
  },
  {
   "cell_type": "code",
   "execution_count": 13,
   "metadata": {},
   "outputs": [],
   "source": [
    "!fairseq-interactive --path save91/checkpoint10.pt data91 < test.spacy.ja | grep '^H' | cut -f3 > 92.out"
   ]
  },
  {
   "cell_type": "markdown",
   "metadata": {},
   "source": [
    "### 93. BLEUスコアの計測"
   ]
  },
  {
   "cell_type": "code",
   "execution_count": 14,
   "metadata": {},
   "outputs": [
    {
     "name": "stdout",
     "output_type": "stream",
     "text": [
      "Namespace(ignore_case=False, order=4, ref='test.spacy.en', sacrebleu=False, sentence_bleu=False, sys='92.out')\n",
      "BLEU4 = 22.71, 53.4/27.8/16.7/10.7 (BP=1.000, ratio=1.009, syslen=27864, reflen=27625)\n"
     ]
    }
   ],
   "source": [
    "!fairseq-score --sys 92.out --ref test.spacy.en"
   ]
  },
  {
   "cell_type": "markdown",
   "metadata": {},
   "source": [
    "### 94. ビーム探索"
   ]
  },
  {
   "cell_type": "code",
   "execution_count": 15,
   "metadata": {},
   "outputs": [],
   "source": [
    "%%bash\n",
    "for N in `seq 1 20` ; do\n",
    "    fairseq-interactive --path save91/checkpoint10.pt --beam $N data91 < test.spacy.ja | grep '^H' | cut -f3 > 94.$N.out\n",
    "done"
   ]
  },
  {
   "cell_type": "code",
   "execution_count": 16,
   "metadata": {},
   "outputs": [],
   "source": [
    "%%bash\n",
    "for N in `seq 1 20` ; do\n",
    "    fairseq-score --sys 94.$N.out --ref test.spacy.en > 94.$N.score\n",
    "done"
   ]
  },
  {
   "cell_type": "code",
   "execution_count": 17,
   "metadata": {},
   "outputs": [],
   "source": [
    "import matplotlib.pyplot as plt"
   ]
  },
  {
   "cell_type": "code",
   "execution_count": 18,
   "metadata": {},
   "outputs": [
    {
     "data": {
      "image/png": "[encoded data removed]",
      "text/plain": [
       "<Figure size 432x288 with 1 Axes>"
      ]
     },
     "metadata": {
      "needs_background": "light"
     },
     "output_type": "display_data"
    }
   ],
   "source": [
    "def read_score(filename):\n",
    "    with open(filename) as f:\n",
    "        x = f.readlines()[1]\n",
    "        x = re.search(r'(?<=BLEU4 = )\\d*\\.\\d*(?=,)', x)\n",
    "        return float(x.group())\n",
    "\n",
    "xs = range(1, 21)\n",
    "ys = [read_score(f'94.{x}.score') for x in xs]\n",
    "plt.plot(xs, ys)\n",
    "plt.show()"
   ]
  },
  {
   "cell_type": "markdown",
   "metadata": {},
   "source": [
    "### 95. サブワード化"
   ]
  },
  {
   "cell_type": "code",
   "execution_count": 19,
   "metadata": {},
   "outputs": [],
   "source": [
    "import sentencepiece as spm"
   ]
  },
  {
   "cell_type": "code",
   "execution_count": 20,
   "metadata": {},
   "outputs": [
    {
     "data": {
      "text/plain": [
       "True"
      ]
     },
     "execution_count": 20,
     "metadata": {},
     "output_type": "execute_result"
    }
   ],
   "source": [
    "spm.SentencePieceTrainer.Train('--input=kftt-data-1.0/data/orig/kyoto-train.ja --model_prefix=kyoto_ja --vocab_size=16000 --character_coverage=1.0')"
   ]
  },
  {
   "cell_type": "code",
   "execution_count": 21,
   "metadata": {},
   "outputs": [
    {
     "data": {
      "text/plain": [
       "True"
      ]
     },
     "execution_count": 21,
     "metadata": {},
     "output_type": "execute_result"
    }
   ],
   "source": [
    "sp = spm.SentencePieceProcessor()\n",
    "sp.Load('kyoto_ja.model')"
   ]
  },
  {
   "cell_type": "code",
   "execution_count": 22,
   "metadata": {},
   "outputs": [],
   "source": [
    "for src, dst in [\n",
    "    ('kftt-data-1.0/data/orig/kyoto-train.ja', 'train.sub.ja'),\n",
    "    ('kftt-data-1.0/data/orig/kyoto-dev.ja', 'dev.sub.ja'),\n",
    "    ('kftt-data-1.0/data/orig/kyoto-test.ja', 'test.sub.ja'),\n",
    "]:\n",
    "    with open(src) as f, open(dst, 'w') as g:\n",
    "        for x in f:\n",
    "            x = x.strip()\n",
    "            x = re.sub(r'\\s+', ' ', x)\n",
    "            x = sp.encode_as_pieces(x)\n",
    "            x = ' '.join(x)\n",
    "            print(x, file=g)"
   ]
  },
  {
   "cell_type": "code",
   "execution_count": 23,
   "metadata": {},
   "outputs": [
    {
     "name": "stdout",
     "output_type": "stream",
     "text": [
      "▁ 雪 舟 ( せ っ しゅう 、 14 20 年 ( 応永 27 年 )- 150 6 年 ( 永正 3 年 ) ) は 号 で 、 15 世紀後半 室町時代に 活躍した 水墨画 家 ・ 禅僧 で 、 画 聖 とも 称え られる 。\r\n",
      "▁日本の 水墨画 を 一 変 させた 。\r\n",
      "▁諱は 「 等 楊 ( とう よう ) 」 、 もしくは 「 拙 宗 ( せ っ しゅう ) 」 と号した 。\r\n",
      "▁ 備中国 に 生まれ 、 京都 ・ 相国寺 に入って から 周防国 に移る 。\r\n",
      "▁その後 遣 明 使 に 随行 して 中国 ( 明 ) に渡って 中国の 水墨画 を学んだ 。\r\n",
      "▁ 作品 は 数多く 、 中国 風の 山 水 画 だけでなく 人物 画 や 花鳥 画 も よく した 。\r\n",
      "▁大 胆 な 構図 と 力 強い 筆 線 は非常に 個 性 的な 画 風 を作り 出している 。\r\n",
      "▁ 現存する 作品 のうち 6 点 が 国宝 に指定され ており 、 日本の 画家 のなかで も 別 格 の 評価 を受けている といえる 。\r\n",
      "▁このため 、 花鳥 図屏風 などに 「 伝 雪 舟 筆 」 される 作品 は 大変 多い 。\r\n",
      "▁ 真 筆 である か 専門 家 の間で も 意見 の 分かれ るもの も 多 々 ある 。\r\n"
     ]
    }
   ],
   "source": [
    "! head train.sub.ja"
   ]
  },
  {
   "cell_type": "code",
   "execution_count": 24,
   "metadata": {},
   "outputs": [],
   "source": [
    "! subword-nmt learn-bpe -s 16000 < kftt-data-1.0/data/orig/kyoto-train.en > kyoto_en.codes"
   ]
  },
  {
   "cell_type": "code",
   "execution_count": 25,
   "metadata": {},
   "outputs": [],
   "source": [
    "! subword-nmt apply-bpe -c kyoto_en.codes < kftt-data-1.0/data/orig/kyoto-train.en > train.sub.en\n",
    "! subword-nmt apply-bpe -c kyoto_en.codes < kftt-data-1.0/data/orig/kyoto-dev.en > dev.sub.en\n",
    "! subword-nmt apply-bpe -c kyoto_en.codes < kftt-data-1.0/data/orig/kyoto-test.en > test.sub.en"
   ]
  },
  {
   "cell_type": "code",
   "execution_count": 26,
   "metadata": {},
   "outputs": [
    {
     "name": "stdout",
     "output_type": "stream",
     "text": [
      "K@@ n@@ own as Ses@@ shu (14@@ 20 - 150@@ 6@@ ), he was an ink painter and Zen monk active in the Muromachi period in the latter half of the 15th century, and was called a master pain@@ ter.\r\n",
      "He revol@@ ut@@ ion@@ ized the Japanese ink paint@@ ing.\r\n",
      "He was given the posthumous name \"@@ Toyo@@ \" or \"S@@ es@@ shu (@@ 拙@@ 宗@@ ).\"\r\n",
      "Born in Bicchu Province, he moved to Suo Province after entering S@@ Shokoku-ji Temple in Kyoto.\r\n",
      "Later he accompanied a mission to Ming Dynasty China and learned Chinese ink paint@@ ing.\r\n",
      "His works were man@@ y, including not only Chinese-style landscape paintings, but also portraits and pictures of flowers and bird@@ s.\r\n",
      "His b@@ old compos@@ itions and strong brush st@@ rok@@ es const@@ ituted an extremely distinctive style.\r\n",
      "6 of his ext@@ ant works are designated national treasu@@ res. In@@ de@@ ed, he is considered to be extraordinary among Japanese pain@@ ters.\r\n",
      "For this reason, there are a great many art@@ works that are attributed to him, such as folding scre@@ ens with pictures of flowers and that birds are painted on them.\r\n",
      "There are many works that even experts cannot ag@@ ree if they are really his work or not.\r\n"
     ]
    }
   ],
   "source": [
    "! head train.sub.en"
   ]
  },
  {
   "cell_type": "code",
   "execution_count": 27,
   "metadata": {},
   "outputs": [
    {
     "name": "stdout",
     "output_type": "stream",
     "text": [
      "Namespace(align_suffix=None, alignfile=None, bpe=None, cpu=False, criterion='cross_entropy', dataset_impl='mmap', destdir='data95', empty_cache_freq=0, fp16=False, fp16_init_scale=128, fp16_scale_tolerance=0.0, fp16_scale_window=None, joined_dictionary=False, log_format=None, log_interval=1000, lr_scheduler='fixed', memory_efficient_fp16=False, min_loss_scale=0.0001, no_progress_bar=False, nwordssrc=-1, nwordstgt=-1, only_source=False, optimizer='nag', padding_factor=8, seed=1, source_lang='ja', srcdict=None, target_lang='en', task='translation', tensorboard_logdir='', testpref=None, tgtdict=None, threshold_loss_scale=None, thresholdsrc=0, thresholdtgt=0, tokenizer=None, trainpref='train.sub', user_dir=None, validpref='dev.sub', workers=20)\n",
      "| [ja] Dictionary: 15999 types\n",
      "| [ja] train.sub.ja: 440288 sents, 10735573 tokens, 0.0% replaced by <unk>\n",
      "| [ja] Dictionary: 15999 types\n",
      "| [ja] dev.sub.ja: 1166 sents, 24825 tokens, 0.0121% replaced by <unk>\n",
      "| [en] Dictionary: 20871 types\n",
      "| [en] train.sub.en: 440288 sents, 13280091 tokens, 0.0% replaced by <unk>\n",
      "| [en] Dictionary: 20871 types\n",
      "| [en] dev.sub.en: 1166 sents, 29011 tokens, 0.00345% replaced by <unk>\n",
      "| Wrote preprocessed data to data95\n"
     ]
    }
   ],
   "source": [
    "!fairseq-preprocess -s ja -t en \\\n",
    "    --trainpref train.sub \\\n",
    "    --validpref dev.sub \\\n",
    "    --destdir data95  \\\n",
    "    --workers 20"
   ]
  },
  {
   "cell_type": "code",
   "execution_count": 28,
   "metadata": {},
   "outputs": [
    {
     "name": "stdout",
     "output_type": "stream",
     "text": [
      "/apps/python/3.8.2/lib/python3.8/multiprocessing/resource_tracker.py:216: UserWarning: resource_tracker: There appear to be 80 leaked semaphore objects to clean up at shutdown\n",
      "  warnings.warn('resource_tracker: There appear to be %d '\n"
     ]
    }
   ],
   "source": [
    "!fairseq-train data95 \\\n",
    "    --fp16 \\\n",
    "    --save-dir save95 \\\n",
    "    --max-epoch 10 \\\n",
    "    --arch transformer --share-decoder-input-output-embed \\\n",
    "    --optimizer adam --clip-norm 1.0 \\\n",
    "    --lr 1e-3 --lr-scheduler inverse_sqrt --warmup-updates 2000 \\\n",
    "    --update-freq 1 \\\n",
    "    --dropout 0.2 --weight-decay 0.0001 \\\n",
    "    --criterion label_smoothed_cross_entropy --label-smoothing 0.1 \\\n",
    "    --max-tokens 8000 > 95.log"
   ]
  },
  {
   "cell_type": "code",
   "execution_count": 29,
   "metadata": {},
   "outputs": [],
   "source": [
    "!fairseq-interactive --path save95/checkpoint10.pt data95 < test.sub.ja | grep '^H' | cut -f3 | sed -r 's/(@@ )|(@@ ?$)//g' > 95.out"
   ]
  },
  {
   "cell_type": "code",
   "execution_count": 30,
   "metadata": {},
   "outputs": [],
   "source": [
    "def spacy_tokenize(src, dst):\n",
    "    with open(src) as f, open(dst, 'w') as g:\n",
    "        for x in f:\n",
    "            x = x.strip()\n",
    "            x = ' '.join([doc.text for doc in nlp(x)])\n",
    "            print(x, file=g)\n",
    "spacy_tokenize('95.out', '95.out.spacy')"
   ]
  },
  {
   "cell_type": "code",
   "execution_count": 31,
   "metadata": {},
   "outputs": [
    {
     "name": "stdout",
     "output_type": "stream",
     "text": [
      "Namespace(ignore_case=False, order=4, ref='test.spacy.en', sacrebleu=False, sentence_bleu=False, sys='95.out.spacy')\n",
      "BLEU4 = 20.36, 51.3/25.2/14.7/9.0 (BP=1.000, ratio=1.030, syslen=28463, reflen=27625)\n"
     ]
    }
   ],
   "source": [
    "!fairseq-score --sys 95.out.spacy --ref test.spacy.en"
   ]
  },
  {
   "cell_type": "code",
   "execution_count": 32,
   "metadata": {},
   "outputs": [],
   "source": [
    "%%bash\n",
    "for N in `seq 1 10` ; do\n",
    "    fairseq-interactive --path save95/checkpoint10.pt --beam $N data95 < test.sub.ja | grep '^H' | cut -f3 | sed -r 's/(@@ )|(@@ ?$)//g' > 95.$N.out\n",
    "done"
   ]
  },
  {
   "cell_type": "code",
   "execution_count": 33,
   "metadata": {},
   "outputs": [],
   "source": [
    "for i in range(1, 11):\n",
    "    spacy_tokenize(f'95.{i}.out', f'95.{i}.out.spacy')"
   ]
  },
  {
   "cell_type": "code",
   "execution_count": 34,
   "metadata": {},
   "outputs": [],
   "source": [
    "%%bash\n",
    "for N in `seq 1 10` ; do\n",
    "    fairseq-score --sys 95.$N.out.spacy --ref test.spacy.en > 95.$N.score\n",
    "done"
   ]
  },
  {
   "cell_type": "code",
   "execution_count": 35,
   "metadata": {},
   "outputs": [
    {
     "data": {
      "image/png": "[encoded data removed]",
      "text/plain": [
       "<Figure size 432x288 with 1 Axes>"
      ]
     },
     "metadata": {
      "needs_background": "light"
     },
     "output_type": "display_data"
    }
   ],
   "source": [
    "xs = range(1, 11)\n",
    "ys = [read_score(f'95.{x}.score') for x in xs]\n",
    "plt.plot(xs, ys)\n",
    "plt.show()"
   ]
  },
  {
   "cell_type": "markdown",
   "metadata": {},
   "source": [
    "### 96. 学習過程の可視化"
   ]
  },
  {
   "cell_type": "code",
   "execution_count": 37,
   "metadata": {},
   "outputs": [
    {
     "name": "stdout",
     "output_type": "stream",
     "text": [
      "/apps/python/3.8.2/lib/python3.8/multiprocessing/resource_tracker.py:216: UserWarning: resource_tracker: There appear to be 40 leaked semaphore objects to clean up at shutdown\n",
      "  warnings.warn('resource_tracker: There appear to be %d '\n"
     ]
    }
   ],
   "source": [
    "!fairseq-train data95 \\\n",
    "    --fp16 \\\n",
    "    --tensorboard-logdir log96 \\\n",
    "    --save-dir save96 \\\n",
    "    --max-epoch 5 \\\n",
    "    --arch transformer --share-decoder-input-output-embed \\\n",
    "    --optimizer adam --clip-norm 1.0 \\\n",
    "    --lr 1e-3 --lr-scheduler inverse_sqrt --warmup-updates 2000 \\\n",
    "    --dropout 0.2 --weight-decay 0.0001 \\\n",
    "    --update-freq 1 \\\n",
    "    --criterion label_smoothed_cross_entropy --label-smoothing 0.1 \\\n",
    "    --max-tokens 8000 > 96.log"
   ]
  },
  {
   "cell_type": "markdown",
   "metadata": {},
   "source": [
    "pip install tensorboard tensorboardXをして，からtensorboradを起動してlocalhost:6006(など)にアクセスすると以下のような画面が出るはず\n",
    "\n",
    "<img src='board.png'> "
   ]
  },
  {
   "cell_type": "markdown",
   "metadata": {},
   "source": [
    "### 97. ハイパー・パラメータの調整"
   ]
  },
  {
   "cell_type": "code",
   "execution_count": 38,
   "metadata": {},
   "outputs": [
    {
     "name": "stdout",
     "output_type": "stream",
     "text": [
      "/apps/python/3.8.2/lib/python3.8/multiprocessing/resource_tracker.py:216: UserWarning: resource_tracker: There appear to be 80 leaked semaphore objects to clean up at shutdown\n",
      "  warnings.warn('resource_tracker: There appear to be %d '\n"
     ]
    }
   ],
   "source": [
    "!fairseq-train data95 \\\n",
    "    --fp16 \\\n",
    "    --save-dir save97_1 \\\n",
    "    --max-epoch 10 \\\n",
    "    --arch transformer --share-decoder-input-output-embed \\\n",
    "    --optimizer adam --clip-norm 1.0 \\\n",
    "    --lr 1e-3 --lr-scheduler inverse_sqrt --warmup-updates 2000 \\\n",
    "    --dropout 0.1 --weight-decay 0.0001 \\\n",
    "    --update-freq 1 \\\n",
    "    --criterion label_smoothed_cross_entropy --label-smoothing 0.1 \\\n",
    "    --max-tokens 8000 > 97_1.log"
   ]
  },
  {
   "cell_type": "code",
   "execution_count": 39,
   "metadata": {},
   "outputs": [
    {
     "name": "stdout",
     "output_type": "stream",
     "text": [
      "/apps/python/3.8.2/lib/python3.8/multiprocessing/resource_tracker.py:216: UserWarning: resource_tracker: There appear to be 80 leaked semaphore objects to clean up at shutdown\n",
      "  warnings.warn('resource_tracker: There appear to be %d '\n"
     ]
    }
   ],
   "source": [
    "!fairseq-train data95 \\\n",
    "    --fp16 \\\n",
    "    --save-dir save97_3 \\\n",
    "    --max-epoch 10 \\\n",
    "    --arch transformer --share-decoder-input-output-embed \\\n",
    "    --optimizer adam --clip-norm 1.0 \\\n",
    "    --lr 1e-3 --lr-scheduler inverse_sqrt --warmup-updates 2000 \\\n",
    "    --dropout 0.3 --weight-decay 0.0001 \\\n",
    "    --update-freq 1 \\\n",
    "    --criterion label_smoothed_cross_entropy --label-smoothing 0.1 \\\n",
    "    --max-tokens 8000 > 97_3.log"
   ]
  },
  {
   "cell_type": "code",
   "execution_count": 40,
   "metadata": {},
   "outputs": [
    {
     "name": "stdout",
     "output_type": "stream",
     "text": [
      "/apps/python/3.8.2/lib/python3.8/multiprocessing/resource_tracker.py:216: UserWarning: resource_tracker: There appear to be 80 leaked semaphore objects to clean up at shutdown\n",
      "  warnings.warn('resource_tracker: There appear to be %d '\n"
     ]
    }
   ],
   "source": [
    "!fairseq-train data95 \\\n",
    "    --fp16 \\\n",
    "    --save-dir save97_5 \\\n",
    "    --max-epoch 10 \\\n",
    "    --arch transformer --share-decoder-input-output-embed \\\n",
    "    --optimizer adam --clip-norm 1.0 \\\n",
    "    --lr 1e-3 --lr-scheduler inverse_sqrt --warmup-updates 2000 \\\n",
    "    --dropout 0.5 --weight-decay 0.0001 \\\n",
    "    --update-freq 1 \\\n",
    "    --criterion label_smoothed_cross_entropy --label-smoothing 0.1 \\\n",
    "    --max-tokens 8000 > 97_5.log"
   ]
  },
  {
   "cell_type": "code",
   "execution_count": 41,
   "metadata": {},
   "outputs": [],
   "source": [
    "!fairseq-interactive --path save97_1/checkpoint10.pt data95 < test.sub.ja | grep '^H' | cut -f3 | sed -r 's/(@@ )|(@@ ?$)//g' > 97_1.out\n",
    "!fairseq-interactive --path save97_3/checkpoint10.pt data95 < test.sub.ja | grep '^H' | cut -f3 | sed -r 's/(@@ )|(@@ ?$)//g' > 97_3.out\n",
    "!fairseq-interactive --path save97_5/checkpoint10.pt data95 < test.sub.ja | grep '^H' | cut -f3 | sed -r 's/(@@ )|(@@ ?$)//g' > 97_5.out"
   ]
  },
  {
   "cell_type": "code",
   "execution_count": 42,
   "metadata": {},
   "outputs": [],
   "source": [
    "spacy_tokenize('97_1.out', '97_1.out.spacy')\n",
    "spacy_tokenize('97_3.out', '97_3.out.spacy')\n",
    "spacy_tokenize('97_5.out', '97_5.out.spacy')"
   ]
  },
  {
   "cell_type": "code",
   "execution_count": 43,
   "metadata": {},
   "outputs": [
    {
     "name": "stdout",
     "output_type": "stream",
     "text": [
      "Namespace(ignore_case=False, order=4, ref='test.spacy.en', sacrebleu=False, sentence_bleu=False, sys='97_1.out.spacy')\n",
      "BLEU4 = 21.42, 51.7/26.3/15.7/9.9 (BP=1.000, ratio=1.055, syslen=29132, reflen=27625)\n",
      "Namespace(ignore_case=False, order=4, ref='test.spacy.en', sacrebleu=False, sentence_bleu=False, sys='97_3.out.spacy')\n",
      "BLEU4 = 12.99, 38.5/16.5/8.8/5.1 (BP=1.000, ratio=1.225, syslen=33832, reflen=27625)\n",
      "Namespace(ignore_case=False, order=4, ref='test.spacy.en', sacrebleu=False, sentence_bleu=False, sys='97_5.out.spacy')\n",
      "BLEU4 = 3.49, 21.8/4.9/1.8/0.8 (BP=1.000, ratio=1.122, syslen=31008, reflen=27625)\n"
     ]
    }
   ],
   "source": [
    "!fairseq-score --sys 97_1.out.spacy --ref test.spacy.en\n",
    "!fairseq-score --sys 97_3.out.spacy --ref test.spacy.en\n",
    "!fairseq-score --sys 97_5.out.spacy --ref test.spacy.en"
   ]
  },
  {
   "cell_type": "code",
   "execution_count": 44,
   "metadata": {},
   "outputs": [
    {
     "name": "stdout",
     "output_type": "stream",
     "text": [
      "/apps/python/3.8.2/lib/python3.8/multiprocessing/resource_tracker.py:216: UserWarning: resource_tracker: There appear to be 80 leaked semaphore objects to clean up at shutdown\n",
      "  warnings.warn('resource_tracker: There appear to be %d '\n"
     ]
    }
   ],
   "source": [
    "!fairseq-train data95 \\\n",
    "    --fp16 \\\n",
    "    --save-dir save97a \\\n",
    "    --max-epoch 10 \\\n",
    "    --arch transformer --share-decoder-input-output-embed \\\n",
    "    --optimizer adam --clip-norm 1.0 \\\n",
    "    --lr 5e-4 --lr-scheduler inverse_sqrt --warmup-updates 2000 \\\n",
    "    --dropout 0.1 --weight-decay 0.0001 \\\n",
    "    --update-freq 1 \\\n",
    "    --criterion label_smoothed_cross_entropy --label-smoothing 0.1 \\\n",
    "    --max-tokens 8000 > 97a.log"
   ]
  },
  {
   "cell_type": "code",
   "execution_count": 50,
   "metadata": {},
   "outputs": [
    {
     "name": "stdout",
     "output_type": "stream",
     "text": [
      "                                                                                \r"
     ]
    }
   ],
   "source": [
    "!fairseq-train data95 \\\n",
    "    --fp16 \\\n",
    "    --save-dir save97b \\\n",
    "    --max-epoch 10 \\\n",
    "    --arch transformer --share-decoder-input-output-embed \\\n",
    "    --optimizer adam --clip-norm 1.0 \\\n",
    "    --lr 2e-4 --lr-scheduler inverse_sqrt --warmup-updates 2000 \\\n",
    "    --dropout 0.1 --weight-decay 0.0001 \\\n",
    "    --update-freq 1 \\\n",
    "    --criterion label_smoothed_cross_entropy --label-smoothing 0.1 \\\n",
    "    --max-tokens 8000 > 97b.log"
   ]
  },
  {
   "cell_type": "code",
   "execution_count": 51,
   "metadata": {},
   "outputs": [
    {
     "name": "stdout",
     "output_type": "stream",
     "text": [
      "/apps/python/3.8.2/lib/python3.8/multiprocessing/resource_tracker.py:216: UserWarning: resource_tracker: There appear to be 80 leaked semaphore objects to clean up at shutdown\n",
      "  warnings.warn('resource_tracker: There appear to be %d '\n"
     ]
    }
   ],
   "source": [
    "!fairseq-train data95 \\\n",
    "    --fp16 \\\n",
    "    --save-dir save97c \\\n",
    "    --max-epoch 10 \\\n",
    "    --arch transformer --share-decoder-input-output-embed \\\n",
    "    --optimizer adam --clip-norm 1.0 \\\n",
    "    --lr 1e-4 --lr-scheduler inverse_sqrt --warmup-updates 2000 \\\n",
    "    --dropout 0.1 --weight-decay 0.0001 \\\n",
    "    --update-freq 1 \\\n",
    "    --criterion label_smoothed_cross_entropy --label-smoothing 0.1 \\\n",
    "    --max-tokens 8000 > 97c.log"
   ]
  },
  {
   "cell_type": "code",
   "execution_count": 52,
   "metadata": {},
   "outputs": [],
   "source": [
    "!fairseq-interactive --path save97a/checkpoint10.pt data95 < test.sub.ja | grep '^H' | cut -f3 | sed -r 's/(@@ )|(@@ ?$)//g' > 97a.out\n",
    "!fairseq-interactive --path save97b/checkpoint10.pt data95 < test.sub.ja | grep '^H' | cut -f3 | sed -r 's/(@@ )|(@@ ?$)//g' > 97b.out\n",
    "!fairseq-interactive --path save97c/checkpoint10.pt data95 < test.sub.ja | grep '^H' | cut -f3 | sed -r 's/(@@ )|(@@ ?$)//g' > 97c.out"
   ]
  },
  {
   "cell_type": "code",
   "execution_count": 53,
   "metadata": {},
   "outputs": [],
   "source": [
    "spacy_tokenize('97a.out', '97a.out.spacy')\n",
    "spacy_tokenize('97b.out', '97b.out.spacy')\n",
    "spacy_tokenize('97c.out', '97c.out.spacy')"
   ]
  },
  {
   "cell_type": "code",
   "execution_count": 54,
   "metadata": {},
   "outputs": [
    {
     "name": "stdout",
     "output_type": "stream",
     "text": [
      "Namespace(ignore_case=False, order=4, ref='test.spacy.en', sacrebleu=False, sentence_bleu=False, sys='97a.out.spacy')\n",
      "BLEU4 = 20.73, 52.2/25.7/14.9/9.3 (BP=1.000, ratio=1.011, syslen=27936, reflen=27625)\n",
      "Namespace(ignore_case=False, order=4, ref='test.spacy.en', sacrebleu=False, sentence_bleu=False, sys='97b.out.spacy')\n",
      "BLEU4 = 17.38, 47.0/21.6/12.2/7.4 (BP=1.000, ratio=1.000, syslen=27629, reflen=27625)\n",
      "Namespace(ignore_case=False, order=4, ref='test.spacy.en', sacrebleu=False, sentence_bleu=False, sys='97c.out.spacy')\n",
      "BLEU4 = 10.50, 34.6/13.5/6.9/3.8 (BP=1.000, ratio=1.159, syslen=32019, reflen=27625)\n"
     ]
    }
   ],
   "source": [
    "!fairseq-score --sys 97a.out.spacy --ref test.spacy.en\n",
    "!fairseq-score --sys 97b.out.spacy --ref test.spacy.en\n",
    "!fairseq-score --sys 97c.out.spacy --ref test.spacy.en"
   ]
  },
  {
   "cell_type": "markdown",
   "metadata": {},
   "source": [
    "### 98. ドメイン適応"
   ]
  },
  {
   "cell_type": "code",
   "execution_count": 55,
   "metadata": {},
   "outputs": [],
   "source": [
    "import tarfile"
   ]
  },
  {
   "cell_type": "code",
   "execution_count": 56,
   "metadata": {},
   "outputs": [],
   "source": [
    "with tarfile.open('en-ja.tar.gz') as tar:\n",
    "    for f in tar.getmembers():\n",
    "        if f.name.endswith('txt'):\n",
    "            text = tar.extractfile(f).read().decode('utf-8')\n",
    "            break"
   ]
  },
  {
   "cell_type": "code",
   "execution_count": 57,
   "metadata": {},
   "outputs": [],
   "source": [
    "data = text.splitlines()\n",
    "data = [x.split('\\t') for x in data]\n",
    "data = [x for x in data if len(x) == 4]\n",
    "data = [[x[3], x[2]] for x in data]"
   ]
  },
  {
   "cell_type": "code",
   "execution_count": 58,
   "metadata": {},
   "outputs": [],
   "source": [
    "with open('jparacrawl.ja', 'w') as f, open('jparacrawl.en', 'w') as g:\n",
    "    for j, e in data:\n",
    "        print(j, file=f)\n",
    "        print(e, file=g)"
   ]
  },
  {
   "cell_type": "code",
   "execution_count": 59,
   "metadata": {},
   "outputs": [],
   "source": [
    "with open('jparacrawl.ja') as f, open('train.jparacrawl.ja', 'w') as g:\n",
    "    for x in f:\n",
    "        x = x.strip()\n",
    "        x = re.sub(r'\\s+', ' ', x)\n",
    "        x = sp.encode_as_pieces(x)\n",
    "        x = ' '.join(x)\n",
    "        print(x, file=g)"
   ]
  },
  {
   "cell_type": "code",
   "execution_count": 60,
   "metadata": {},
   "outputs": [],
   "source": [
    "! subword-nmt apply-bpe -c kyoto_en.codes < jparacrawl.en > train.jparacrawl.en"
   ]
  },
  {
   "cell_type": "code",
   "execution_count": 61,
   "metadata": {},
   "outputs": [
    {
     "name": "stdout",
     "output_type": "stream",
     "text": [
      "Namespace(align_suffix=None, alignfile=None, bpe=None, cpu=False, criterion='cross_entropy', dataset_impl='mmap', destdir='data98', empty_cache_freq=0, fp16=False, fp16_init_scale=128, fp16_scale_tolerance=0.0, fp16_scale_window=None, joined_dictionary=False, log_format=None, log_interval=1000, lr_scheduler='fixed', memory_efficient_fp16=False, min_loss_scale=0.0001, no_progress_bar=False, nwordssrc=-1, nwordstgt=-1, only_source=False, optimizer='nag', padding_factor=8, seed=1, source_lang='ja', srcdict=None, target_lang='en', task='translation', tensorboard_logdir='', testpref=None, tgtdict=None, threshold_loss_scale=None, thresholdsrc=0, thresholdtgt=0, tokenizer=None, trainpref='train.jparacrawl', user_dir=None, validpref='dev.sub', workers=20)\n",
      "| [ja] Dictionary: 31143 types\n",
      "| [ja] train.jparacrawl.ja: 10120012 sents, 458025288 tokens, 0.0% replaced by <unk>\n",
      "| [ja] Dictionary: 31143 types\n",
      "| [ja] dev.sub.ja: 1166 sents, 24825 tokens, 0.29% replaced by <unk>\n",
      "| [en] Dictionary: 29423 types\n",
      "| [en] train.jparacrawl.en: 10120012 sents, 386654564 tokens, 0.0% replaced by <unk>\n",
      "| [en] Dictionary: 29423 types\n",
      "| [en] dev.sub.en: 1166 sents, 29011 tokens, 0.279% replaced by <unk>\n",
      "| Wrote preprocessed data to data98\n"
     ]
    }
   ],
   "source": [
    "!fairseq-preprocess -s ja -t en \\\n",
    "    --trainpref train.jparacrawl \\\n",
    "    --validpref dev.sub \\\n",
    "    --destdir data98  \\\n",
    "    --workers 20"
   ]
  },
  {
   "cell_type": "code",
   "execution_count": 63,
   "metadata": {},
   "outputs": [
    {
     "name": "stdout",
     "output_type": "stream",
     "text": [
      "/apps/python/3.8.2/lib/python3.8/multiprocessing/resource_tracker.py:216: UserWarning: resource_tracker: There appear to be 24 leaked semaphore objects to clean up at shutdown\n",
      "  warnings.warn('resource_tracker: There appear to be %d '\n"
     ]
    }
   ],
   "source": [
    "!fairseq-train data98 \\\n",
    "    --fp16 \\\n",
    "    --save-dir save98_1 \\\n",
    "    --max-epoch 3 \\\n",
    "    --arch transformer --share-decoder-input-output-embed \\\n",
    "    --optimizer adam --clip-norm 1.0 \\\n",
    "    --lr 1e-4 --lr-scheduler inverse_sqrt --warmup-updates 4000 \\\n",
    "    --dropout 0.1 --weight-decay 0.0001 \\\n",
    "    --criterion label_smoothed_cross_entropy --label-smoothing 0.1 \\\n",
    "    --max-tokens 8000 > 98_1.log"
   ]
  },
  {
   "cell_type": "code",
   "execution_count": 67,
   "metadata": {},
   "outputs": [],
   "source": [
    "!fairseq-interactive --path save98_1/checkpoint3.pt data98 < test.sub.ja | grep '^H' | cut -f3 | sed -r 's/(@@ )|(@@ ?$)//g' > 98_1.out"
   ]
  },
  {
   "cell_type": "code",
   "execution_count": 68,
   "metadata": {},
   "outputs": [],
   "source": [
    "spacy_tokenize('98_1.out', '98_1.out.spacy')"
   ]
  },
  {
   "cell_type": "code",
   "execution_count": 69,
   "metadata": {},
   "outputs": [
    {
     "name": "stdout",
     "output_type": "stream",
     "text": [
      "Namespace(ignore_case=False, order=4, ref='test.spacy.en', sacrebleu=False, sentence_bleu=False, sys='98_1.out.spacy')\n",
      "BLEU4 = 8.80, 42.9/14.7/6.3/3.2 (BP=0.830, ratio=0.843, syslen=23286, reflen=27625)\n"
     ]
    }
   ],
   "source": [
    "!fairseq-score --sys 98_1.out.spacy --ref test.spacy.en"
   ]
  },
  {
   "cell_type": "code",
   "execution_count": 70,
   "metadata": {},
   "outputs": [
    {
     "name": "stdout",
     "output_type": "stream",
     "text": [
      "Namespace(align_suffix=None, alignfile=None, bpe=None, cpu=False, criterion='cross_entropy', dataset_impl='mmap', destdir='data98_2', empty_cache_freq=0, fp16=False, fp16_init_scale=128, fp16_scale_tolerance=0.0, fp16_scale_window=None, joined_dictionary=False, log_format=None, log_interval=1000, lr_scheduler='fixed', memory_efficient_fp16=False, min_loss_scale=0.0001, no_progress_bar=False, nwordssrc=-1, nwordstgt=-1, only_source=False, optimizer='nag', padding_factor=8, seed=1, source_lang='ja', srcdict='data98/dict.ja.txt', target_lang='en', task='translation', tensorboard_logdir='', testpref=None, tgtdict='data98/dict.en.txt', threshold_loss_scale=None, thresholdsrc=0, thresholdtgt=0, tokenizer=None, trainpref='train.sub', user_dir=None, validpref='dev.sub', workers=20)\n",
      "| [ja] Dictionary: 31143 types\n",
      "| [ja] train.sub.ja: 440288 sents, 10735573 tokens, 0.239% replaced by <unk>\n",
      "| [ja] Dictionary: 31143 types\n",
      "| [ja] dev.sub.ja: 1166 sents, 24825 tokens, 0.29% replaced by <unk>\n",
      "| [en] Dictionary: 29423 types\n",
      "| [en] train.sub.en: 440288 sents, 13280091 tokens, 0.222% replaced by <unk>\n",
      "| [en] Dictionary: 29423 types\n",
      "| [en] dev.sub.en: 1166 sents, 29011 tokens, 0.279% replaced by <unk>\n",
      "| Wrote preprocessed data to data98_2\n"
     ]
    }
   ],
   "source": [
    "!fairseq-preprocess -s ja -t en \\\n",
    "    --trainpref train.sub \\\n",
    "    --validpref dev.sub \\\n",
    "    --tgtdict data98/dict.en.txt \\\n",
    "    --srcdict data98/dict.ja.txt \\\n",
    "    --destdir data98_2  \\\n",
    "    --workers 20"
   ]
  },
  {
   "cell_type": "code",
   "execution_count": 72,
   "metadata": {},
   "outputs": [
    {
     "name": "stdout",
     "output_type": "stream",
     "text": [
      "/apps/python/3.8.2/lib/python3.8/multiprocessing/resource_tracker.py:216: UserWarning: resource_tracker: There appear to be 56 leaked semaphore objects to clean up at shutdown\n",
      "  warnings.warn('resource_tracker: There appear to be %d '\n"
     ]
    }
   ],
   "source": [
    "!fairseq-train data98_2 \\\n",
    "    --fp16 \\\n",
    "    --restore-file save98_1/checkpoint3.pt \\\n",
    "    --save-dir save98_2 \\\n",
    "    --max-epoch 10 \\\n",
    "    --arch transformer --share-decoder-input-output-embed \\\n",
    "    --optimizer adam --clip-norm 1.0 \\\n",
    "    --lr 1e-3 --lr-scheduler inverse_sqrt --warmup-updates 2000 \\\n",
    "    --dropout 0.1 --weight-decay 0.0001 \\\n",
    "    --criterion label_smoothed_cross_entropy --label-smoothing 0.1 \\\n",
    "    --max-tokens 8000 > 98_2.log"
   ]
  },
  {
   "cell_type": "code",
   "execution_count": 73,
   "metadata": {},
   "outputs": [],
   "source": [
    "!fairseq-interactive --path save98_2/checkpoint10.pt data98_2 < test.sub.ja | grep '^H' | cut -f3 | sed -r 's/(@@ )|(@@ ?$)//g' > 98_2.out"
   ]
  },
  {
   "cell_type": "code",
   "execution_count": 74,
   "metadata": {},
   "outputs": [],
   "source": [
    "spacy_tokenize('98_2.out', '98_2.out.spacy')"
   ]
  },
  {
   "cell_type": "code",
   "execution_count": 75,
   "metadata": {},
   "outputs": [
    {
     "name": "stdout",
     "output_type": "stream",
     "text": [
      "Namespace(ignore_case=False, order=4, ref='test.spacy.en', sacrebleu=False, sentence_bleu=False, sys='98_2.out.spacy')\n",
      "BLEU4 = 22.85, 54.9/28.0/16.7/10.7 (BP=0.998, ratio=0.998, syslen=27572, reflen=27625)\n"
     ]
    }
   ],
   "source": [
    "!fairseq-score --sys 98_2.out.spacy --ref test.spacy.en"
   ]
  },
  {
   "cell_type": "markdown",
   "metadata": {},
   "source": [
    "### 99. 翻訳サーバの構築"
   ]
  },
  {
   "cell_type": "markdown",
   "metadata": {},
   "source": [
    "ウェブアプリケーションの形式でやるべきなので，jupyter notebook上では無理です．"
   ]
  }
 ],
 "metadata": {
  "kernelspec": {
   "display_name": "Python 3",
   "language": "python",
   "name": "python3"
  },
  "language_info": {
   "codemirror_mode": {
    "name": "ipython",
    "version": 3
   },
   "file_extension": ".py",
   "mimetype": "text/x-python",
   "name": "python",
   "nbconvert_exporter": "python",
   "pygments_lexer": "ipython3",
   "version": "3.8.2"
  }
 },
 "nbformat": 4,
 "nbformat_minor": 4
}
