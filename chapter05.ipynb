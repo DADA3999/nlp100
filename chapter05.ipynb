{
 "cells": [
  {
   "cell_type": "code",
   "execution_count": 1,
   "metadata": {},
   "outputs": [],
   "source": [
    "! cat data/neko.txt | cabocha -f3 > data/neko.txt.cabocha"
   ]
  },
  {
   "cell_type": "markdown",
   "metadata": {},
   "source": [
    "### 40. 係り受け解析結果の読み込み（形態素）"
   ]
  },
  {
   "cell_type": "code",
   "execution_count": 2,
   "metadata": {},
   "outputs": [],
   "source": [
    "class Morph:\n",
    "    def __init__(self, token):\n",
    "        self.surface = token.text\n",
    "        feature = token.attrib['feature'].split(',')\n",
    "        self.base = feature[6]\n",
    "        self.pos = feature[0]\n",
    "        self.pos1 = feature[1]\n",
    "        \n",
    "    def __repr__(self):\n",
    "        return self.surface"
   ]
  },
  {
   "cell_type": "code",
   "execution_count": 3,
   "metadata": {},
   "outputs": [],
   "source": [
    "import xml.etree.ElementTree as ET\n",
    "\n",
    "with open(\"data/neko.txt.cabocha\") as f:\n",
    "    root = ET.fromstring(\"<sentences>\" + f.read() + \"</sentences>\")"
   ]
  },
  {
   "cell_type": "code",
   "execution_count": 4,
   "metadata": {},
   "outputs": [],
   "source": [
    "neko = []\n",
    "for sent in root:\n",
    "    sent = [chunk for chunk in sent]\n",
    "    sent = [Morph(token) for chunk in sent for token in chunk]\n",
    "    neko.append(sent)"
   ]
  },
  {
   "cell_type": "code",
   "execution_count": 5,
   "metadata": {},
   "outputs": [
    {
     "name": "stdout",
     "output_type": "stream",
     "text": [
      "　\n",
      "吾輩\n",
      "は\n",
      "猫\n",
      "で\n",
      "ある\n",
      "。\n"
     ]
    }
   ],
   "source": [
    "for x in neko[2]:\n",
    "    print(x)"
   ]
  },
  {
   "cell_type": "markdown",
   "metadata": {},
   "source": [
    "### 41. 係り受け解析結果の読み込み（文節・係り受け）"
   ]
  },
  {
   "cell_type": "code",
   "execution_count": 6,
   "metadata": {},
   "outputs": [],
   "source": [
    "import re"
   ]
  },
  {
   "cell_type": "code",
   "execution_count": 7,
   "metadata": {},
   "outputs": [],
   "source": [
    "class Chunk(list):\n",
    "    def __init__(self, chunk):\n",
    "        self.morphs = [Morph(morph) for morph in chunk]\n",
    "        super().__init__(self.morphs)\n",
    "        self.dst = int(chunk.attrib['link'])\n",
    "        self.srcs = []\n",
    "    \n",
    "    def __repr__(self): # 問42で使う\n",
    "        return re.sub(r'[、。]', '', ''.join(map(str, self)))"
   ]
  },
  {
   "cell_type": "markdown",
   "metadata": {},
   "source": [
    "文のクラスも作ってみます"
   ]
  },
  {
   "cell_type": "code",
   "execution_count": 8,
   "metadata": {},
   "outputs": [],
   "source": [
    "class Sentence(list):\n",
    "    def __init__(self, sent):\n",
    "        self.chunks = [Chunk(chunk) for chunk in sent]\n",
    "        super().__init__(self.chunks)\n",
    "        for i, chunk in enumerate(self.chunks):\n",
    "            if chunk.dst != -1:\n",
    "                self.chunks[chunk.dst].srcs.append(i)"
   ]
  },
  {
   "cell_type": "code",
   "execution_count": 9,
   "metadata": {},
   "outputs": [],
   "source": [
    "neko = [Sentence(sent) for sent in root]"
   ]
  },
  {
   "cell_type": "code",
   "execution_count": 10,
   "metadata": {},
   "outputs": [],
   "source": [
    "from tabulate import tabulate"
   ]
  },
  {
   "cell_type": "code",
   "execution_count": 11,
   "metadata": {},
   "outputs": [
    {
     "data": {
      "text/html": [
       "<table>\n",
       "<thead>\n",
       "<tr><th style=\"text-align: right;\">  番号</th><th>文節      </th><th style=\"text-align: right;\">  係り先</th></tr>\n",
       "</thead>\n",
       "<tbody>\n",
       "<tr><td style=\"text-align: right;\">     0</td><td>吾輩は    </td><td style=\"text-align: right;\">       5</td></tr>\n",
       "<tr><td style=\"text-align: right;\">     1</td><td>ここで    </td><td style=\"text-align: right;\">       2</td></tr>\n",
       "<tr><td style=\"text-align: right;\">     2</td><td>始めて    </td><td style=\"text-align: right;\">       3</td></tr>\n",
       "<tr><td style=\"text-align: right;\">     3</td><td>人間という</td><td style=\"text-align: right;\">       4</td></tr>\n",
       "<tr><td style=\"text-align: right;\">     4</td><td>ものを    </td><td style=\"text-align: right;\">       5</td></tr>\n",
       "<tr><td style=\"text-align: right;\">     5</td><td>見た。    </td><td style=\"text-align: right;\">      -1</td></tr>\n",
       "</tbody>\n",
       "</table>"
      ],
      "text/plain": [
       "'<table>\\n<thead>\\n<tr><th style=\"text-align: right;\">  番号</th><th>文節      </th><th style=\"text-align: right;\">  係り先</th></tr>\\n</thead>\\n<tbody>\\n<tr><td style=\"text-align: right;\">     0</td><td>吾輩は    </td><td style=\"text-align: right;\">       5</td></tr>\\n<tr><td style=\"text-align: right;\">     1</td><td>ここで    </td><td style=\"text-align: right;\">       2</td></tr>\\n<tr><td style=\"text-align: right;\">     2</td><td>始めて    </td><td style=\"text-align: right;\">       3</td></tr>\\n<tr><td style=\"text-align: right;\">     3</td><td>人間という</td><td style=\"text-align: right;\">       4</td></tr>\\n<tr><td style=\"text-align: right;\">     4</td><td>ものを    </td><td style=\"text-align: right;\">       5</td></tr>\\n<tr><td style=\"text-align: right;\">     5</td><td>見た。    </td><td style=\"text-align: right;\">      -1</td></tr>\\n</tbody>\\n</table>'"
      ]
     },
     "execution_count": 11,
     "metadata": {},
     "output_type": "execute_result"
    }
   ],
   "source": [
    "table = [\n",
    "    [''.join([morph.surface for morph in chunk]), chunk.dst]\n",
    "    for chunk in neko[7]\n",
    "]\n",
    "tabulate(table, tablefmt = 'html', headers = ['番号', '文節', '係り先'], showindex = 'always')"
   ]
  },
  {
   "cell_type": "markdown",
   "metadata": {},
   "source": [
    "### 42. 係り元と係り先の文節の表示"
   ]
  },
  {
   "cell_type": "code",
   "execution_count": 12,
   "metadata": {},
   "outputs": [
    {
     "name": "stdout",
     "output_type": "stream",
     "text": [
      "吾輩は\t見た\n",
      "ここで\t始めて\n",
      "始めて\t人間という\n",
      "人間という\tものを\n",
      "ものを\t見た\n"
     ]
    }
   ],
   "source": [
    "sent = neko[7]\n",
    "for chunk in sent:\n",
    "    if chunk.dst != -1:\n",
    "        src = chunk\n",
    "        dst = sent[chunk.dst]\n",
    "        print(f'{src}\\t{dst}')"
   ]
  },
  {
   "cell_type": "markdown",
   "metadata": {},
   "source": [
    "### 43. 名詞を含む文節が動詞を含む文節に係るものを抽出"
   ]
  },
  {
   "cell_type": "code",
   "execution_count": 13,
   "metadata": {},
   "outputs": [],
   "source": [
    "def has_noun(chunk):\n",
    "    return any(morph.pos == '名詞' for morph in chunk)\n",
    "\n",
    "def has_verb(chunk):\n",
    "    return any(morph.pos == '動詞' for morph in chunk)"
   ]
  },
  {
   "cell_type": "code",
   "execution_count": 14,
   "metadata": {},
   "outputs": [
    {
     "name": "stdout",
     "output_type": "stream",
     "text": [
      "吾輩は\t見た\n",
      "ここで\t始めて\n",
      "ものを\t見た\n"
     ]
    }
   ],
   "source": [
    "sent = neko[7]\n",
    "for chunk in sent:\n",
    "    if chunk.dst != -1 and has_noun(chunk) and has_verb(sent[chunk.dst]):\n",
    "        src = chunk\n",
    "        dst = sent[chunk.dst]\n",
    "        print(f'{src}\\t{dst}')"
   ]
  },
  {
   "cell_type": "markdown",
   "metadata": {},
   "source": [
    "### 44. 係り受け木の可視化"
   ]
  },
  {
   "cell_type": "code",
   "execution_count": 15,
   "metadata": {},
   "outputs": [],
   "source": [
    "from pydot import Dot, Edge, Node\n",
    "from PIL import Image"
   ]
  },
  {
   "cell_type": "code",
   "execution_count": 16,
   "metadata": {},
   "outputs": [
    {
     "data": {
      "image/png": "[encoded data removed]",
      "text/plain": [
       "<PIL.PngImagePlugin.PngImageFile image mode=RGBA size=265x443 at 0x7F3173FE9AF0>"
      ]
     },
     "execution_count": 16,
     "metadata": {},
     "output_type": "execute_result"
    }
   ],
   "source": [
    "sent = neko[7]\n",
    "\n",
    "graph = Dot(graph_type = 'digraph')\n",
    "\n",
    "# 節を作る\n",
    "for i, chunk in enumerate(sent):\n",
    "    node = Node(i, label = chunk)\n",
    "    graph.add_node(node)\n",
    "    \n",
    "# 枝を作る\n",
    "for i, chunk in enumerate(sent):\n",
    "    if chunk.dst != -1:\n",
    "        edge = Edge(i, chunk.dst)\n",
    "        graph.add_edge(edge)\n",
    "        \n",
    "graph.write_png('sent.png')\n",
    "Image.open('sent.png')"
   ]
  },
  {
   "cell_type": "markdown",
   "metadata": {},
   "source": [
    "### 45. 動詞の格パターンの抽出"
   ]
  },
  {
   "cell_type": "code",
   "execution_count": 17,
   "metadata": {},
   "outputs": [],
   "source": [
    "def get_first_verb(chunk):\n",
    "    for morph in chunk:\n",
    "        if morph.pos == '動詞':\n",
    "            return morph.base\n",
    "\n",
    "def get_last_case(chunk):\n",
    "    for morph in chunk[::-1]:\n",
    "        if morph.pos == '助詞':\n",
    "            return morph.surface\n",
    "        \n",
    "def extract_cases(srcs):\n",
    "    xs = [get_last_case(src) for src in srcs]\n",
    "    xs = [x for x in xs if x]\n",
    "    xs.sort()\n",
    "    return xs"
   ]
  },
  {
   "cell_type": "code",
   "execution_count": 18,
   "metadata": {},
   "outputs": [],
   "source": [
    "with open('result/case_pattern.txt', 'w') as f:\n",
    "    for sent in neko:\n",
    "        for chunk in sent:\n",
    "            if verb := get_first_verb(chunk): # 動詞から始まる\n",
    "                srcs = [sent[src] for src in chunk.srcs]\n",
    "                if cases := extract_cases(srcs): # 助詞がある\n",
    "                    line = '{}\\t{}'.format(verb, ' '.join(cases))\n",
    "                    print(line, file=f)"
   ]
  },
  {
   "cell_type": "code",
   "execution_count": 19,
   "metadata": {},
   "outputs": [
    {
     "name": "stdout",
     "output_type": "stream",
     "text": [
      "   2645 ある\tが\r\n",
      "   1559 つく\tか が\r\n",
      "    840 云う\tは\r\n",
      "    553 する\tが で と\r\n",
      "    380 つかむ\tを\r\n",
      "    364 思う\tと\r\n",
      "    334 見る\tの\r\n",
      "    257 かく\tたり を\r\n",
      "    253 かかる\tが て\r\n",
      "    205 ある\tまで\r\n"
     ]
    }
   ],
   "source": [
    "! cat result/case_pattern.txt | sort | uniq -c | sort -nr 2> /dev/null | head -n 10"
   ]
  },
  {
   "cell_type": "code",
   "execution_count": 20,
   "metadata": {},
   "outputs": [
    {
     "name": "stdout",
     "output_type": "stream",
     "text": [
      "   1239 する\tが\r\n",
      "    806 する\tて は\r\n",
      "    313 する\tが で と\r\n",
      "    140 する\tでも に\r\n",
      "    102 する\tまで\r\n",
      "     84 する\tと は は は\r\n",
      "     59 する\tから が で\r\n",
      "     32 する\tから て て を\r\n",
      "     32 する\tを んで\r\n",
      "     24 する\tとして\r\n"
     ]
    }
   ],
   "source": [
    "! cat result/case_pattern.txt | grep 'する' | sort | uniq -c | sort -nr 2> /dev/null | head -n 10"
   ]
  },
  {
   "cell_type": "code",
   "execution_count": 21,
   "metadata": {},
   "outputs": [
    {
     "name": "stdout",
     "output_type": "stream",
     "text": [
      "    334 見る\tの\r\n",
      "    121 見る\tは を\r\n",
      "     40 見る\tて て は\r\n",
      "     25 見る\tたり て\r\n",
      "     23 見る\tから\r\n",
      "     12 見る\tから て て\r\n",
      "      8 見る\tて に は を\r\n",
      "      7 見る\tが ので\r\n",
      "      3 見る\tて ばかり\r\n",
      "      3 見る\tが て んで\r\n"
     ]
    }
   ],
   "source": [
    "! cat result/case_pattern.txt | grep '見る' | sort | uniq -c | sort -nr 2> /dev/null | head -n 10"
   ]
  },
  {
   "cell_type": "code",
   "execution_count": 22,
   "metadata": {},
   "outputs": [
    {
     "name": "stdout",
     "output_type": "stream",
     "text": [
      "      7 与える\tに を\r\n",
      "      4 与える\tで に を\r\n",
      "      3 与える\tて と は を\r\n",
      "      1 与える\tけれども は を\r\n",
      "      1 与える\tか として\r\n",
      "      1 与える\tが て と に は は を\r\n",
      "      1 与える\tて に に は を\r\n"
     ]
    }
   ],
   "source": [
    "! cat result/case_pattern.txt | grep '与える' | sort | uniq -c | sort -nr 2> /dev/null | head -n 10"
   ]
  },
  {
   "cell_type": "markdown",
   "metadata": {},
   "source": [
    "### 46. 動詞の格フレーム情報の抽出"
   ]
  },
  {
   "cell_type": "code",
   "execution_count": 23,
   "metadata": {},
   "outputs": [],
   "source": [
    "def extract_args(srcs):\n",
    "    xs = [src for src in srcs if get_last_case(src)]\n",
    "    xs.sort(key = lambda src : get_last_case(src))\n",
    "    xs = [str(src) for src in xs]\n",
    "    return xs"
   ]
  },
  {
   "cell_type": "code",
   "execution_count": 24,
   "metadata": {},
   "outputs": [
    {
     "name": "stdout",
     "output_type": "stream",
     "text": [
      "生れる\tで\t　どこで\n",
      "つく\tか が\t生れたか 見当が\n",
      "泣く\tで\t所で\n",
      "する\tて は\t泣いて いた事だけは\n",
      "始める\tで\tここで\n",
      "見る\tは を\t吾輩は ものを\n",
      "聞く\tで\tあとで\n",
      "捕える\tを\t我々を\n",
      "煮る\tて\t捕えて\n",
      "食う\tて\t煮て\n"
     ]
    }
   ],
   "source": [
    "for sent in neko[:10]:\n",
    "    for chunk in sent:\n",
    "        if verb := get_first_verb(chunk): # 動詞で始まる\n",
    "            srcs = [sent[src] for src in chunk.srcs]\n",
    "            if cases := extract_cases(srcs): # 助詞がある\n",
    "                args = extract_args(srcs)\n",
    "                line = '{}\\t{}\\t{}'.format(verb, ' '.join(cases), ' '.join(args))\n",
    "                print(line)"
   ]
  },
  {
   "cell_type": "markdown",
   "metadata": {},
   "source": [
    "### 47. 機能動詞構文のマイニング"
   ]
  },
  {
   "cell_type": "code",
   "execution_count": 25,
   "metadata": {},
   "outputs": [],
   "source": [
    "def is_sahen(chunk):\n",
    "    return len(chunk) == 2 and chunk[0].pos1 == 'サ変接続' and chunk[1].surface == 'を'\n",
    "\n",
    "def split_sahen(srcs):\n",
    "    for i in range(len(srcs)):\n",
    "        if is_sahen(srcs[i]):\n",
    "            return str(srcs[i]), srcs[:i] + srcs[i+1:]\n",
    "    return None, srcs"
   ]
  },
  {
   "cell_type": "code",
   "execution_count": 26,
   "metadata": {},
   "outputs": [],
   "source": [
    "with open('result/sahen_pattern.txt', 'w') as f:\n",
    "    for sent in neko:\n",
    "        for chunk in sent:\n",
    "            if verb := get_first_verb(chunk):\n",
    "                srcs = [sent[src] for src in chunk.srcs]\n",
    "                sahen, rest = split_sahen(srcs)\n",
    "                if sahen and (cases := extract_cases(rest)):\n",
    "                    args = extract_args(rest)\n",
    "                    line = '{}\\t{}\\t{}'.format(sahen + verb, ' '.join(cases), ' '.join(args))\n",
    "                    print(line, file=f)"
   ]
  },
  {
   "cell_type": "code",
   "execution_count": 27,
   "metadata": {},
   "outputs": [
    {
     "name": "stdout",
     "output_type": "stream",
     "text": [
      "     25 返事をする\r\n",
      "     19 挨拶をする\r\n",
      "     11 話をする\r\n",
      "      9 質問をする\r\n",
      "      7 真似をする\r\n",
      "      7 喧嘩をする\r\n",
      "      5 質問をかける\r\n",
      "      5 相談をする\r\n",
      "      5 昼寝をする\r\n",
      "      4 演説をする\r\n"
     ]
    }
   ],
   "source": [
    "! cat result/sahen_pattern.txt | cut -f 1 | sort | uniq -c | sort -nr 2> /dev/null | head -n 10"
   ]
  },
  {
   "cell_type": "code",
   "execution_count": 28,
   "metadata": {},
   "outputs": [
    {
     "name": "stdout",
     "output_type": "stream",
     "text": [
      "     10 返事をする\tと\r\n",
      "      7 返事をする\tと は\r\n",
      "      7 挨拶をする\tで\r\n",
      "      5 質問をかける\tと は\r\n",
      "      5 喧嘩をする\tで\r\n",
      "      4 質問をえる\tで\r\n",
      "      4 話をする\tに\r\n",
      "      4 挨拶をする\tから\r\n",
      "      3 返事をする\tから と\r\n",
      "      3 談話を聞く\tが\r\n"
     ]
    }
   ],
   "source": [
    "! cat result/sahen_pattern.txt | cut -f 1,2 | sort | uniq -c | sort -nr 2> /dev/null | head -n 10"
   ]
  },
  {
   "cell_type": "markdown",
   "metadata": {},
   "source": [
    "### 48. 名詞から根へのパスの抽出 "
   ]
  },
  {
   "cell_type": "code",
   "execution_count": 29,
   "metadata": {},
   "outputs": [],
   "source": [
    "def trace(n, sent):\n",
    "    path = []\n",
    "    while n != -1:\n",
    "        path.append(n)\n",
    "        n = sent[n].dst\n",
    "    return path"
   ]
  },
  {
   "cell_type": "code",
   "execution_count": 30,
   "metadata": {},
   "outputs": [
    {
     "name": "stdout",
     "output_type": "stream",
     "text": [
      "吾輩は -> 見た\n",
      "ここで -> 始めて -> 人間という -> ものを -> 見た\n",
      "人間という -> ものを -> 見た\n",
      "ものを -> 見た\n"
     ]
    }
   ],
   "source": [
    "sent = neko[7]\n",
    "heads = [n for n in range(len(sent)) if has_noun(sent[n])]\n",
    "for head in heads:\n",
    "    path = trace(head, sent)\n",
    "    path = ' -> '.join([str(sent[n]) for n in path])\n",
    "    print(path)"
   ]
  },
  {
   "cell_type": "markdown",
   "metadata": {},
   "source": [
    "### 49. 名詞間の係り受けパスの抽出"
   ]
  },
  {
   "cell_type": "code",
   "execution_count": 31,
   "metadata": {},
   "outputs": [],
   "source": [
    "def extract_path(x, y, sent):\n",
    "    xs = []\n",
    "    ys = []\n",
    "    while x != y:\n",
    "        if x < y:\n",
    "            xs.append(x)\n",
    "            x = sent[x].dst\n",
    "        else:\n",
    "            ys.append(y)\n",
    "            y = sent[y].dst\n",
    "    return xs, ys, x\n",
    "\n",
    "def remove_initial_nouns(chunk):\n",
    "    for i, morph in enumerate(chunk):\n",
    "        if morph.pos != '名詞':\n",
    "            break\n",
    "    return ''.join([str(morph) for morph in chunk[i:]]).strip()\n",
    "\n",
    "def path_to_str(xs, ys, last, sent):\n",
    "    xs = [sent[x] for x in xs]\n",
    "    ys = [sent[y] for y in ys]\n",
    "    last = sent[last]\n",
    "    if xs and ys:\n",
    "        xs = ['X' + remove_initial_nouns(xs[0])] + [str(x) for x in xs[1:]]\n",
    "        ys = ['Y' + remove_initial_nouns(ys[0])] + [str(y) for y in ys[1:]]\n",
    "        last = str(last)\n",
    "        return ' -> '.join(xs) + ' | ' + ' -> '.join(ys) + ' | ' + last\n",
    "    else:\n",
    "        xs = xs + ys\n",
    "        xs = ['X' + remove_initial_nouns(xs[0])] + [str(x) for x in xs[1:]]\n",
    "        last = 'Y' + remove_initial_nouns(last)\n",
    "        return ' -> '.join(xs + [last])"
   ]
  },
  {
   "cell_type": "code",
   "execution_count": 32,
   "metadata": {},
   "outputs": [
    {
     "name": "stdout",
     "output_type": "stream",
     "text": [
      "パスの先頭: [0, 1, 3, 4]\n",
      "パスの先頭のペア:  [(0, 1), (0, 3), (0, 4), (1, 3), (1, 4), (3, 4)]\n",
      "係り受けのパス:\n",
      "Xは | Yで -> 始めて -> 人間という -> ものを | 見た\n",
      "Xは | Yという -> ものを | 見た\n",
      "Xは | Yを | 見た\n",
      "Xで -> 始めて -> Yという\n",
      "Xで -> 始めて -> 人間という -> Yを\n",
      "Xという -> Yを\n"
     ]
    }
   ],
   "source": [
    "sent = neko[7]\n",
    "\n",
    "heads = [n for n in range(len(sent)) if has_noun(sent[n])]\n",
    "print('パスの先頭:', heads)\n",
    "\n",
    "pairs = [\n",
    "    (heads[n], second)\n",
    "    for n in range(len(heads))\n",
    "    for second in heads[n + 1:]\n",
    "]\n",
    "print('パスの先頭のペア: ', pairs)\n",
    "\n",
    "print('係り受けのパス:')\n",
    "for x, y in pairs:\n",
    "    x_path, y_path, last = extract_path(x, y, sent)\n",
    "    path = path_to_str(x_path, y_path, last, sent)\n",
    "    print(path)"
   ]
  }
 ],
 "metadata": {
  "kernelspec": {
   "display_name": "Python 3",
   "language": "python",
   "name": "python3"
  },
  "language_info": {
   "codemirror_mode": {
    "name": "ipython",
    "version": 3
   },
   "file_extension": ".py",
   "mimetype": "text/x-python",
   "name": "python",
   "nbconvert_exporter": "python",
   "pygments_lexer": "ipython3",
   "version": "3.8.2"
  }
 },
 "nbformat": 4,
 "nbformat_minor": 4
}
