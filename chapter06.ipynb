{
 "cells": [
  {
   "cell_type": "markdown",
   "metadata": {},
   "source": [
    "### 50. データの入手・整形"
   ]
  },
  {
   "cell_type": "markdown",
   "metadata": {},
   "source": [
    "zipファイルからデーターセットを読み込む"
   ]
  },
  {
   "cell_type": "code",
   "execution_count": 1,
   "metadata": {},
   "outputs": [],
   "source": [
    "import zipfile"
   ]
  },
  {
   "cell_type": "code",
   "execution_count": 2,
   "metadata": {},
   "outputs": [
    {
     "data": {
      "text/plain": [
       "422937"
      ]
     },
     "execution_count": 2,
     "metadata": {},
     "output_type": "execute_result"
    }
   ],
   "source": [
    "# zipファイルから読み込む\n",
    "with zipfile.ZipFile('data/NewsAggregatorDataset.zip') as f:\n",
    "    with f.open('newsCorpora.csv') as g:\n",
    "        data = g.read()\n",
    "\n",
    "# バイト列をデコード\n",
    "data = data.decode('UTF-8').splitlines()\n",
    "\n",
    "# タブ区切り\n",
    "data = [line.split('\\t') for line in data]\n",
    "len(data)"
   ]
  },
  {
   "cell_type": "markdown",
   "metadata": {},
   "source": [
    "情報源を指定・ランダムに並び替える"
   ]
  },
  {
   "cell_type": "code",
   "execution_count": 3,
   "metadata": {},
   "outputs": [
    {
     "data": {
      "text/plain": [
       "13356"
      ]
     },
     "execution_count": 3,
     "metadata": {},
     "output_type": "execute_result"
    }
   ],
   "source": [
    "publishers = {\n",
    "    'Reuters',\n",
    "    'Huffington Post',\n",
    "    'Businessweek',\n",
    "    'Contactmusic.com',\n",
    "    'Daily Mail',\n",
    "}\n",
    "data = [\n",
    "    lst\n",
    "    for lst in data\n",
    "    if lst[3] in publishers\n",
    "]\n",
    "data.sort()\n",
    "len(data)"
   ]
  },
  {
   "cell_type": "markdown",
   "metadata": {},
   "source": [
    "カテゴリ名と記事見出しのみ"
   ]
  },
  {
   "cell_type": "code",
   "execution_count": 4,
   "metadata": {},
   "outputs": [],
   "source": [
    "data = [\n",
    "    [lst[4], lst[1]]\n",
    "    for lst in data\n",
    "]"
   ]
  },
  {
   "cell_type": "markdown",
   "metadata": {},
   "source": [
    "学習・検証・評価データに分割"
   ]
  },
  {
   "cell_type": "code",
   "execution_count": 5,
   "metadata": {},
   "outputs": [
    {
     "name": "stdout",
     "output_type": "stream",
     "text": [
      "学習データ 10684\n",
      "検証データ 1336\n",
      "評価データ 1336\n"
     ]
    }
   ],
   "source": [
    "train_end = int(len(data) * 0.8)\n",
    "valid_end = int(len(data) * 0.9)\n",
    "train = data[:train_end]\n",
    "valid = data[train_end:valid_end]\n",
    "test = data[valid_end:]\n",
    "print('学習データ', len(train))\n",
    "print('検証データ', len(valid))\n",
    "print('評価データ', len(test))"
   ]
  },
  {
   "cell_type": "markdown",
   "metadata": {},
   "source": [
    "ファイルに保存"
   ]
  },
  {
   "cell_type": "code",
   "execution_count": 6,
   "metadata": {},
   "outputs": [],
   "source": [
    "def write_dataset(filename, data):\n",
    "    with open(filename, 'w') as f:\n",
    "        for lst in data:\n",
    "            print('\\t'.join(lst), file = f)"
   ]
  },
  {
   "cell_type": "code",
   "execution_count": 7,
   "metadata": {},
   "outputs": [],
   "source": [
    "write_dataset('data/train.txt', train)\n",
    "write_dataset('data/valid.txt', valid)\n",
    "write_dataset('data/test.txt', test)"
   ]
  },
  {
   "cell_type": "markdown",
   "metadata": {},
   "source": [
    "事例数を確認"
   ]
  },
  {
   "cell_type": "code",
   "execution_count": 8,
   "metadata": {},
   "outputs": [],
   "source": [
    "from collections import Counter\n",
    "from tabulate import tabulate"
   ]
  },
  {
   "cell_type": "code",
   "execution_count": 9,
   "metadata": {},
   "outputs": [
    {
     "data": {
      "text/html": [
       "<table>\n",
       "<thead>\n",
       "<tr><th>     </th><th style=\"text-align: right;\">   b</th><th style=\"text-align: right;\">   t</th><th style=\"text-align: right;\">   e</th><th style=\"text-align: right;\">  m</th></tr>\n",
       "</thead>\n",
       "<tbody>\n",
       "<tr><td>train</td><td style=\"text-align: right;\">4463</td><td style=\"text-align: right;\">1223</td><td style=\"text-align: right;\">4277</td><td style=\"text-align: right;\">721</td></tr>\n",
       "<tr><td>valid</td><td style=\"text-align: right;\"> 617</td><td style=\"text-align: right;\"> 168</td><td style=\"text-align: right;\"> 459</td><td style=\"text-align: right;\"> 92</td></tr>\n",
       "<tr><td>test </td><td style=\"text-align: right;\"> 547</td><td style=\"text-align: right;\"> 134</td><td style=\"text-align: right;\"> 558</td><td style=\"text-align: right;\"> 97</td></tr>\n",
       "</tbody>\n",
       "</table>"
      ],
      "text/plain": [
       "'<table>\\n<thead>\\n<tr><th>     </th><th style=\"text-align: right;\">   b</th><th style=\"text-align: right;\">   t</th><th style=\"text-align: right;\">   e</th><th style=\"text-align: right;\">  m</th></tr>\\n</thead>\\n<tbody>\\n<tr><td>train</td><td style=\"text-align: right;\">4463</td><td style=\"text-align: right;\">1223</td><td style=\"text-align: right;\">4277</td><td style=\"text-align: right;\">721</td></tr>\\n<tr><td>valid</td><td style=\"text-align: right;\"> 617</td><td style=\"text-align: right;\"> 168</td><td style=\"text-align: right;\"> 459</td><td style=\"text-align: right;\"> 92</td></tr>\\n<tr><td>test </td><td style=\"text-align: right;\"> 547</td><td style=\"text-align: right;\"> 134</td><td style=\"text-align: right;\"> 558</td><td style=\"text-align: right;\"> 97</td></tr>\\n</tbody>\\n</table>'"
      ]
     },
     "execution_count": 9,
     "metadata": {},
     "output_type": "execute_result"
    }
   ],
   "source": [
    "categories = ['b', 't', 'e', 'm']\n",
    "category_names = ['business', 'science and technology', 'entertainment', 'health']\n",
    "table = [\n",
    "    [name] + [freqs[cat] for cat in categories]\n",
    "    for name, freqs in [\n",
    "        ('train', Counter([cat for cat, _ in train])),\n",
    "        ('valid', Counter([cat for cat, _ in valid])),\n",
    "        ('test', Counter([cat for cat, _ in test])),\n",
    "    ]\n",
    "]\n",
    "tabulate(table, tablefmt = 'html', headers = categories)"
   ]
  },
  {
   "cell_type": "markdown",
   "metadata": {},
   "source": [
    "### 51. 特徴量抽出"
   ]
  },
  {
   "cell_type": "markdown",
   "metadata": {},
   "source": [
    "tf-idfとか単語ベクトルとかに手を出したら闇が深いので，Bag-of-Words(lemmas?)で手を打つ"
   ]
  },
  {
   "cell_type": "code",
   "execution_count": 10,
   "metadata": {},
   "outputs": [],
   "source": [
    "import re\n",
    "import spacy\n",
    "import nltk"
   ]
  },
  {
   "cell_type": "markdown",
   "metadata": {},
   "source": [
    "単語列に分割し，小文字化と語幹化"
   ]
  },
  {
   "cell_type": "code",
   "execution_count": 11,
   "metadata": {},
   "outputs": [],
   "source": [
    "nlp = spacy.load('en')\n",
    "stemmer = nltk.stem.snowball.SnowballStemmer(language='english')\n",
    "\n",
    "def tokenize(x):\n",
    "    x = re.sub(r'\\s+', ' ', x)\n",
    "    x = nlp.make_doc(x) # nlp(x)は遅い tokenizer以外も走るので\n",
    "    x = [stemmer.stem(doc.lemma_.lower()) for doc in x]\n",
    "    return x"
   ]
  },
  {
   "cell_type": "code",
   "execution_count": 12,
   "metadata": {},
   "outputs": [],
   "source": [
    "tokenized_train = [[cat, tokenize(line)] for cat, line in train]\n",
    "tokenized_valid = [[cat, tokenize(line)] for cat, line in valid]\n",
    "tokenized_test = [[cat, tokenize(line)] for cat, line in test]"
   ]
  },
  {
   "cell_type": "markdown",
   "metadata": {},
   "source": [
    "特徴量として使うトークンを抽出"
   ]
  },
  {
   "cell_type": "code",
   "execution_count": 13,
   "metadata": {},
   "outputs": [
    {
     "data": {
      "text/plain": [
       "4790"
      ]
     },
     "execution_count": 13,
     "metadata": {},
     "output_type": "execute_result"
    }
   ],
   "source": [
    "# 出現頻度を数える\n",
    "counter = Counter([\n",
    "    token\n",
    "    for _, tokens in tokenized_train\n",
    "    for token in tokens\n",
    "])\n",
    "\n",
    "# 高頻度・低頻度の語を取り除く\n",
    "vocab = [\n",
    "    token\n",
    "    for token, freq in counter.most_common()\n",
    "    if 2 < freq < 300\n",
    "]\n",
    "\n",
    "len(vocab)"
   ]
  },
  {
   "cell_type": "markdown",
   "metadata": {},
   "source": [
    "bi-gramも特徴量とする"
   ]
  },
  {
   "cell_type": "code",
   "execution_count": 14,
   "metadata": {},
   "outputs": [
    {
     "data": {
      "text/plain": [
       "3094"
      ]
     },
     "execution_count": 14,
     "metadata": {},
     "output_type": "execute_result"
    }
   ],
   "source": [
    "bi_grams = Counter([\n",
    "        bi_gram\n",
    "        for _, sent in tokenized_train\n",
    "        for bi_gram in zip(sent, sent[1:])\n",
    "    ]).most_common()\n",
    "bi_grams = [tup for tup, freq in bi_grams if freq > 4]\n",
    "len(bi_grams)"
   ]
  },
  {
   "cell_type": "markdown",
   "metadata": {},
   "source": [
    "保存しておく"
   ]
  },
  {
   "cell_type": "code",
   "execution_count": 15,
   "metadata": {},
   "outputs": [],
   "source": [
    "with open('result/vocab_for_news.txt', 'w') as f:\n",
    "    for token in vocab:\n",
    "        print(token, file = f)"
   ]
  },
  {
   "cell_type": "code",
   "execution_count": 16,
   "metadata": {},
   "outputs": [],
   "source": [
    "with open('result/bi_grams_for_news.txt', 'w') as f:\n",
    "    for tup in bi_grams:\n",
    "        print(' '.join(tup), file = f)"
   ]
  },
  {
   "cell_type": "markdown",
   "metadata": {},
   "source": [
    "全特徴量"
   ]
  },
  {
   "cell_type": "code",
   "execution_count": 17,
   "metadata": {},
   "outputs": [
    {
     "data": {
      "text/plain": [
       "7884"
      ]
     },
     "execution_count": 17,
     "metadata": {},
     "output_type": "execute_result"
    }
   ],
   "source": [
    "features = vocab + [' '.join(x) for x in bi_grams]\n",
    "len(features)"
   ]
  },
  {
   "cell_type": "markdown",
   "metadata": {},
   "source": [
    "特徴量を抽出しデータを保存"
   ]
  },
  {
   "cell_type": "code",
   "execution_count": 18,
   "metadata": {},
   "outputs": [],
   "source": [
    "import numpy as np"
   ]
  },
  {
   "cell_type": "code",
   "execution_count": 19,
   "metadata": {},
   "outputs": [],
   "source": [
    "vocab_dict = {x:n for n, x in enumerate(vocab)}\n",
    "bi_gram_dict = {x:n for n, x in enumerate(bi_grams)}\n",
    "\n",
    "def count_uni_gram(sent):\n",
    "    lst = [0 for token in vocab]\n",
    "    for token in sent:\n",
    "        if token in vocab_dict:\n",
    "            lst[vocab_dict[token]] += 1\n",
    "    return lst\n",
    "\n",
    "def count_bi_gram(sent):\n",
    "    lst = [0 for token in bi_grams]\n",
    "    for tup in zip(sent, sent[1:]):\n",
    "        if tup in bi_gram_dict:\n",
    "            lst[bi_gram_dict[tup]] += 1\n",
    "    return lst"
   ]
  },
  {
   "cell_type": "code",
   "execution_count": 20,
   "metadata": {},
   "outputs": [],
   "source": [
    "def prepare_feature_dataset(data):\n",
    "    ts = [categories.index(cat) for cat, _ in data]\n",
    "    xs = [\n",
    "        count_uni_gram(sent) + count_bi_gram(sent)\n",
    "        for _, sent in data\n",
    "    ]\n",
    "    return np.array(xs, dtype=np.float32), np.array(ts, dtype=np.int8)\n",
    "\n",
    "def write_feature_dataset(filename, xs, ts):\n",
    "    with open(filename, 'w') as f:\n",
    "        for t, x in zip(ts, xs):\n",
    "            line = categories[t] + ' ' + ' '.join([str(int(n)) for n in x])\n",
    "            print(line, file = f)    "
   ]
  },
  {
   "cell_type": "code",
   "execution_count": 21,
   "metadata": {},
   "outputs": [],
   "source": [
    "train_x, train_t = prepare_feature_dataset(tokenized_train)\n",
    "valid_x, valid_t = prepare_feature_dataset(tokenized_valid)\n",
    "test_x, test_t = prepare_feature_dataset(tokenized_test)"
   ]
  },
  {
   "cell_type": "code",
   "execution_count": 22,
   "metadata": {},
   "outputs": [],
   "source": [
    "write_feature_dataset('result/train.feature.txt', train_x, train_t)\n",
    "write_feature_dataset('result/valid.feature.txt', valid_x, valid_t)\n",
    "write_feature_dataset('result/test.feature.txt', test_x, test_t)"
   ]
  },
  {
   "cell_type": "markdown",
   "metadata": {},
   "source": [
    "例"
   ]
  },
  {
   "cell_type": "code",
   "execution_count": 23,
   "metadata": {},
   "outputs": [],
   "source": [
    "import pandas as pd"
   ]
  },
  {
   "cell_type": "code",
   "execution_count": 24,
   "metadata": {},
   "outputs": [
    {
     "data": {
      "text/html": [
       "<div>\n",
       "<style scoped>\n",
       "    .dataframe tbody tr th:only-of-type {\n",
       "        vertical-align: middle;\n",
       "    }\n",
       "\n",
       "    .dataframe tbody tr th {\n",
       "        vertical-align: top;\n",
       "    }\n",
       "\n",
       "    .dataframe thead th {\n",
       "        text-align: right;\n",
       "    }\n",
       "</style>\n",
       "<table border=\"1\" class=\"dataframe\">\n",
       "  <thead>\n",
       "    <tr style=\"text-align: right;\">\n",
       "      <th></th>\n",
       "      <th>category</th>\n",
       "      <th>rise</th>\n",
       "      <th>;</th>\n",
       "      <th>it</th>\n",
       "      <th>kim</th>\n",
       "      <th>will</th>\n",
       "      <th>over</th>\n",
       "      <th>china</th>\n",
       "      <th>high</th>\n",
       "      <th>share</th>\n",
       "      <th>...</th>\n",
       "      <th>still miss</th>\n",
       "      <th>simpson have</th>\n",
       "      <th>wireless festiv</th>\n",
       "      <th>black widow</th>\n",
       "      <th>jk rowl</th>\n",
       "      <th>for busi</th>\n",
       "      <th>with alibaba</th>\n",
       "      <th>nadin gordim</th>\n",
       "      <th>peter jackson</th>\n",
       "      <th>allison william</th>\n",
       "    </tr>\n",
       "  </thead>\n",
       "  <tbody>\n",
       "    <tr>\n",
       "      <th>0</th>\n",
       "      <td>m</td>\n",
       "      <td>0</td>\n",
       "      <td>0</td>\n",
       "      <td>0</td>\n",
       "      <td>0</td>\n",
       "      <td>0</td>\n",
       "      <td>0</td>\n",
       "      <td>0</td>\n",
       "      <td>0</td>\n",
       "      <td>0</td>\n",
       "      <td>...</td>\n",
       "      <td>0</td>\n",
       "      <td>0</td>\n",
       "      <td>0</td>\n",
       "      <td>0</td>\n",
       "      <td>0</td>\n",
       "      <td>0</td>\n",
       "      <td>0</td>\n",
       "      <td>0</td>\n",
       "      <td>0</td>\n",
       "      <td>0</td>\n",
       "    </tr>\n",
       "    <tr>\n",
       "      <th>1</th>\n",
       "      <td>m</td>\n",
       "      <td>0</td>\n",
       "      <td>0</td>\n",
       "      <td>0</td>\n",
       "      <td>0</td>\n",
       "      <td>0</td>\n",
       "      <td>0</td>\n",
       "      <td>0</td>\n",
       "      <td>0</td>\n",
       "      <td>0</td>\n",
       "      <td>...</td>\n",
       "      <td>0</td>\n",
       "      <td>0</td>\n",
       "      <td>0</td>\n",
       "      <td>0</td>\n",
       "      <td>0</td>\n",
       "      <td>0</td>\n",
       "      <td>0</td>\n",
       "      <td>0</td>\n",
       "      <td>0</td>\n",
       "      <td>0</td>\n",
       "    </tr>\n",
       "    <tr>\n",
       "      <th>2</th>\n",
       "      <td>m</td>\n",
       "      <td>0</td>\n",
       "      <td>0</td>\n",
       "      <td>0</td>\n",
       "      <td>0</td>\n",
       "      <td>0</td>\n",
       "      <td>0</td>\n",
       "      <td>0</td>\n",
       "      <td>0</td>\n",
       "      <td>0</td>\n",
       "      <td>...</td>\n",
       "      <td>0</td>\n",
       "      <td>0</td>\n",
       "      <td>0</td>\n",
       "      <td>0</td>\n",
       "      <td>0</td>\n",
       "      <td>0</td>\n",
       "      <td>0</td>\n",
       "      <td>0</td>\n",
       "      <td>0</td>\n",
       "      <td>0</td>\n",
       "    </tr>\n",
       "    <tr>\n",
       "      <th>3</th>\n",
       "      <td>t</td>\n",
       "      <td>0</td>\n",
       "      <td>0</td>\n",
       "      <td>0</td>\n",
       "      <td>0</td>\n",
       "      <td>0</td>\n",
       "      <td>0</td>\n",
       "      <td>0</td>\n",
       "      <td>0</td>\n",
       "      <td>0</td>\n",
       "      <td>...</td>\n",
       "      <td>0</td>\n",
       "      <td>0</td>\n",
       "      <td>0</td>\n",
       "      <td>0</td>\n",
       "      <td>0</td>\n",
       "      <td>0</td>\n",
       "      <td>0</td>\n",
       "      <td>0</td>\n",
       "      <td>0</td>\n",
       "      <td>0</td>\n",
       "    </tr>\n",
       "    <tr>\n",
       "      <th>4</th>\n",
       "      <td>m</td>\n",
       "      <td>0</td>\n",
       "      <td>0</td>\n",
       "      <td>0</td>\n",
       "      <td>0</td>\n",
       "      <td>0</td>\n",
       "      <td>0</td>\n",
       "      <td>0</td>\n",
       "      <td>0</td>\n",
       "      <td>0</td>\n",
       "      <td>...</td>\n",
       "      <td>0</td>\n",
       "      <td>0</td>\n",
       "      <td>0</td>\n",
       "      <td>0</td>\n",
       "      <td>0</td>\n",
       "      <td>0</td>\n",
       "      <td>0</td>\n",
       "      <td>0</td>\n",
       "      <td>0</td>\n",
       "      <td>0</td>\n",
       "    </tr>\n",
       "    <tr>\n",
       "      <th>5</th>\n",
       "      <td>t</td>\n",
       "      <td>0</td>\n",
       "      <td>0</td>\n",
       "      <td>0</td>\n",
       "      <td>0</td>\n",
       "      <td>1</td>\n",
       "      <td>0</td>\n",
       "      <td>0</td>\n",
       "      <td>0</td>\n",
       "      <td>0</td>\n",
       "      <td>...</td>\n",
       "      <td>0</td>\n",
       "      <td>0</td>\n",
       "      <td>0</td>\n",
       "      <td>0</td>\n",
       "      <td>0</td>\n",
       "      <td>0</td>\n",
       "      <td>0</td>\n",
       "      <td>0</td>\n",
       "      <td>0</td>\n",
       "      <td>0</td>\n",
       "    </tr>\n",
       "    <tr>\n",
       "      <th>6</th>\n",
       "      <td>m</td>\n",
       "      <td>0</td>\n",
       "      <td>0</td>\n",
       "      <td>0</td>\n",
       "      <td>0</td>\n",
       "      <td>0</td>\n",
       "      <td>0</td>\n",
       "      <td>0</td>\n",
       "      <td>0</td>\n",
       "      <td>0</td>\n",
       "      <td>...</td>\n",
       "      <td>0</td>\n",
       "      <td>0</td>\n",
       "      <td>0</td>\n",
       "      <td>0</td>\n",
       "      <td>0</td>\n",
       "      <td>0</td>\n",
       "      <td>0</td>\n",
       "      <td>0</td>\n",
       "      <td>0</td>\n",
       "      <td>0</td>\n",
       "    </tr>\n",
       "    <tr>\n",
       "      <th>7</th>\n",
       "      <td>t</td>\n",
       "      <td>0</td>\n",
       "      <td>0</td>\n",
       "      <td>0</td>\n",
       "      <td>0</td>\n",
       "      <td>0</td>\n",
       "      <td>0</td>\n",
       "      <td>0</td>\n",
       "      <td>0</td>\n",
       "      <td>0</td>\n",
       "      <td>...</td>\n",
       "      <td>0</td>\n",
       "      <td>0</td>\n",
       "      <td>0</td>\n",
       "      <td>0</td>\n",
       "      <td>0</td>\n",
       "      <td>0</td>\n",
       "      <td>0</td>\n",
       "      <td>0</td>\n",
       "      <td>0</td>\n",
       "      <td>0</td>\n",
       "    </tr>\n",
       "    <tr>\n",
       "      <th>8</th>\n",
       "      <td>m</td>\n",
       "      <td>0</td>\n",
       "      <td>0</td>\n",
       "      <td>0</td>\n",
       "      <td>0</td>\n",
       "      <td>0</td>\n",
       "      <td>0</td>\n",
       "      <td>0</td>\n",
       "      <td>0</td>\n",
       "      <td>0</td>\n",
       "      <td>...</td>\n",
       "      <td>0</td>\n",
       "      <td>0</td>\n",
       "      <td>0</td>\n",
       "      <td>0</td>\n",
       "      <td>0</td>\n",
       "      <td>0</td>\n",
       "      <td>0</td>\n",
       "      <td>0</td>\n",
       "      <td>0</td>\n",
       "      <td>0</td>\n",
       "    </tr>\n",
       "    <tr>\n",
       "      <th>9</th>\n",
       "      <td>m</td>\n",
       "      <td>0</td>\n",
       "      <td>0</td>\n",
       "      <td>0</td>\n",
       "      <td>0</td>\n",
       "      <td>0</td>\n",
       "      <td>0</td>\n",
       "      <td>0</td>\n",
       "      <td>0</td>\n",
       "      <td>0</td>\n",
       "      <td>...</td>\n",
       "      <td>0</td>\n",
       "      <td>0</td>\n",
       "      <td>0</td>\n",
       "      <td>0</td>\n",
       "      <td>0</td>\n",
       "      <td>0</td>\n",
       "      <td>0</td>\n",
       "      <td>0</td>\n",
       "      <td>0</td>\n",
       "      <td>0</td>\n",
       "    </tr>\n",
       "  </tbody>\n",
       "</table>\n",
       "<p>10 rows × 7885 columns</p>\n",
       "</div>"
      ],
      "text/plain": [
       "  category rise  ; it kim will over china high share  ... still miss  \\\n",
       "0        m    0  0  0   0    0    0     0    0     0  ...          0   \n",
       "1        m    0  0  0   0    0    0     0    0     0  ...          0   \n",
       "2        m    0  0  0   0    0    0     0    0     0  ...          0   \n",
       "3        t    0  0  0   0    0    0     0    0     0  ...          0   \n",
       "4        m    0  0  0   0    0    0     0    0     0  ...          0   \n",
       "5        t    0  0  0   0    1    0     0    0     0  ...          0   \n",
       "6        m    0  0  0   0    0    0     0    0     0  ...          0   \n",
       "7        t    0  0  0   0    0    0     0    0     0  ...          0   \n",
       "8        m    0  0  0   0    0    0     0    0     0  ...          0   \n",
       "9        m    0  0  0   0    0    0     0    0     0  ...          0   \n",
       "\n",
       "  simpson have wireless festiv black widow jk rowl for busi with alibaba  \\\n",
       "0            0               0           0       0        0            0   \n",
       "1            0               0           0       0        0            0   \n",
       "2            0               0           0       0        0            0   \n",
       "3            0               0           0       0        0            0   \n",
       "4            0               0           0       0        0            0   \n",
       "5            0               0           0       0        0            0   \n",
       "6            0               0           0       0        0            0   \n",
       "7            0               0           0       0        0            0   \n",
       "8            0               0           0       0        0            0   \n",
       "9            0               0           0       0        0            0   \n",
       "\n",
       "  nadin gordim peter jackson allison william  \n",
       "0            0             0               0  \n",
       "1            0             0               0  \n",
       "2            0             0               0  \n",
       "3            0             0               0  \n",
       "4            0             0               0  \n",
       "5            0             0               0  \n",
       "6            0             0               0  \n",
       "7            0             0               0  \n",
       "8            0             0               0  \n",
       "9            0             0               0  \n",
       "\n",
       "[10 rows x 7885 columns]"
      ]
     },
     "execution_count": 24,
     "metadata": {},
     "output_type": "execute_result"
    }
   ],
   "source": [
    "with open('result/train.feature.txt') as f:\n",
    "    table = [line.strip().split(' ') for _, line in zip(range(10), f)]\n",
    "pd.DataFrame(table, columns=['category'] + features)"
   ]
  },
  {
   "cell_type": "markdown",
   "metadata": {},
   "source": [
    "### 52. 学習"
   ]
  },
  {
   "cell_type": "markdown",
   "metadata": {},
   "source": [
    "sklearnを使います"
   ]
  },
  {
   "cell_type": "markdown",
   "metadata": {},
   "source": [
    "(LBFGS法をpythonでスクラッチしようとしたら線形探索が遅すぎて嫌になった話ができる)"
   ]
  },
  {
   "cell_type": "code",
   "execution_count": 25,
   "metadata": {},
   "outputs": [],
   "source": [
    "from sklearn.linear_model import LogisticRegression"
   ]
  },
  {
   "cell_type": "code",
   "execution_count": 26,
   "metadata": {},
   "outputs": [
    {
     "data": {
      "text/plain": [
       "LogisticRegression(C=1.0, class_weight=None, dual=False, fit_intercept=True,\n",
       "                   intercept_scaling=1, l1_ratio=None, max_iter=1000,\n",
       "                   multi_class='auto', n_jobs=None, penalty='l2',\n",
       "                   random_state=None, solver='lbfgs', tol=0.0001, verbose=0,\n",
       "                   warm_start=False)"
      ]
     },
     "execution_count": 26,
     "metadata": {},
     "output_type": "execute_result"
    }
   ],
   "source": [
    "lr = LogisticRegression(max_iter=1000)\n",
    "lr.fit(train_x, train_t)"
   ]
  },
  {
   "cell_type": "markdown",
   "metadata": {},
   "source": [
    "### 53. 予測"
   ]
  },
  {
   "cell_type": "code",
   "execution_count": 27,
   "metadata": {},
   "outputs": [],
   "source": [
    "def predict(x):\n",
    "    out = lr.predict_proba(x)\n",
    "    preds = out.argmax(axis=1)\n",
    "    probs = out.max(axis=1)\n",
    "    return preds, probs"
   ]
  },
  {
   "cell_type": "code",
   "execution_count": 28,
   "metadata": {},
   "outputs": [
    {
     "data": {
      "text/html": [
       "<div>\n",
       "<style scoped>\n",
       "    .dataframe tbody tr th:only-of-type {\n",
       "        vertical-align: middle;\n",
       "    }\n",
       "\n",
       "    .dataframe tbody tr th {\n",
       "        vertical-align: top;\n",
       "    }\n",
       "\n",
       "    .dataframe thead th {\n",
       "        text-align: right;\n",
       "    }\n",
       "</style>\n",
       "<table border=\"1\" class=\"dataframe\">\n",
       "  <thead>\n",
       "    <tr style=\"text-align: right;\">\n",
       "      <th></th>\n",
       "      <th>予測</th>\n",
       "      <th>確率</th>\n",
       "    </tr>\n",
       "  </thead>\n",
       "  <tbody>\n",
       "    <tr>\n",
       "      <th>0</th>\n",
       "      <td>0</td>\n",
       "      <td>0.296352</td>\n",
       "    </tr>\n",
       "    <tr>\n",
       "      <th>1</th>\n",
       "      <td>3</td>\n",
       "      <td>0.582189</td>\n",
       "    </tr>\n",
       "    <tr>\n",
       "      <th>2</th>\n",
       "      <td>3</td>\n",
       "      <td>0.400420</td>\n",
       "    </tr>\n",
       "    <tr>\n",
       "      <th>3</th>\n",
       "      <td>1</td>\n",
       "      <td>0.685863</td>\n",
       "    </tr>\n",
       "    <tr>\n",
       "      <th>4</th>\n",
       "      <td>3</td>\n",
       "      <td>0.845667</td>\n",
       "    </tr>\n",
       "    <tr>\n",
       "      <th>...</th>\n",
       "      <td>...</td>\n",
       "      <td>...</td>\n",
       "    </tr>\n",
       "    <tr>\n",
       "      <th>10679</th>\n",
       "      <td>3</td>\n",
       "      <td>0.702791</td>\n",
       "    </tr>\n",
       "    <tr>\n",
       "      <th>10680</th>\n",
       "      <td>3</td>\n",
       "      <td>0.906354</td>\n",
       "    </tr>\n",
       "    <tr>\n",
       "      <th>10681</th>\n",
       "      <td>3</td>\n",
       "      <td>0.680905</td>\n",
       "    </tr>\n",
       "    <tr>\n",
       "      <th>10682</th>\n",
       "      <td>3</td>\n",
       "      <td>0.997405</td>\n",
       "    </tr>\n",
       "    <tr>\n",
       "      <th>10683</th>\n",
       "      <td>3</td>\n",
       "      <td>0.832159</td>\n",
       "    </tr>\n",
       "  </tbody>\n",
       "</table>\n",
       "<p>10684 rows × 2 columns</p>\n",
       "</div>"
      ],
      "text/plain": [
       "       予測        確率\n",
       "0       0  0.296352\n",
       "1       3  0.582189\n",
       "2       3  0.400420\n",
       "3       1  0.685863\n",
       "4       3  0.845667\n",
       "...    ..       ...\n",
       "10679   3  0.702791\n",
       "10680   3  0.906354\n",
       "10681   3  0.680905\n",
       "10682   3  0.997405\n",
       "10683   3  0.832159\n",
       "\n",
       "[10684 rows x 2 columns]"
      ]
     },
     "execution_count": 28,
     "metadata": {},
     "output_type": "execute_result"
    }
   ],
   "source": [
    "preds, probs = predict(train_x)\n",
    "pd.DataFrame([[y, p] for y, p in zip(preds, probs)], columns = ['予測', '確率'])"
   ]
  },
  {
   "cell_type": "code",
   "execution_count": 29,
   "metadata": {},
   "outputs": [
    {
     "data": {
      "text/html": [
       "<div>\n",
       "<style scoped>\n",
       "    .dataframe tbody tr th:only-of-type {\n",
       "        vertical-align: middle;\n",
       "    }\n",
       "\n",
       "    .dataframe tbody tr th {\n",
       "        vertical-align: top;\n",
       "    }\n",
       "\n",
       "    .dataframe thead th {\n",
       "        text-align: right;\n",
       "    }\n",
       "</style>\n",
       "<table border=\"1\" class=\"dataframe\">\n",
       "  <thead>\n",
       "    <tr style=\"text-align: right;\">\n",
       "      <th></th>\n",
       "      <th>予測</th>\n",
       "      <th>確率</th>\n",
       "    </tr>\n",
       "  </thead>\n",
       "  <tbody>\n",
       "    <tr>\n",
       "      <th>0</th>\n",
       "      <td>2</td>\n",
       "      <td>0.976036</td>\n",
       "    </tr>\n",
       "    <tr>\n",
       "      <th>1</th>\n",
       "      <td>2</td>\n",
       "      <td>0.989121</td>\n",
       "    </tr>\n",
       "    <tr>\n",
       "      <th>2</th>\n",
       "      <td>2</td>\n",
       "      <td>0.985534</td>\n",
       "    </tr>\n",
       "    <tr>\n",
       "      <th>3</th>\n",
       "      <td>2</td>\n",
       "      <td>0.784800</td>\n",
       "    </tr>\n",
       "    <tr>\n",
       "      <th>4</th>\n",
       "      <td>2</td>\n",
       "      <td>0.999377</td>\n",
       "    </tr>\n",
       "    <tr>\n",
       "      <th>...</th>\n",
       "      <td>...</td>\n",
       "      <td>...</td>\n",
       "    </tr>\n",
       "    <tr>\n",
       "      <th>1331</th>\n",
       "      <td>1</td>\n",
       "      <td>0.974059</td>\n",
       "    </tr>\n",
       "    <tr>\n",
       "      <th>1332</th>\n",
       "      <td>2</td>\n",
       "      <td>0.671946</td>\n",
       "    </tr>\n",
       "    <tr>\n",
       "      <th>1333</th>\n",
       "      <td>2</td>\n",
       "      <td>0.882638</td>\n",
       "    </tr>\n",
       "    <tr>\n",
       "      <th>1334</th>\n",
       "      <td>2</td>\n",
       "      <td>0.890029</td>\n",
       "    </tr>\n",
       "    <tr>\n",
       "      <th>1335</th>\n",
       "      <td>2</td>\n",
       "      <td>0.880289</td>\n",
       "    </tr>\n",
       "  </tbody>\n",
       "</table>\n",
       "<p>1336 rows × 2 columns</p>\n",
       "</div>"
      ],
      "text/plain": [
       "      予測        確率\n",
       "0      2  0.976036\n",
       "1      2  0.989121\n",
       "2      2  0.985534\n",
       "3      2  0.784800\n",
       "4      2  0.999377\n",
       "...   ..       ...\n",
       "1331   1  0.974059\n",
       "1332   2  0.671946\n",
       "1333   2  0.882638\n",
       "1334   2  0.890029\n",
       "1335   2  0.880289\n",
       "\n",
       "[1336 rows x 2 columns]"
      ]
     },
     "execution_count": 29,
     "metadata": {},
     "output_type": "execute_result"
    }
   ],
   "source": [
    "preds, probs = predict(test_x)\n",
    "pd.DataFrame([[y, p] for y, p in zip(preds, probs)], columns = ['予測', '確率'])"
   ]
  },
  {
   "cell_type": "markdown",
   "metadata": {},
   "source": [
    "### 54. 正解率の計測"
   ]
  },
  {
   "cell_type": "code",
   "execution_count": 30,
   "metadata": {},
   "outputs": [],
   "source": [
    "def accuracy(lr, xs, ts):\n",
    "    ys = lr.predict(xs)\n",
    "    return (ys == ts).mean()"
   ]
  },
  {
   "cell_type": "code",
   "execution_count": 31,
   "metadata": {},
   "outputs": [
    {
     "name": "stdout",
     "output_type": "stream",
     "text": [
      "訓練データ\n",
      "0.994664919505803\n"
     ]
    }
   ],
   "source": [
    "print('訓練データ')\n",
    "print(accuracy(lr, train_x, train_t))"
   ]
  },
  {
   "cell_type": "code",
   "execution_count": 32,
   "metadata": {},
   "outputs": [
    {
     "name": "stdout",
     "output_type": "stream",
     "text": [
      "評価データ\n",
      "0.906437125748503\n"
     ]
    }
   ],
   "source": [
    "print('評価データ')\n",
    "print(accuracy(lr, test_x, test_t))"
   ]
  },
  {
   "cell_type": "markdown",
   "metadata": {},
   "source": [
    "### 55. 混同行列の作成"
   ]
  },
  {
   "cell_type": "code",
   "execution_count": 33,
   "metadata": {},
   "outputs": [],
   "source": [
    "import seaborn as sns"
   ]
  },
  {
   "cell_type": "code",
   "execution_count": 34,
   "metadata": {},
   "outputs": [],
   "source": [
    "def confusion_matrix(xs, ts):\n",
    "    num_class = np.unique(ts).size\n",
    "    mat = np.zeros((num_class, num_class), dtype=np.int32)\n",
    "    ys = lr.predict(xs)\n",
    "    for y, t in zip(ys, ts):\n",
    "        mat[t, y] += 1\n",
    "    return mat\n",
    "\n",
    "def show_cm(cm):\n",
    "    sns.heatmap(cm, annot=True, cmap = 'Blues', xticklabels = categories, yticklabels = categories)"
   ]
  },
  {
   "cell_type": "code",
   "execution_count": 35,
   "metadata": {},
   "outputs": [
    {
     "name": "stdout",
     "output_type": "stream",
     "text": [
      "訓練データ\n",
      "[[4451   10    2    0]\n",
      " [  25 1192    6    0]\n",
      " [   4    1 4271    1]\n",
      " [   5    0    3  713]]\n"
     ]
    },
    {
     "data": {
      "image/png": "[encoded data removed]",
      "text/plain": [
       "<Figure size 432x288 with 2 Axes>"
      ]
     },
     "metadata": {
      "needs_background": "light"
     },
     "output_type": "display_data"
    }
   ],
   "source": [
    "train_cm = confusion_matrix(train_x, train_t)\n",
    "print('訓練データ')\n",
    "print(train_cm)\n",
    "show_cm(train_cm)"
   ]
  },
  {
   "cell_type": "code",
   "execution_count": 36,
   "metadata": {},
   "outputs": [
    {
     "name": "stdout",
     "output_type": "stream",
     "text": [
      "評価データ\n",
      "[[516  13  12   6]\n",
      " [ 35  87  10   2]\n",
      " [ 22   2 531   3]\n",
      " [ 10   5   5  77]]\n"
     ]
    },
    {
     "data": {
      "image/png": "[encoded data removed]",
      "text/plain": [
       "<Figure size 432x288 with 2 Axes>"
      ]
     },
     "metadata": {
      "needs_background": "light"
     },
     "output_type": "display_data"
    }
   ],
   "source": [
    "test_cm = confusion_matrix(test_x, test_t)\n",
    "print('評価データ')\n",
    "print(test_cm)\n",
    "show_cm(test_cm)"
   ]
  },
  {
   "cell_type": "markdown",
   "metadata": {},
   "source": [
    "### 56. 適合率，再現率，F1スコアの計測"
   ]
  },
  {
   "cell_type": "code",
   "execution_count": 37,
   "metadata": {},
   "outputs": [],
   "source": [
    "tp = test_cm.diagonal()\n",
    "tn = test_cm.sum(axis=1) - tp\n",
    "fp = test_cm.sum(axis=0) - tp"
   ]
  },
  {
   "cell_type": "code",
   "execution_count": 38,
   "metadata": {},
   "outputs": [],
   "source": [
    "p = tp / (tp + tn)\n",
    "r = tp / (tp + fp)\n",
    "F = 2 * p * r / (p + r)"
   ]
  },
  {
   "cell_type": "code",
   "execution_count": 39,
   "metadata": {},
   "outputs": [],
   "source": [
    "micro_p = tp.sum() / (tp + tn).sum()\n",
    "micro_r = tp.sum() / (tp + fp).sum()\n",
    "micro_F = 2 * micro_p * micro_r / (micro_p + micro_r)\n",
    "micro_ave = np.array([micro_p, micro_r, micro_F])"
   ]
  },
  {
   "cell_type": "code",
   "execution_count": 40,
   "metadata": {},
   "outputs": [],
   "source": [
    "macro_p = p.mean()\n",
    "macro_r = r.mean()\n",
    "macro_F = 2 * macro_p * macro_r / (macro_p + macro_r)\n",
    "macro_ave = np.array([macro_p, macro_r, macro_F])"
   ]
  },
  {
   "cell_type": "code",
   "execution_count": 41,
   "metadata": {},
   "outputs": [
    {
     "data": {
      "text/html": [
       "<div>\n",
       "<style scoped>\n",
       "    .dataframe tbody tr th:only-of-type {\n",
       "        vertical-align: middle;\n",
       "    }\n",
       "\n",
       "    .dataframe tbody tr th {\n",
       "        vertical-align: top;\n",
       "    }\n",
       "\n",
       "    .dataframe thead th {\n",
       "        text-align: right;\n",
       "    }\n",
       "</style>\n",
       "<table border=\"1\" class=\"dataframe\">\n",
       "  <thead>\n",
       "    <tr style=\"text-align: right;\">\n",
       "      <th></th>\n",
       "      <th>再現率</th>\n",
       "      <th>適合率</th>\n",
       "      <th>F1スコア</th>\n",
       "    </tr>\n",
       "  </thead>\n",
       "  <tbody>\n",
       "    <tr>\n",
       "      <th>b</th>\n",
       "      <td>0.943327</td>\n",
       "      <td>0.885077</td>\n",
       "      <td>0.913274</td>\n",
       "    </tr>\n",
       "    <tr>\n",
       "      <th>t</th>\n",
       "      <td>0.649254</td>\n",
       "      <td>0.813084</td>\n",
       "      <td>0.721992</td>\n",
       "    </tr>\n",
       "    <tr>\n",
       "      <th>e</th>\n",
       "      <td>0.951613</td>\n",
       "      <td>0.951613</td>\n",
       "      <td>0.951613</td>\n",
       "    </tr>\n",
       "    <tr>\n",
       "      <th>m</th>\n",
       "      <td>0.793814</td>\n",
       "      <td>0.875000</td>\n",
       "      <td>0.832432</td>\n",
       "    </tr>\n",
       "    <tr>\n",
       "      <th>マイクロ平均</th>\n",
       "      <td>0.906437</td>\n",
       "      <td>0.906437</td>\n",
       "      <td>0.906437</td>\n",
       "    </tr>\n",
       "    <tr>\n",
       "      <th>マクロ平均</th>\n",
       "      <td>0.834502</td>\n",
       "      <td>0.881194</td>\n",
       "      <td>0.857212</td>\n",
       "    </tr>\n",
       "  </tbody>\n",
       "</table>\n",
       "</div>"
      ],
      "text/plain": [
       "             再現率       適合率     F1スコア\n",
       "b       0.943327  0.885077  0.913274\n",
       "t       0.649254  0.813084  0.721992\n",
       "e       0.951613  0.951613  0.951613\n",
       "m       0.793814  0.875000  0.832432\n",
       "マイクロ平均  0.906437  0.906437  0.906437\n",
       "マクロ平均   0.834502  0.881194  0.857212"
      ]
     },
     "execution_count": 41,
     "metadata": {},
     "output_type": "execute_result"
    }
   ],
   "source": [
    "table = np.array([p, r, F]).T\n",
    "table = np.vstack([table, micro_ave, macro_ave])\n",
    "pd.DataFrame(\n",
    "    table,\n",
    "    index = categories + ['マイクロ平均'] + ['マクロ平均'],\n",
    "    columns = ['再現率', '適合率', 'F1スコア'])"
   ]
  },
  {
   "cell_type": "markdown",
   "metadata": {},
   "source": [
    "### 57. 特徴量の重みの確認"
   ]
  },
  {
   "cell_type": "code",
   "execution_count": 42,
   "metadata": {},
   "outputs": [],
   "source": [
    "def show_weight(directional, N):\n",
    "    for i, cat in enumerate(categories):\n",
    "        indices = lr.coef_[i].argsort()[::directional][:N]\n",
    "        best = np.array(features)[indices]\n",
    "        weight = lr.coef_[i][indices]\n",
    "        print(category_names[i])\n",
    "        display(pd.DataFrame([best, weight], index = ['特徴量', '重み'], columns = np.arange(N) + 1))"
   ]
  },
  {
   "cell_type": "markdown",
   "metadata": {},
   "source": [
    "重みの高い特徴量トップ10"
   ]
  },
  {
   "cell_type": "code",
   "execution_count": 43,
   "metadata": {},
   "outputs": [
    {
     "name": "stdout",
     "output_type": "stream",
     "text": [
      "business\n"
     ]
    },
    {
     "data": {
      "text/html": [
       "<div>\n",
       "<style scoped>\n",
       "    .dataframe tbody tr th:only-of-type {\n",
       "        vertical-align: middle;\n",
       "    }\n",
       "\n",
       "    .dataframe tbody tr th {\n",
       "        vertical-align: top;\n",
       "    }\n",
       "\n",
       "    .dataframe thead th {\n",
       "        text-align: right;\n",
       "    }\n",
       "</style>\n",
       "<table border=\"1\" class=\"dataframe\">\n",
       "  <thead>\n",
       "    <tr style=\"text-align: right;\">\n",
       "      <th></th>\n",
       "      <th>1</th>\n",
       "      <th>2</th>\n",
       "      <th>3</th>\n",
       "      <th>4</th>\n",
       "      <th>5</th>\n",
       "      <th>6</th>\n",
       "      <th>7</th>\n",
       "      <th>8</th>\n",
       "      <th>9</th>\n",
       "      <th>10</th>\n",
       "    </tr>\n",
       "  </thead>\n",
       "  <tbody>\n",
       "    <tr>\n",
       "      <th>特徴量</th>\n",
       "      <td>bank</td>\n",
       "      <td>fed</td>\n",
       "      <td>ukrain</td>\n",
       "      <td>yellen</td>\n",
       "      <td>china</td>\n",
       "      <td>ecb</td>\n",
       "      <td>fund</td>\n",
       "      <td>bond</td>\n",
       "      <td>profit</td>\n",
       "      <td>obamacar</td>\n",
       "    </tr>\n",
       "    <tr>\n",
       "      <th>重み</th>\n",
       "      <td>1.73804</td>\n",
       "      <td>1.62155</td>\n",
       "      <td>1.59007</td>\n",
       "      <td>1.51656</td>\n",
       "      <td>1.44616</td>\n",
       "      <td>1.42708</td>\n",
       "      <td>1.42298</td>\n",
       "      <td>1.35522</td>\n",
       "      <td>1.32754</td>\n",
       "      <td>1.31933</td>\n",
       "    </tr>\n",
       "  </tbody>\n",
       "</table>\n",
       "</div>"
      ],
      "text/plain": [
       "          1        2        3        4        5        6        7        8   \\\n",
       "特徴量     bank      fed   ukrain   yellen    china      ecb     fund     bond   \n",
       "重み   1.73804  1.62155  1.59007  1.51656  1.44616  1.42708  1.42298  1.35522   \n",
       "\n",
       "          9         10  \n",
       "特徴量   profit  obamacar  \n",
       "重み   1.32754   1.31933  "
      ]
     },
     "metadata": {},
     "output_type": "display_data"
    },
    {
     "name": "stdout",
     "output_type": "stream",
     "text": [
      "science and technology\n"
     ]
    },
    {
     "data": {
      "text/html": [
       "<div>\n",
       "<style scoped>\n",
       "    .dataframe tbody tr th:only-of-type {\n",
       "        vertical-align: middle;\n",
       "    }\n",
       "\n",
       "    .dataframe tbody tr th {\n",
       "        vertical-align: top;\n",
       "    }\n",
       "\n",
       "    .dataframe thead th {\n",
       "        text-align: right;\n",
       "    }\n",
       "</style>\n",
       "<table border=\"1\" class=\"dataframe\">\n",
       "  <thead>\n",
       "    <tr style=\"text-align: right;\">\n",
       "      <th></th>\n",
       "      <th>1</th>\n",
       "      <th>2</th>\n",
       "      <th>3</th>\n",
       "      <th>4</th>\n",
       "      <th>5</th>\n",
       "      <th>6</th>\n",
       "      <th>7</th>\n",
       "      <th>8</th>\n",
       "      <th>9</th>\n",
       "      <th>10</th>\n",
       "    </tr>\n",
       "  </thead>\n",
       "  <tbody>\n",
       "    <tr>\n",
       "      <th>特徴量</th>\n",
       "      <td>facebook</td>\n",
       "      <td>googl</td>\n",
       "      <td>climat</td>\n",
       "      <td>appl</td>\n",
       "      <td>microsoft</td>\n",
       "      <td>nasa</td>\n",
       "      <td>fcc</td>\n",
       "      <td>activis</td>\n",
       "      <td>heartble</td>\n",
       "      <td>moon</td>\n",
       "    </tr>\n",
       "    <tr>\n",
       "      <th>重み</th>\n",
       "      <td>2.71298</td>\n",
       "      <td>2.6787</td>\n",
       "      <td>2.3076</td>\n",
       "      <td>2.23976</td>\n",
       "      <td>2.17365</td>\n",
       "      <td>1.79331</td>\n",
       "      <td>1.72819</td>\n",
       "      <td>1.67715</td>\n",
       "      <td>1.65323</td>\n",
       "      <td>1.52674</td>\n",
       "    </tr>\n",
       "  </tbody>\n",
       "</table>\n",
       "</div>"
      ],
      "text/plain": [
       "           1       2       3        4          5        6        7        8   \\\n",
       "特徴量  facebook   googl  climat     appl  microsoft     nasa      fcc  activis   \n",
       "重み    2.71298  2.6787  2.3076  2.23976    2.17365  1.79331  1.72819  1.67715   \n",
       "\n",
       "           9        10  \n",
       "特徴量  heartble     moon  \n",
       "重み    1.65323  1.52674  "
      ]
     },
     "metadata": {},
     "output_type": "display_data"
    },
    {
     "name": "stdout",
     "output_type": "stream",
     "text": [
      "entertainment\n"
     ]
    },
    {
     "data": {
      "text/html": [
       "<div>\n",
       "<style scoped>\n",
       "    .dataframe tbody tr th:only-of-type {\n",
       "        vertical-align: middle;\n",
       "    }\n",
       "\n",
       "    .dataframe tbody tr th {\n",
       "        vertical-align: top;\n",
       "    }\n",
       "\n",
       "    .dataframe thead th {\n",
       "        text-align: right;\n",
       "    }\n",
       "</style>\n",
       "<table border=\"1\" class=\"dataframe\">\n",
       "  <thead>\n",
       "    <tr style=\"text-align: right;\">\n",
       "      <th></th>\n",
       "      <th>1</th>\n",
       "      <th>2</th>\n",
       "      <th>3</th>\n",
       "      <th>4</th>\n",
       "      <th>5</th>\n",
       "      <th>6</th>\n",
       "      <th>7</th>\n",
       "      <th>8</th>\n",
       "      <th>9</th>\n",
       "      <th>10</th>\n",
       "    </tr>\n",
       "  </thead>\n",
       "  <tbody>\n",
       "    <tr>\n",
       "      <th>特徴量</th>\n",
       "      <td>kim</td>\n",
       "      <td>film</td>\n",
       "      <td>movi</td>\n",
       "      <td>chris</td>\n",
       "      <td>wed</td>\n",
       "      <td>fan</td>\n",
       "      <td>star</td>\n",
       "      <td>kim kardashian</td>\n",
       "      <td>transform</td>\n",
       "      <td>easter</td>\n",
       "    </tr>\n",
       "    <tr>\n",
       "      <th>重み</th>\n",
       "      <td>1.50072</td>\n",
       "      <td>1.47954</td>\n",
       "      <td>1.35987</td>\n",
       "      <td>1.28756</td>\n",
       "      <td>1.28378</td>\n",
       "      <td>1.24557</td>\n",
       "      <td>1.17424</td>\n",
       "      <td>1.16297</td>\n",
       "      <td>1.15932</td>\n",
       "      <td>1.1547</td>\n",
       "    </tr>\n",
       "  </tbody>\n",
       "</table>\n",
       "</div>"
      ],
      "text/plain": [
       "          1        2        3        4        5        6        7   \\\n",
       "特徴量      kim     film     movi    chris      wed      fan     star   \n",
       "重み   1.50072  1.47954  1.35987  1.28756  1.28378  1.24557  1.17424   \n",
       "\n",
       "                 8          9       10  \n",
       "特徴量  kim kardashian  transform  easter  \n",
       "重み          1.16297    1.15932  1.1547  "
      ]
     },
     "metadata": {},
     "output_type": "display_data"
    },
    {
     "name": "stdout",
     "output_type": "stream",
     "text": [
      "health\n"
     ]
    },
    {
     "data": {
      "text/html": [
       "<div>\n",
       "<style scoped>\n",
       "    .dataframe tbody tr th:only-of-type {\n",
       "        vertical-align: middle;\n",
       "    }\n",
       "\n",
       "    .dataframe tbody tr th {\n",
       "        vertical-align: top;\n",
       "    }\n",
       "\n",
       "    .dataframe thead th {\n",
       "        text-align: right;\n",
       "    }\n",
       "</style>\n",
       "<table border=\"1\" class=\"dataframe\">\n",
       "  <thead>\n",
       "    <tr style=\"text-align: right;\">\n",
       "      <th></th>\n",
       "      <th>1</th>\n",
       "      <th>2</th>\n",
       "      <th>3</th>\n",
       "      <th>4</th>\n",
       "      <th>5</th>\n",
       "      <th>6</th>\n",
       "      <th>7</th>\n",
       "      <th>8</th>\n",
       "      <th>9</th>\n",
       "      <th>10</th>\n",
       "    </tr>\n",
       "  </thead>\n",
       "  <tbody>\n",
       "    <tr>\n",
       "      <th>特徴量</th>\n",
       "      <td>fda</td>\n",
       "      <td>cancer</td>\n",
       "      <td>mer</td>\n",
       "      <td>brain</td>\n",
       "      <td>ebola</td>\n",
       "      <td>doctor</td>\n",
       "      <td>studi</td>\n",
       "      <td>drug</td>\n",
       "      <td>medic</td>\n",
       "      <td>cdc</td>\n",
       "    </tr>\n",
       "    <tr>\n",
       "      <th>重み</th>\n",
       "      <td>1.94453</td>\n",
       "      <td>1.74533</td>\n",
       "      <td>1.73575</td>\n",
       "      <td>1.73243</td>\n",
       "      <td>1.65295</td>\n",
       "      <td>1.6509</td>\n",
       "      <td>1.60426</td>\n",
       "      <td>1.59458</td>\n",
       "      <td>1.55931</td>\n",
       "      <td>1.49178</td>\n",
       "    </tr>\n",
       "  </tbody>\n",
       "</table>\n",
       "</div>"
      ],
      "text/plain": [
       "          1        2        3        4        5       6        7        8   \\\n",
       "特徴量      fda   cancer      mer    brain    ebola  doctor    studi     drug   \n",
       "重み   1.94453  1.74533  1.73575  1.73243  1.65295  1.6509  1.60426  1.59458   \n",
       "\n",
       "          9        10  \n",
       "特徴量    medic      cdc  \n",
       "重み   1.55931  1.49178  "
      ]
     },
     "metadata": {},
     "output_type": "display_data"
    }
   ],
   "source": [
    "show_weight(-1, 10)"
   ]
  },
  {
   "cell_type": "markdown",
   "metadata": {},
   "source": [
    "重みの低い特徴量トップ10"
   ]
  },
  {
   "cell_type": "code",
   "execution_count": 44,
   "metadata": {},
   "outputs": [
    {
     "name": "stdout",
     "output_type": "stream",
     "text": [
      "business\n"
     ]
    },
    {
     "data": {
      "text/html": [
       "<div>\n",
       "<style scoped>\n",
       "    .dataframe tbody tr th:only-of-type {\n",
       "        vertical-align: middle;\n",
       "    }\n",
       "\n",
       "    .dataframe tbody tr th {\n",
       "        vertical-align: top;\n",
       "    }\n",
       "\n",
       "    .dataframe thead th {\n",
       "        text-align: right;\n",
       "    }\n",
       "</style>\n",
       "<table border=\"1\" class=\"dataframe\">\n",
       "  <thead>\n",
       "    <tr style=\"text-align: right;\">\n",
       "      <th></th>\n",
       "      <th>1</th>\n",
       "      <th>2</th>\n",
       "      <th>3</th>\n",
       "      <th>4</th>\n",
       "      <th>5</th>\n",
       "      <th>6</th>\n",
       "      <th>7</th>\n",
       "      <th>8</th>\n",
       "      <th>9</th>\n",
       "      <th>10</th>\n",
       "    </tr>\n",
       "  </thead>\n",
       "  <tbody>\n",
       "    <tr>\n",
       "      <th>特徴量</th>\n",
       "      <td>aereo</td>\n",
       "      <td>activis</td>\n",
       "      <td>babi</td>\n",
       "      <td>subscript</td>\n",
       "      <td>star</td>\n",
       "      <td>hat</td>\n",
       "      <td>victim</td>\n",
       "      <td>gentiva</td>\n",
       "      <td>virus</td>\n",
       "      <td>the ...</td>\n",
       "    </tr>\n",
       "    <tr>\n",
       "      <th>重み</th>\n",
       "      <td>-1.46757</td>\n",
       "      <td>-1.45666</td>\n",
       "      <td>-1.14729</td>\n",
       "      <td>-1.08675</td>\n",
       "      <td>-1.00507</td>\n",
       "      <td>-1.00284</td>\n",
       "      <td>-0.996877</td>\n",
       "      <td>-0.992272</td>\n",
       "      <td>-0.957667</td>\n",
       "      <td>-0.956004</td>\n",
       "    </tr>\n",
       "  </tbody>\n",
       "</table>\n",
       "</div>"
      ],
      "text/plain": [
       "          1        2        3          4        5        6         7   \\\n",
       "特徴量    aereo  activis     babi  subscript     star      hat    victim   \n",
       "重み  -1.46757 -1.45666 -1.14729   -1.08675 -1.00507 -1.00284 -0.996877   \n",
       "\n",
       "           8         9         10  \n",
       "特徴量   gentiva     virus   the ...  \n",
       "重み  -0.992272 -0.957667 -0.956004  "
      ]
     },
     "metadata": {},
     "output_type": "display_data"
    },
    {
     "name": "stdout",
     "output_type": "stream",
     "text": [
      "science and technology\n"
     ]
    },
    {
     "data": {
      "text/html": [
       "<div>\n",
       "<style scoped>\n",
       "    .dataframe tbody tr th:only-of-type {\n",
       "        vertical-align: middle;\n",
       "    }\n",
       "\n",
       "    .dataframe tbody tr th {\n",
       "        vertical-align: top;\n",
       "    }\n",
       "\n",
       "    .dataframe thead th {\n",
       "        text-align: right;\n",
       "    }\n",
       "</style>\n",
       "<table border=\"1\" class=\"dataframe\">\n",
       "  <thead>\n",
       "    <tr style=\"text-align: right;\">\n",
       "      <th></th>\n",
       "      <th>1</th>\n",
       "      <th>2</th>\n",
       "      <th>3</th>\n",
       "      <th>4</th>\n",
       "      <th>5</th>\n",
       "      <th>6</th>\n",
       "      <th>7</th>\n",
       "      <th>8</th>\n",
       "      <th>9</th>\n",
       "      <th>10</th>\n",
       "    </tr>\n",
       "  </thead>\n",
       "  <tbody>\n",
       "    <tr>\n",
       "      <th>特徴量</th>\n",
       "      <td>percent</td>\n",
       "      <td>drug</td>\n",
       "      <td>40</td>\n",
       "      <td>us stock</td>\n",
       "      <td>cancer</td>\n",
       "      <td>in ...</td>\n",
       "      <td>her</td>\n",
       "      <td>face</td>\n",
       "      <td>fed</td>\n",
       "      <td>well</td>\n",
       "    </tr>\n",
       "    <tr>\n",
       "      <th>重み</th>\n",
       "      <td>-0.943594</td>\n",
       "      <td>-0.896585</td>\n",
       "      <td>-0.880356</td>\n",
       "      <td>-0.811273</td>\n",
       "      <td>-0.81053</td>\n",
       "      <td>-0.804478</td>\n",
       "      <td>-0.7815</td>\n",
       "      <td>-0.765165</td>\n",
       "      <td>-0.763561</td>\n",
       "      <td>-0.751812</td>\n",
       "    </tr>\n",
       "  </tbody>\n",
       "</table>\n",
       "</div>"
      ],
      "text/plain": [
       "           1         2         3         4        5         6       7   \\\n",
       "特徴量   percent      drug        40  us stock   cancer    in ...     her   \n",
       "重み  -0.943594 -0.896585 -0.880356 -0.811273 -0.81053 -0.804478 -0.7815   \n",
       "\n",
       "           8         9         10  \n",
       "特徴量      face       fed      well  \n",
       "重み  -0.765165 -0.763561 -0.751812  "
      ]
     },
     "metadata": {},
     "output_type": "display_data"
    },
    {
     "name": "stdout",
     "output_type": "stream",
     "text": [
      "entertainment\n"
     ]
    },
    {
     "data": {
      "text/html": [
       "<div>\n",
       "<style scoped>\n",
       "    .dataframe tbody tr th:only-of-type {\n",
       "        vertical-align: middle;\n",
       "    }\n",
       "\n",
       "    .dataframe tbody tr th {\n",
       "        vertical-align: top;\n",
       "    }\n",
       "\n",
       "    .dataframe thead th {\n",
       "        text-align: right;\n",
       "    }\n",
       "</style>\n",
       "<table border=\"1\" class=\"dataframe\">\n",
       "  <thead>\n",
       "    <tr style=\"text-align: right;\">\n",
       "      <th></th>\n",
       "      <th>1</th>\n",
       "      <th>2</th>\n",
       "      <th>3</th>\n",
       "      <th>4</th>\n",
       "      <th>5</th>\n",
       "      <th>6</th>\n",
       "      <th>7</th>\n",
       "      <th>8</th>\n",
       "      <th>9</th>\n",
       "      <th>10</th>\n",
       "    </tr>\n",
       "  </thead>\n",
       "  <tbody>\n",
       "    <tr>\n",
       "      <th>特徴量</th>\n",
       "      <td>googl</td>\n",
       "      <td>china</td>\n",
       "      <td>facebook</td>\n",
       "      <td>recal</td>\n",
       "      <td>rule</td>\n",
       "      <td>oil</td>\n",
       "      <td>price</td>\n",
       "      <td>studi</td>\n",
       "      <td>scientist</td>\n",
       "      <td>microsoft</td>\n",
       "    </tr>\n",
       "    <tr>\n",
       "      <th>重み</th>\n",
       "      <td>-1.42632</td>\n",
       "      <td>-1.3001</td>\n",
       "      <td>-1.18718</td>\n",
       "      <td>-1.12201</td>\n",
       "      <td>-1.07924</td>\n",
       "      <td>-1.04316</td>\n",
       "      <td>-1.03923</td>\n",
       "      <td>-1.02691</td>\n",
       "      <td>-0.982949</td>\n",
       "      <td>-0.953777</td>\n",
       "    </tr>\n",
       "  </tbody>\n",
       "</table>\n",
       "</div>"
      ],
      "text/plain": [
       "          1       2         3        4        5        6        7        8   \\\n",
       "特徴量    googl   china  facebook    recal     rule      oil    price    studi   \n",
       "重み  -1.42632 -1.3001  -1.18718 -1.12201 -1.07924 -1.04316 -1.03923 -1.02691   \n",
       "\n",
       "            9          10  \n",
       "特徴量  scientist  microsoft  \n",
       "重み   -0.982949  -0.953777  "
      ]
     },
     "metadata": {},
     "output_type": "display_data"
    },
    {
     "name": "stdout",
     "output_type": "stream",
     "text": [
      "health\n"
     ]
    },
    {
     "data": {
      "text/html": [
       "<div>\n",
       "<style scoped>\n",
       "    .dataframe tbody tr th:only-of-type {\n",
       "        vertical-align: middle;\n",
       "    }\n",
       "\n",
       "    .dataframe tbody tr th {\n",
       "        vertical-align: top;\n",
       "    }\n",
       "\n",
       "    .dataframe thead th {\n",
       "        text-align: right;\n",
       "    }\n",
       "</style>\n",
       "<table border=\"1\" class=\"dataframe\">\n",
       "  <thead>\n",
       "    <tr style=\"text-align: right;\">\n",
       "      <th></th>\n",
       "      <th>1</th>\n",
       "      <th>2</th>\n",
       "      <th>3</th>\n",
       "      <th>4</th>\n",
       "      <th>5</th>\n",
       "      <th>6</th>\n",
       "      <th>7</th>\n",
       "      <th>8</th>\n",
       "      <th>9</th>\n",
       "      <th>10</th>\n",
       "    </tr>\n",
       "  </thead>\n",
       "  <tbody>\n",
       "    <tr>\n",
       "      <th>特徴量</th>\n",
       "      <td>dimon</td>\n",
       "      <td>deal</td>\n",
       "      <td>facebook</td>\n",
       "      <td>ceo</td>\n",
       "      <td>gm</td>\n",
       "      <td>fund</td>\n",
       "      <td>climat</td>\n",
       "      <td>appl</td>\n",
       "      <td>hit</td>\n",
       "      <td>twitter</td>\n",
       "    </tr>\n",
       "    <tr>\n",
       "      <th>重み</th>\n",
       "      <td>-0.889664</td>\n",
       "      <td>-0.776552</td>\n",
       "      <td>-0.766138</td>\n",
       "      <td>-0.760696</td>\n",
       "      <td>-0.748344</td>\n",
       "      <td>-0.723219</td>\n",
       "      <td>-0.712452</td>\n",
       "      <td>-0.680762</td>\n",
       "      <td>-0.622121</td>\n",
       "      <td>-0.596804</td>\n",
       "    </tr>\n",
       "  </tbody>\n",
       "</table>\n",
       "</div>"
      ],
      "text/plain": [
       "           1         2         3         4         5         6         7   \\\n",
       "特徴量     dimon      deal  facebook       ceo        gm      fund    climat   \n",
       "重み  -0.889664 -0.776552 -0.766138 -0.760696 -0.748344 -0.723219 -0.712452   \n",
       "\n",
       "           8         9         10  \n",
       "特徴量      appl       hit   twitter  \n",
       "重み  -0.680762 -0.622121 -0.596804  "
      ]
     },
     "metadata": {},
     "output_type": "display_data"
    }
   ],
   "source": [
    "show_weight(1, 10)"
   ]
  },
  {
   "cell_type": "markdown",
   "metadata": {},
   "source": [
    "### 58. 正則化パラメータの変更"
   ]
  },
  {
   "cell_type": "code",
   "execution_count": 45,
   "metadata": {},
   "outputs": [
    {
     "name": "stderr",
     "output_type": "stream",
     "text": [
      "/home/koyama.s/nlp100/env/nlp100/lib/python3.8/site-packages/japanize_matplotlib/__init__.py:13: MatplotlibDeprecationWarning: \n",
      "The createFontList function was deprecated in Matplotlib 3.2 and will be removed two minor releases later. Use FontManager.addfont instead.\n",
      "  font_list = font_manager.createFontList(font_files)\n"
     ]
    }
   ],
   "source": [
    "import matplotlib.pyplot as plt\n",
    "import japanize_matplotlib\n",
    "from tqdm import tqdm"
   ]
  },
  {
   "cell_type": "code",
   "execution_count": 46,
   "metadata": {},
   "outputs": [
    {
     "name": "stderr",
     "output_type": "stream",
     "text": [
      "100%|██████████| 50/50 [13:57<00:00, 16.74s/it]\n"
     ]
    }
   ],
   "source": [
    "Cs = np.arange(0.1, 5.1, 0.1)\n",
    "lrs = [LogisticRegression(C=C, max_iter=1000).fit(train_x, train_t) for C in tqdm(Cs)]"
   ]
  },
  {
   "cell_type": "code",
   "execution_count": 47,
   "metadata": {},
   "outputs": [],
   "source": [
    "train_accs = [accuracy(lr, train_x, train_t) for lr in lrs]\n",
    "valid_accs = [accuracy(lr, valid_x, valid_t) for lr in lrs]\n",
    "test_accs = [accuracy(lr, test_x, test_t) for lr in lrs]"
   ]
  },
  {
   "cell_type": "code",
   "execution_count": 48,
   "metadata": {},
   "outputs": [
    {
     "data": {
      "image/png": "[encoded data removed]",
      "text/plain": [
       "<Figure size 432x288 with 1 Axes>"
      ]
     },
     "metadata": {
      "needs_background": "light"
     },
     "output_type": "display_data"
    }
   ],
   "source": [
    "plt.plot(Cs, train_accs, label = '学習')\n",
    "plt.plot(Cs, valid_accs, label = '検証')\n",
    "plt.plot(Cs, test_accs, label = '評価')\n",
    "plt.legend()\n",
    "plt.savefig('result/58.png')"
   ]
  },
  {
   "cell_type": "markdown",
   "metadata": {},
   "source": [
    "正則化が弱いと過学習してるのがわかる"
   ]
  },
  {
   "cell_type": "markdown",
   "metadata": {},
   "source": [
    "### 59. ハイパーパラメータの探索"
   ]
  },
  {
   "cell_type": "markdown",
   "metadata": {},
   "source": [
    "打ち切り誤差を変えて見る"
   ]
  },
  {
   "cell_type": "code",
   "execution_count": 49,
   "metadata": {},
   "outputs": [
    {
     "name": "stderr",
     "output_type": "stream",
     "text": [
      "100%|██████████| 50/50 [04:01<00:00,  4.83s/it]\n"
     ]
    }
   ],
   "source": [
    "tols = np.logspace(0, 2, 50)\n",
    "lrs = [LogisticRegression(tol=tol, max_iter=1000).fit(train_x, train_t) for tol in tqdm(tols)]"
   ]
  },
  {
   "cell_type": "code",
   "execution_count": 50,
   "metadata": {},
   "outputs": [],
   "source": [
    "train_accs = [accuracy(lr, train_x, train_t) for lr in lrs]\n",
    "valid_accs = [accuracy(lr, valid_x, valid_t) for lr in lrs]\n",
    "test_accs = [accuracy(lr, test_x, test_t) for lr in lrs]"
   ]
  },
  {
   "cell_type": "code",
   "execution_count": 51,
   "metadata": {},
   "outputs": [
    {
     "data": {
      "image/png": "[encoded data removed]",
      "text/plain": [
       "<Figure size 432x288 with 1 Axes>"
      ]
     },
     "metadata": {
      "needs_background": "light"
     },
     "output_type": "display_data"
    }
   ],
   "source": [
    "plt.plot(tols, train_accs, label = '学習')\n",
    "plt.plot(tols, valid_accs, label = '検証')\n",
    "plt.plot(tols, test_accs, label = '評価')\n",
    "plt.xscale('log')\n",
    "plt.legend()\n",
    "plt.savefig('result/59.png')"
   ]
  },
  {
   "cell_type": "markdown",
   "metadata": {},
   "source": [
    "sklearnの有名なフローチャートを見てなにかないかなという気持ちをする\n",
    "\n",
    "<img src='https://scikit-learn.org/stable/_static/ml_map.png'>"
   ]
  },
  {
   "cell_type": "markdown",
   "metadata": {},
   "source": [
    "ナイーブベイズ"
   ]
  },
  {
   "cell_type": "code",
   "execution_count": 52,
   "metadata": {},
   "outputs": [],
   "source": [
    "from sklearn.naive_bayes import MultinomialNB"
   ]
  },
  {
   "cell_type": "code",
   "execution_count": 53,
   "metadata": {},
   "outputs": [
    {
     "data": {
      "text/plain": [
       "MultinomialNB(alpha=1.0, class_prior=None, fit_prior=True)"
      ]
     },
     "execution_count": 53,
     "metadata": {},
     "output_type": "execute_result"
    }
   ],
   "source": [
    "nb = MultinomialNB()\n",
    "nb.fit(train_x, train_t)"
   ]
  },
  {
   "cell_type": "code",
   "execution_count": 54,
   "metadata": {},
   "outputs": [
    {
     "data": {
      "text/plain": [
       "0.9429988768251591"
      ]
     },
     "execution_count": 54,
     "metadata": {},
     "output_type": "execute_result"
    }
   ],
   "source": [
    "accuracy(nb, train_x, train_t)"
   ]
  },
  {
   "cell_type": "code",
   "execution_count": 55,
   "metadata": {},
   "outputs": [
    {
     "data": {
      "text/plain": [
       "0.8907185628742516"
      ]
     },
     "execution_count": 55,
     "metadata": {},
     "output_type": "execute_result"
    }
   ],
   "source": [
    "accuracy(nb, test_x, test_t)"
   ]
  },
  {
   "cell_type": "markdown",
   "metadata": {},
   "source": [
    "テキスト分類コスパ最強ナイーブベイズという感じ"
   ]
  },
  {
   "cell_type": "markdown",
   "metadata": {},
   "source": [
    "サポートベクトルマシン"
   ]
  },
  {
   "cell_type": "code",
   "execution_count": 56,
   "metadata": {},
   "outputs": [],
   "source": [
    "from sklearn.svm import LinearSVC"
   ]
  },
  {
   "cell_type": "code",
   "execution_count": 57,
   "metadata": {},
   "outputs": [
    {
     "data": {
      "text/plain": [
       "LinearSVC(C=0.1, class_weight=None, dual=True, fit_intercept=True,\n",
       "          intercept_scaling=1, loss='squared_hinge', max_iter=1000,\n",
       "          multi_class='ovr', penalty='l2', random_state=None, tol=0.0001,\n",
       "          verbose=0)"
      ]
     },
     "execution_count": 57,
     "metadata": {},
     "output_type": "execute_result"
    }
   ],
   "source": [
    "svc = LinearSVC(C=0.1)\n",
    "svc.fit(train_x,train_t)"
   ]
  },
  {
   "cell_type": "code",
   "execution_count": 58,
   "metadata": {},
   "outputs": [
    {
     "data": {
      "text/plain": [
       "0.9908274054661176"
      ]
     },
     "execution_count": 58,
     "metadata": {},
     "output_type": "execute_result"
    }
   ],
   "source": [
    "accuracy(svc, train_x, train_t)"
   ]
  },
  {
   "cell_type": "code",
   "execution_count": 59,
   "metadata": {},
   "outputs": [
    {
     "data": {
      "text/plain": [
       "0.9041916167664671"
      ]
     },
     "execution_count": 59,
     "metadata": {},
     "output_type": "execute_result"
    }
   ],
   "source": [
    "accuracy(svc, test_x, test_t)"
   ]
  },
  {
   "cell_type": "markdown",
   "metadata": {},
   "source": [
    "とてもいいですね"
   ]
  }
 ],
 "metadata": {
  "kernelspec": {
   "display_name": "Python 3",
   "language": "python",
   "name": "python3"
  },
  "language_info": {
   "codemirror_mode": {
    "name": "ipython",
    "version": 3
   },
   "file_extension": ".py",
   "mimetype": "text/x-python",
   "name": "python",
   "nbconvert_exporter": "python",
   "pygments_lexer": "ipython3",
   "version": "3.8.2"
  }
 },
 "nbformat": 4,
 "nbformat_minor": 4
}
