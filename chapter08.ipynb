{
 "cells": [
  {
   "cell_type": "markdown",
   "metadata": {},
   "source": [
    "### 70. 単語ベクトルの和による特徴量"
   ]
  },
  {
   "cell_type": "markdown",
   "metadata": {},
   "source": [
    "データを読み込んで単語に分割する"
   ]
  },
  {
   "cell_type": "code",
   "execution_count": 1,
   "metadata": {},
   "outputs": [],
   "source": [
    "import re\n",
    "import spacy"
   ]
  },
  {
   "cell_type": "code",
   "execution_count": 2,
   "metadata": {},
   "outputs": [],
   "source": [
    "nlp = spacy.load('en')\n",
    "categories = ['b', 't', 'e', 'm']\n",
    "category_names = ['business', 'science and technology', 'entertainment', 'health']"
   ]
  },
  {
   "cell_type": "code",
   "execution_count": 3,
   "metadata": {},
   "outputs": [],
   "source": [
    "def tokenize(x):\n",
    "    x = re.sub(r'\\s+', ' ', x)\n",
    "    x = nlp.make_doc(x)\n",
    "    x = [d.text for d in x]\n",
    "    return x\n",
    "\n",
    "def read_feature_dataset(filename):\n",
    "    with open(filename) as f:\n",
    "        dataset = f.read().splitlines()\n",
    "    dataset = [line.split('\\t') for line in dataset]\n",
    "    dataset_t = [categories.index(line[0]) for line in dataset]\n",
    "    dataset_x = [tokenize(line[1]) for line in dataset]\n",
    "    return dataset_x, dataset_t"
   ]
  },
  {
   "cell_type": "code",
   "execution_count": 4,
   "metadata": {},
   "outputs": [],
   "source": [
    "train_x, train_t = read_feature_dataset('data/train.txt')\n",
    "valid_x, valid_t = read_feature_dataset('data/valid.txt')\n",
    "test_x, test_t = read_feature_dataset('data/test.txt')"
   ]
  },
  {
   "cell_type": "markdown",
   "metadata": {},
   "source": [
    "特徴ベクトルに変換する"
   ]
  },
  {
   "cell_type": "code",
   "execution_count": 5,
   "metadata": {},
   "outputs": [
    {
     "name": "stderr",
     "output_type": "stream",
     "text": [
      "unable to import 'smart_open.gcs', disabling that module\n"
     ]
    }
   ],
   "source": [
    "import torch\n",
    "from gensim.models import KeyedVectors"
   ]
  },
  {
   "cell_type": "code",
   "execution_count": 6,
   "metadata": {},
   "outputs": [],
   "source": [
    "model = KeyedVectors.load_word2vec_format('data/GoogleNews-vectors-negative300.bin.gz', binary=True)"
   ]
  },
  {
   "cell_type": "code",
   "execution_count": 7,
   "metadata": {},
   "outputs": [],
   "source": [
    "def sent_to_vector(sent):\n",
    "    lst = [torch.tensor(model[token]) for token in sent if token in model]\n",
    "    return sum(lst) / len(lst)\n",
    "\n",
    "def dataset_to_vector(dataset):\n",
    "    return torch.stack([sent_to_vector(x) for x in dataset])"
   ]
  },
  {
   "cell_type": "code",
   "execution_count": 8,
   "metadata": {},
   "outputs": [],
   "source": [
    "train_v = dataset_to_vector(train_x)\n",
    "valid_v = dataset_to_vector(valid_x)\n",
    "test_v = dataset_to_vector(test_x)"
   ]
  },
  {
   "cell_type": "code",
   "execution_count": 9,
   "metadata": {},
   "outputs": [
    {
     "data": {
      "text/plain": [
       "tensor([ 9.0576e-02,  5.4932e-02, -7.7393e-02,  1.1810e-01, -3.8849e-02,\n",
       "        -2.6074e-01, -6.4484e-02,  3.2715e-02,  1.1792e-01, -3.4363e-02,\n",
       "        -1.5137e-02, -1.7090e-02,  7.2632e-02,  1.0742e-02,  1.1194e-01,\n",
       "         5.8945e-02,  1.6275e-01,  1.5393e-01,  7.0496e-02, -1.5210e-01,\n",
       "         2.8320e-02,  1.1719e-02,  1.9702e-01, -1.5610e-02, -2.3438e-02,\n",
       "         1.8921e-02,  2.8687e-02, -2.3438e-02,  2.3315e-02, -5.7480e-02,\n",
       "         2.1973e-03, -1.0449e-01, -9.7534e-02, -1.3694e-01,  1.6144e-01,\n",
       "        -2.6062e-02,  3.1250e-02,  1.9482e-01, -1.0788e-01,  7.2571e-02,\n",
       "        -1.3916e-02,  1.1121e-01,  7.0801e-03, -4.1016e-02, -1.9580e-01,\n",
       "         1.7334e-02,  1.0986e-02, -6.9485e-03,  9.2773e-02,  7.2205e-02,\n",
       "         6.8298e-02, -5.3589e-02, -1.7447e-01,  1.0245e-01, -8.6426e-02,\n",
       "        -9.0942e-03, -1.7212e-01, -1.3789e-01, -1.0355e-01,  1.9226e-02,\n",
       "         1.0620e-02,  9.7626e-02, -5.1147e-02,  1.1371e-01,  3.5156e-02,\n",
       "        -4.8523e-03, -7.1960e-02,  1.1841e-01, -1.0974e-01,  1.2878e-01,\n",
       "        -7.3273e-02,  5.3711e-02,  9.6313e-02, -9.0950e-02,  4.3335e-02,\n",
       "        -4.7424e-02, -3.0518e-02,  5.2856e-02,  3.7842e-02,  2.2559e-01,\n",
       "         4.0161e-02, -2.3822e-01, -1.3531e-01, -3.8513e-02, -1.1475e-02,\n",
       "        -7.3242e-02, -1.9324e-01,  1.9553e-01,  1.0870e-01,  1.5405e-01,\n",
       "         2.8793e-02, -1.9226e-01,  3.1952e-02, -1.0471e-01,  4.9561e-02,\n",
       "         6.5918e-03, -5.6793e-02,  1.8628e-01, -5.5908e-02, -9.8999e-02,\n",
       "        -2.1448e-01, -1.6602e-02,  6.7627e-02,  2.1149e-02, -6.8970e-02,\n",
       "         2.3804e-03, -2.1729e-02, -9.1599e-02, -8.7585e-02, -1.1963e-01,\n",
       "        -8.7555e-02,  6.1768e-02, -1.6205e-02,  2.9572e-02,  1.2207e-04,\n",
       "         1.3300e-01,  1.6541e-02, -1.3672e-01,  1.4978e-01, -4.8828e-03,\n",
       "        -2.6172e-01,  3.9093e-02,  1.4761e-01,  1.3745e-01,  8.6670e-03,\n",
       "        -1.0797e-01,  8.3801e-02,  3.2690e-01, -6.9336e-02,  6.8115e-02,\n",
       "         1.0571e-01, -1.2269e-01, -1.4209e-01,  7.7923e-02, -1.6113e-02,\n",
       "        -6.8039e-02,  1.2909e-02, -4.9911e-02,  2.0142e-01,  9.5764e-02,\n",
       "         8.1078e-02, -2.6733e-02, -1.4606e-01, -1.0449e-01,  7.1014e-02,\n",
       "         9.4604e-03,  9.6436e-02, -3.3386e-02, -6.5552e-02, -4.0009e-02,\n",
       "         2.0976e-01, -9.5825e-02,  1.2494e-01, -1.1230e-02,  1.3062e-02,\n",
       "         1.8829e-02, -1.7525e-01, -1.6845e-01, -3.0334e-02, -5.6152e-02,\n",
       "        -2.3193e-02, -8.4961e-02,  4.6021e-02,  1.5533e-01, -2.4780e-02,\n",
       "        -1.7255e-01, -2.9472e-02, -3.2959e-03, -3.2166e-02,  1.1292e-01,\n",
       "        -5.0537e-02,  6.0730e-02,  1.8042e-01, -2.6678e-01,  6.5601e-02,\n",
       "        -2.4567e-01, -4.1382e-02, -2.4902e-02, -7.3853e-02,  3.8330e-02,\n",
       "        -3.5229e-01, -4.8477e-02,  7.8522e-02,  2.4719e-03, -1.1414e-02,\n",
       "        -8.9661e-02, -2.4341e-01,  4.9133e-02, -2.7954e-02,  9.2651e-02,\n",
       "        -4.8340e-02, -5.2063e-02,  5.5817e-02, -3.7842e-03, -1.6852e-01,\n",
       "         9.8267e-03,  2.1698e-02, -6.5107e-02,  9.8053e-02, -3.6621e-03,\n",
       "        -2.2009e-01,  1.1389e-01,  5.0537e-02, -1.4322e-01, -8.2336e-02,\n",
       "        -5.0507e-02, -2.2461e-02, -9.4971e-02, -1.0464e-01, -2.0959e-01,\n",
       "        -1.2964e-01, -1.0208e-02, -4.0894e-03, -1.4893e-02, -4.9637e-02,\n",
       "         6.3507e-02, -8.5968e-02,  2.3340e-01,  1.2207e-01, -1.6663e-01,\n",
       "        -1.6541e-01,  6.9924e-02,  2.4414e-02, -3.3630e-02, -2.2583e-02,\n",
       "        -2.1289e-01,  8.4106e-02,  1.1916e-01, -1.9623e-02, -3.2654e-02,\n",
       "        -3.2394e-02,  1.5515e-01, -7.9224e-02, -9.1919e-02, -6.3782e-03,\n",
       "        -3.6926e-02,  8.0456e-02, -4.5288e-02,  1.9531e-02,  7.4951e-02,\n",
       "        -8.0195e-02, -2.5232e-01,  1.0986e-01, -1.2573e-01, -1.0083e-01,\n",
       "         2.0972e-01,  1.3380e-03,  2.2363e-01, -6.7322e-02, -6.3477e-02,\n",
       "        -2.1167e-01,  5.0659e-03, -3.2227e-02, -2.0752e-02,  2.2107e-01,\n",
       "        -2.4243e-01,  1.4246e-01,  1.4465e-01, -2.0691e-01, -1.0516e-01,\n",
       "        -1.0327e-01,  1.6028e-01, -1.4748e-02, -1.9310e-02,  2.3193e-02,\n",
       "         1.5234e-01,  2.2034e-02, -8.0872e-04, -8.7729e-02,  5.9967e-02,\n",
       "        -2.6306e-02,  1.3672e-01,  1.5301e-02,  6.3965e-02,  1.9131e-02,\n",
       "        -5.8695e-02,  1.4355e-01, -9.6710e-02,  7.2235e-02, -1.0620e-02,\n",
       "         6.1523e-02, -1.2626e-01,  3.3813e-02, -2.1973e-03, -1.3843e-01,\n",
       "        -1.3458e-01,  5.4447e-02, -2.0325e-01,  1.2244e-01,  4.3335e-02,\n",
       "        -3.1372e-02, -1.9659e-01, -1.7270e-01,  2.9846e-02, -5.8533e-02,\n",
       "         6.7017e-02,  1.6748e-01,  1.1859e-01,  1.2134e-01, -1.7578e-02])"
      ]
     },
     "execution_count": 9,
     "metadata": {},
     "output_type": "execute_result"
    }
   ],
   "source": [
    "train_v[0]"
   ]
  },
  {
   "cell_type": "markdown",
   "metadata": {},
   "source": [
    "pickleにして保存"
   ]
  },
  {
   "cell_type": "code",
   "execution_count": 10,
   "metadata": {},
   "outputs": [],
   "source": [
    "import pickle"
   ]
  },
  {
   "cell_type": "code",
   "execution_count": 11,
   "metadata": {},
   "outputs": [],
   "source": [
    "train_t = torch.tensor(train_t).long()\n",
    "valid_t = torch.tensor(valid_t).long()\n",
    "test_t = torch.tensor(test_t).long()"
   ]
  },
  {
   "cell_type": "code",
   "execution_count": 12,
   "metadata": {},
   "outputs": [],
   "source": [
    "with open('data/train.feature.pickle', 'wb') as f:\n",
    "    pickle.dump(train_v, f)\n",
    "with open('data/train.label.pickle', 'wb') as f:\n",
    "    pickle.dump(train_t, f)\n",
    "    \n",
    "with open('data/valid.feature.pickle', 'wb') as f:\n",
    "    pickle.dump(valid_v, f)\n",
    "with open('data/valid.label.pickle', 'wb') as f:\n",
    "    pickle.dump(valid_t, f)\n",
    "    \n",
    "with open('data/test.feature.pickle', 'wb') as f:\n",
    "    pickle.dump(test_v, f)\n",
    "with open('data/test.label.pickle', 'wb') as f:\n",
    "    pickle.dump(test_t, f)"
   ]
  },
  {
   "cell_type": "markdown",
   "metadata": {},
   "source": [
    "### 71. 単層ニューラルネットワークによる予測"
   ]
  },
  {
   "cell_type": "markdown",
   "metadata": {},
   "source": [
    "出題意図としては，単なる行列にsoftmaxかけたり，後々backwardしたりするというものなのかもしれませんが，ここではnn.Moduleを継承するクラスを作っていきます．"
   ]
  },
  {
   "cell_type": "code",
   "execution_count": 13,
   "metadata": {},
   "outputs": [],
   "source": [
    "import torch.nn as nn"
   ]
  },
  {
   "cell_type": "code",
   "execution_count": 14,
   "metadata": {},
   "outputs": [],
   "source": [
    "class Perceptron(nn.Module):\n",
    "    def __init__(self, v_size, c_size):\n",
    "        super().__init__()\n",
    "        self.fc = nn.Linear(v_size, c_size, bias = False)\n",
    "        nn.init.xavier_normal_(self.fc.weight)\n",
    "        \n",
    "    def forward(self, x):\n",
    "        x = self.fc(x)\n",
    "        return x"
   ]
  },
  {
   "cell_type": "code",
   "execution_count": 15,
   "metadata": {},
   "outputs": [],
   "source": [
    "model = Perceptron(300, 4)"
   ]
  },
  {
   "cell_type": "code",
   "execution_count": 16,
   "metadata": {},
   "outputs": [
    {
     "data": {
      "text/plain": [
       "tensor([0.2372, 0.2285, 0.2912, 0.2430], grad_fn=<SoftmaxBackward>)"
      ]
     },
     "execution_count": 16,
     "metadata": {},
     "output_type": "execute_result"
    }
   ],
   "source": [
    "x = model(train_v[0])\n",
    "x = torch.softmax(x, dim=-1)\n",
    "x"
   ]
  },
  {
   "cell_type": "code",
   "execution_count": 17,
   "metadata": {},
   "outputs": [
    {
     "data": {
      "text/plain": [
       "tensor([[0.2372, 0.2285, 0.2912, 0.2430],\n",
       "        [0.2726, 0.2268, 0.2552, 0.2454],\n",
       "        [0.2926, 0.2217, 0.2527, 0.2331],\n",
       "        [0.2607, 0.2091, 0.2534, 0.2768]], grad_fn=<SoftmaxBackward>)"
      ]
     },
     "execution_count": 17,
     "metadata": {},
     "output_type": "execute_result"
    }
   ],
   "source": [
    "x = model(train_v[:4])\n",
    "x = torch.softmax(x, dim=-1)\n",
    "x"
   ]
  },
  {
   "cell_type": "markdown",
   "metadata": {},
   "source": [
    "### 72. 損失と勾配の計算"
   ]
  },
  {
   "cell_type": "code",
   "execution_count": 18,
   "metadata": {},
   "outputs": [],
   "source": [
    "criterion = nn.CrossEntropyLoss()"
   ]
  },
  {
   "cell_type": "code",
   "execution_count": 19,
   "metadata": {},
   "outputs": [
    {
     "name": "stdout",
     "output_type": "stream",
     "text": [
      "損失 : 1.4146161079406738\n",
      "勾配\n",
      "tensor([[ 0.0215,  0.0130, -0.0184,  ...,  0.0281,  0.0288, -0.0042],\n",
      "        [ 0.0207,  0.0126, -0.0177,  ...,  0.0271,  0.0277, -0.0040],\n",
      "        [ 0.0264,  0.0160, -0.0225,  ...,  0.0345,  0.0353, -0.0051],\n",
      "        [-0.0686, -0.0416,  0.0586,  ..., -0.0898, -0.0919,  0.0133]])\n"
     ]
    }
   ],
   "source": [
    "y = model(train_v[:1])\n",
    "t = train_t[:1]\n",
    "loss = criterion(y, t)\n",
    "model.zero_grad()\n",
    "loss.backward()\n",
    "print('損失 :', loss.item())\n",
    "print('勾配')\n",
    "print(model.fc.weight.grad)"
   ]
  },
  {
   "cell_type": "code",
   "execution_count": 20,
   "metadata": {},
   "outputs": [
    {
     "data": {
      "text/plain": [
       "tensor([[0., 0., 0.,  ..., 0., 0., 0.],\n",
       "        [0., 0., 0.,  ..., 0., 0., 0.],\n",
       "        [0., 0., 0.,  ..., 0., 0., 0.],\n",
       "        [0., 0., 0.,  ..., 0., 0., 0.]])"
      ]
     },
     "execution_count": 20,
     "metadata": {},
     "output_type": "execute_result"
    }
   ],
   "source": [
    "model.zero_grad()\n",
    "model.fc.weight.grad"
   ]
  },
  {
   "cell_type": "code",
   "execution_count": 21,
   "metadata": {},
   "outputs": [
    {
     "name": "stdout",
     "output_type": "stream",
     "text": [
      "損失 : 1.460235595703125\n",
      "勾配\n",
      "tensor([[ 0.0034,  0.0007, -0.0131,  ...,  0.0087,  0.0157, -0.0019],\n",
      "        [-0.0015,  0.0034, -0.0069,  ...,  0.0069,  0.0097, -0.0007],\n",
      "        [ 0.0052,  0.0018, -0.0127,  ...,  0.0103,  0.0168, -0.0020],\n",
      "        [-0.0071, -0.0059,  0.0327,  ..., -0.0259, -0.0422,  0.0047]])\n"
     ]
    }
   ],
   "source": [
    "y = model(train_v[:4])\n",
    "t = train_t[:4]\n",
    "loss = criterion(y, t)\n",
    "model.zero_grad()\n",
    "loss.backward()\n",
    "print('損失 :', loss.item())\n",
    "print('勾配')\n",
    "print(model.fc.weight.grad)"
   ]
  },
  {
   "cell_type": "markdown",
   "metadata": {},
   "source": [
    "### 73. 確率的勾配降下法による学習"
   ]
  },
  {
   "cell_type": "markdown",
   "metadata": {},
   "source": [
    "確率的勾配降下なので，データセットをシャッフルして少しずつ取り出すようにします"
   ]
  },
  {
   "cell_type": "markdown",
   "metadata": {},
   "source": [
    "データを持ってるのがDataset"
   ]
  },
  {
   "cell_type": "code",
   "execution_count": 22,
   "metadata": {},
   "outputs": [],
   "source": [
    "class Dataset(torch.utils.data.Dataset):\n",
    "    def __init__(self, x, t, device=None):\n",
    "        self.x = x\n",
    "        self.t = t\n",
    "        self.device = device\n",
    "        self.size = len(x)\n",
    "    \n",
    "    def __len__(self):\n",
    "        return self.size\n",
    "            \n",
    "    def __getitem__(self, index):\n",
    "        return {\n",
    "            'x':self.x[index],\n",
    "            't':self.t[index],\n",
    "        }"
   ]
  },
  {
   "cell_type": "markdown",
   "metadata": {},
   "source": [
    "データセットをバッチに分割してバッチのインデックスを返すのがSampler"
   ]
  },
  {
   "cell_type": "code",
   "execution_count": 23,
   "metadata": {},
   "outputs": [],
   "source": [
    "class Sampler(torch.utils.data.Sampler):\n",
    "    def __init__(self, dataset, width, shuffle=False):\n",
    "        self.dataset = dataset\n",
    "        self.width = width\n",
    "        self.shuffle = shuffle\n",
    "        if not shuffle:\n",
    "            self.indices = torch.arange(len(dataset))\n",
    "    \n",
    "    def __iter__(self):\n",
    "        if self.shuffle:\n",
    "            self.indices = torch.randperm(len(self.dataset))\n",
    "        index = 0\n",
    "        while index < len(self.dataset):\n",
    "            yield self.indices[index : index + self.width]\n",
    "            index += self.width"
   ]
  },
  {
   "cell_type": "markdown",
   "metadata": {},
   "source": [
    "DatasetとSamplerをDataLoaderに渡すと，データセットをシャッフルして少しずつ取り出すことができる\n",
    "\n",
    "DataLoaderをいちいち呼んでると手間なので，Loaderクラスにやらせる"
   ]
  },
  {
   "cell_type": "code",
   "execution_count": 24,
   "metadata": {},
   "outputs": [],
   "source": [
    "class Loader:\n",
    "    def __init__(self, dataset, batch_size, shuffle=False):\n",
    "        sampler = Sampler(dataset, batch_size, shuffle)\n",
    "        self.loader = torch.utils.data.DataLoader(dataset, batch_sampler = sampler)\n",
    "        \n",
    "    def __iter__(self):\n",
    "        return iter(self.loader)"
   ]
  },
  {
   "cell_type": "markdown",
   "metadata": {},
   "source": [
    "データセットをバッチに積んでiterableにするの，人々が好きにいろんな方法でやっていて，どうやるのが適切なのかよくわかんない．\n",
    "\n",
    "個人的にはDatasetにデータ置いておいて，Samplerでインデックスをバッチに切り分けて，Loaderで回すっていうのが一番わかりやすいんじゃないかとは思っている　謎"
   ]
  },
  {
   "cell_type": "code",
   "execution_count": 25,
   "metadata": {},
   "outputs": [],
   "source": [
    "train_dataset = Dataset(train_v, train_t)\n",
    "valid_dataset = Dataset(valid_v, valid_t)\n",
    "test_dataset = Dataset(test_v, test_t)\n",
    "loaders = (\n",
    "    Loader(train_dataset, 1, shuffle = True),\n",
    "    Loader(valid_dataset, 1),\n",
    ")"
   ]
  },
  {
   "cell_type": "markdown",
   "metadata": {},
   "source": [
    "損失を計算するTaskと最適化を回すTrainer"
   ]
  },
  {
   "cell_type": "code",
   "execution_count": 26,
   "metadata": {},
   "outputs": [],
   "source": [
    "import torch.optim as optim"
   ]
  },
  {
   "cell_type": "code",
   "execution_count": 27,
   "metadata": {},
   "outputs": [],
   "source": [
    "class Task:\n",
    "    def __init__(self):\n",
    "        self.criterion = nn.CrossEntropyLoss()\n",
    "    \n",
    "    def train_step(self, model, batch):\n",
    "        model.zero_grad()\n",
    "        loss = self.criterion(model(batch['x']), batch['t'])\n",
    "        loss.backward()\n",
    "        return loss.item()\n",
    "    \n",
    "    def valid_step(self, model, batch):\n",
    "        with torch.no_grad():\n",
    "            loss = self.criterion(model(batch['x']), batch['t'])\n",
    "        return loss.item()"
   ]
  },
  {
   "cell_type": "code",
   "execution_count": 28,
   "metadata": {},
   "outputs": [],
   "source": [
    "class Trainer:\n",
    "    def __init__(self, model, loaders, task, lr, max_iter, device = None):\n",
    "        self.model = model\n",
    "        self.model.to(device)\n",
    "        self.train_loader, self.valid_loader = loaders\n",
    "        self.task = task\n",
    "        self.optimizer = optim.SGD(model.parameters(), lr=lr)\n",
    "        self.max_iter = max_iter\n",
    "        self.device = device\n",
    "    \n",
    "    def send(self, batch):\n",
    "        for key in batch:\n",
    "            batch[key] = batch[key].to(self.device)\n",
    "        return batch\n",
    "        \n",
    "    def train_epoch(self):\n",
    "        self.model.train()\n",
    "        acc = 0\n",
    "        for n, batch in enumerate(self.train_loader):\n",
    "            batch = self.send(batch)\n",
    "            acc += self.task.train_step(self.model, batch)\n",
    "            self.optimizer.step()\n",
    "        return acc / n\n",
    "            \n",
    "    def valid_epoch(self):\n",
    "        self.model.eval()\n",
    "        acc = 0\n",
    "        for n, batch in enumerate(self.valid_loader):\n",
    "            batch = self.send(batch)\n",
    "            acc += self.task.valid_step(self.model, batch)\n",
    "        return acc / n\n",
    "    \n",
    "    def train(self):\n",
    "        for epoch in range(self.max_iter):\n",
    "            train_loss = self.train_epoch()\n",
    "            valid_loss = self.valid_epoch()\n",
    "            print('epoch {}, train_loss:{:.5f}, valid_loss:{:.5f}'.format(epoch, train_loss, valid_loss))"
   ]
  },
  {
   "cell_type": "code",
   "execution_count": 29,
   "metadata": {},
   "outputs": [
    {
     "name": "stdout",
     "output_type": "stream",
     "text": [
      "epoch 0, train_loss:0.40079, valid_loss:0.31591\n",
      "epoch 1, train_loss:0.29672, valid_loss:0.29663\n",
      "epoch 2, train_loss:0.27488, valid_loss:0.29462\n",
      "epoch 3, train_loss:0.26168, valid_loss:0.29806\n",
      "epoch 4, train_loss:0.25447, valid_loss:0.29882\n",
      "epoch 5, train_loss:0.24834, valid_loss:0.30163\n",
      "epoch 6, train_loss:0.24385, valid_loss:0.30940\n",
      "epoch 7, train_loss:0.23953, valid_loss:0.30780\n",
      "epoch 8, train_loss:0.23690, valid_loss:0.30696\n",
      "epoch 9, train_loss:0.23443, valid_loss:0.30833\n"
     ]
    }
   ],
   "source": [
    "model = Perceptron(300, 4)\n",
    "task = Task()\n",
    "trainer = Trainer(model, loaders, task, 0.1, 10)\n",
    "trainer.train()"
   ]
  },
  {
   "cell_type": "markdown",
   "metadata": {},
   "source": [
    "### 74. 正解率の計測"
   ]
  },
  {
   "cell_type": "code",
   "execution_count": 30,
   "metadata": {},
   "outputs": [],
   "source": [
    "import numpy as np"
   ]
  },
  {
   "cell_type": "code",
   "execution_count": 31,
   "metadata": {},
   "outputs": [],
   "source": [
    "class Predictor:\n",
    "    def __init__(self, model, loader):\n",
    "        self.model = model\n",
    "        self.loader = loader\n",
    "        \n",
    "    def infer(self, batch):\n",
    "        self.model.eval()\n",
    "        x = batch['x'].to(next(self.model.parameters()).device)\n",
    "        return self.model(x).argmax(dim=-1).item()\n",
    "        \n",
    "    def predict(self):\n",
    "        lst = []\n",
    "        for batch in self.loader:\n",
    "            lst.append(self.infer(batch))\n",
    "        return lst"
   ]
  },
  {
   "cell_type": "code",
   "execution_count": 32,
   "metadata": {},
   "outputs": [],
   "source": [
    "def accuracy(true, pred):\n",
    "    return np.mean([t == p for t, p in zip(true, pred)])"
   ]
  },
  {
   "cell_type": "code",
   "execution_count": 33,
   "metadata": {},
   "outputs": [
    {
     "name": "stdout",
     "output_type": "stream",
     "text": [
      "学習データでの正解率 : 0.925308873081243\n"
     ]
    }
   ],
   "source": [
    "predictor = Predictor(trainer.model, Loader(train_dataset, 1))\n",
    "pred = predictor.predict()\n",
    "print('学習データでの正解率 :', accuracy(train_t, pred))"
   ]
  },
  {
   "cell_type": "code",
   "execution_count": 34,
   "metadata": {},
   "outputs": [
    {
     "name": "stdout",
     "output_type": "stream",
     "text": [
      "評価データでの正解率 : 0.8974550898203593\n"
     ]
    }
   ],
   "source": [
    "predictor = Predictor(trainer.model, Loader(test_dataset, 1))\n",
    "pred = predictor.predict()\n",
    "print('評価データでの正解率 :', accuracy(test_t, pred))"
   ]
  },
  {
   "cell_type": "markdown",
   "metadata": {},
   "source": [
    "### 75. 損失と正解率のプロット"
   ]
  },
  {
   "cell_type": "code",
   "execution_count": 35,
   "metadata": {},
   "outputs": [
    {
     "name": "stderr",
     "output_type": "stream",
     "text": [
      "/home/koyama.s/nlp100/env/nlp100/lib/python3.8/site-packages/japanize_matplotlib/__init__.py:13: MatplotlibDeprecationWarning: \n",
      "The createFontList function was deprecated in Matplotlib 3.2 and will be removed two minor releases later. Use FontManager.addfont instead.\n",
      "  font_list = font_manager.createFontList(font_files)\n"
     ]
    }
   ],
   "source": [
    "import matplotlib.pyplot as plt\n",
    "import japanize_matplotlib\n",
    "from IPython.display import clear_output"
   ]
  },
  {
   "cell_type": "code",
   "execution_count": 36,
   "metadata": {},
   "outputs": [],
   "source": [
    "class RealTimePlot:\n",
    "    def __init__(self, legends):\n",
    "        self.legends = legends\n",
    "        self.fig, self.axs = plt.subplots(1, len(legends), figsize = (10, 5))\n",
    "        self.lst = [[[] for _ in xs] for xs in legends]\n",
    "        \n",
    "    def __enter__(self):\n",
    "        return self\n",
    "        \n",
    "    def update(self, *args):\n",
    "        for i, ys in enumerate(args):\n",
    "            for j, y in enumerate(ys):\n",
    "                self.lst[i][j].append(y)\n",
    "        clear_output(wait = True)\n",
    "        for i, ax in enumerate(self.axs):\n",
    "            ax.cla()\n",
    "            for ys in self.lst[i]:\n",
    "                ax.plot(ys)\n",
    "            ax.legend(self.legends[i])\n",
    "        display(self.fig)\n",
    "        \n",
    "    def __exit__(self, *exc_info):\n",
    "        plt.close(self.fig)"
   ]
  },
  {
   "cell_type": "code",
   "execution_count": 37,
   "metadata": {},
   "outputs": [],
   "source": [
    "class VerboseTrainer(Trainer):\n",
    "    def accuracy(self, true, pred):\n",
    "        return np.mean([t == p for t, p in zip(true, pred)])\n",
    "    \n",
    "    def train(self, train_v, train_t, valid_v, valid_t):\n",
    "        train_loader = Loader(Dataset(train_v, train_t), 1)\n",
    "        valid_loader = Loader(Dataset(valid_v, valid_t), 1)\n",
    "        with RealTimePlot([['学習', '検証']] * 2) as rtp:\n",
    "            for epoch in range(self.max_iter):\n",
    "                train_loss = self.train_epoch()\n",
    "                valid_loss = self.valid_epoch()\n",
    "                train_acc = self.accuracy(train_t, Predictor(self.model, train_loader).predict())\n",
    "                valid_acc = self.accuracy(valid_t, Predictor(self.model, valid_loader).predict())\n",
    "                rtp.update([train_loss, valid_loss], [train_acc, valid_acc])"
   ]
  },
  {
   "cell_type": "code",
   "execution_count": 38,
   "metadata": {},
   "outputs": [
    {
     "data": {
      "image/png": "[encoded data removed]",
      "text/plain": [
       "<Figure size 720x360 with 2 Axes>"
      ]
     },
     "metadata": {},
     "output_type": "display_data"
    }
   ],
   "source": [
    "model = Perceptron(300, 4)\n",
    "task = Task()\n",
    "trainer = VerboseTrainer(model, loaders, task, 0.1, 10)\n",
    "train_predictor = Predictor(trainer.model, Loader(test_dataset, 1))\n",
    "valid_predictor = Predictor(trainer.model, Loader(test_dataset, 1))\n",
    "trainer.train(train_v, train_t, valid_v, valid_t)"
   ]
  },
  {
   "cell_type": "markdown",
   "metadata": {},
   "source": [
    "### 76. チェックポイント"
   ]
  },
  {
   "cell_type": "markdown",
   "metadata": {},
   "source": [
    "問題75から改変してもいいけど，めんどうなので73からやる"
   ]
  },
  {
   "cell_type": "code",
   "execution_count": 39,
   "metadata": {},
   "outputs": [],
   "source": [
    "import os"
   ]
  },
  {
   "cell_type": "code",
   "execution_count": 40,
   "metadata": {},
   "outputs": [],
   "source": [
    "class LoggingTrainer(Trainer):\n",
    "    def save(self, epoch):\n",
    "        torch.save({'epoch' : epoch, 'optimizer': self.optimizer}, f'result/trainer_states{epoch}.pt')\n",
    "        torch.save(self.model.state_dict(), f'result/checkpoint{epoch}.pt')\n",
    "    \n",
    "    def train(self):\n",
    "        for epoch in range(self.max_iter):\n",
    "            train_loss = self.train_epoch()\n",
    "            valid_loss = self.valid_epoch()\n",
    "            self.save(epoch)\n",
    "            print('epoch {}, train_loss:{:.5f}, valid_loss:{:.5f}'.format(epoch, train_loss, valid_loss))"
   ]
  },
  {
   "cell_type": "code",
   "execution_count": 41,
   "metadata": {},
   "outputs": [
    {
     "name": "stdout",
     "output_type": "stream",
     "text": [
      "epoch 0, train_loss:0.40303, valid_loss:0.31214\n",
      "epoch 1, train_loss:0.29639, valid_loss:0.29592\n",
      "epoch 2, train_loss:0.27451, valid_loss:0.29903\n",
      "epoch 3, train_loss:0.26194, valid_loss:0.29984\n",
      "epoch 4, train_loss:0.25443, valid_loss:0.29787\n",
      "epoch 5, train_loss:0.24855, valid_loss:0.30021\n",
      "epoch 6, train_loss:0.24384, valid_loss:0.30676\n",
      "epoch 7, train_loss:0.24003, valid_loss:0.30658\n",
      "epoch 8, train_loss:0.23756, valid_loss:0.30995\n",
      "epoch 9, train_loss:0.23390, valid_loss:0.30879\n"
     ]
    }
   ],
   "source": [
    "model = Perceptron(300, 4)\n",
    "task = Task()\n",
    "trainer = LoggingTrainer(model, loaders, task, 0.1, 10)\n",
    "trainer.train()"
   ]
  },
  {
   "cell_type": "code",
   "execution_count": 42,
   "metadata": {},
   "outputs": [
    {
     "name": "stdout",
     "output_type": "stream",
     "text": [
      "result/checkpoint0.pt  result/checkpoint4.pt  result/checkpoint8.pt\r\n",
      "result/checkpoint1.pt  result/checkpoint5.pt  result/checkpoint9.pt\r\n",
      "result/checkpoint2.pt  result/checkpoint6.pt\r\n",
      "result/checkpoint3.pt  result/checkpoint7.pt\r\n"
     ]
    }
   ],
   "source": [
    "! ls result/checkpoint*"
   ]
  },
  {
   "cell_type": "code",
   "execution_count": 43,
   "metadata": {},
   "outputs": [
    {
     "name": "stdout",
     "output_type": "stream",
     "text": [
      "result/trainer_states0.pt  result/trainer_states4.pt  result/trainer_states8.pt\r\n",
      "result/trainer_states1.pt  result/trainer_states5.pt  result/trainer_states9.pt\r\n",
      "result/trainer_states2.pt  result/trainer_states6.pt\r\n",
      "result/trainer_states3.pt  result/trainer_states7.pt\r\n"
     ]
    }
   ],
   "source": [
    "! ls result/trainer_states*"
   ]
  },
  {
   "cell_type": "markdown",
   "metadata": {},
   "source": [
    "### 77. ミニバッチ化"
   ]
  },
  {
   "cell_type": "code",
   "execution_count": 44,
   "metadata": {},
   "outputs": [],
   "source": [
    "from time import time\n",
    "from contextlib import contextmanager"
   ]
  },
  {
   "cell_type": "code",
   "execution_count": 45,
   "metadata": {},
   "outputs": [],
   "source": [
    "@contextmanager\n",
    "def timer(description):\n",
    "    start = time()\n",
    "    yield\n",
    "    print(description, ': {:.3f} 秒'.format(time()-start))"
   ]
  },
  {
   "cell_type": "code",
   "execution_count": 46,
   "metadata": {},
   "outputs": [],
   "source": [
    "B = [1, 2, 4, 8, 16, 32, 64, 128, 256, 512, 1024]"
   ]
  },
  {
   "cell_type": "code",
   "execution_count": 47,
   "metadata": {},
   "outputs": [
    {
     "name": "stdout",
     "output_type": "stream",
     "text": [
      "epoch 0, train_loss:0.40374, valid_loss:0.31423\n",
      "epoch 1, train_loss:0.29578, valid_loss:0.29623\n",
      "epoch 2, train_loss:0.27499, valid_loss:0.29798\n",
      "バッチサイズ 1 : 9.657 秒\n",
      "epoch 0, train_loss:0.39955, valid_loss:0.31440\n",
      "epoch 1, train_loss:0.29591, valid_loss:0.29844\n",
      "epoch 2, train_loss:0.27373, valid_loss:0.29537\n",
      "バッチサイズ 2 : 5.325 秒\n",
      "epoch 0, train_loss:0.40296, valid_loss:0.31603\n",
      "epoch 1, train_loss:0.29613, valid_loss:0.31031\n",
      "epoch 2, train_loss:0.27469, valid_loss:0.29736\n",
      "バッチサイズ 4 : 3.083 秒\n",
      "epoch 0, train_loss:0.40289, valid_loss:0.31443\n",
      "epoch 1, train_loss:0.29676, valid_loss:0.30920\n",
      "epoch 2, train_loss:0.27498, valid_loss:0.30645\n",
      "バッチサイズ 8 : 1.982 秒\n",
      "epoch 0, train_loss:0.40211, valid_loss:0.31350\n",
      "epoch 1, train_loss:0.29613, valid_loss:0.30777\n",
      "epoch 2, train_loss:0.27449, valid_loss:0.29903\n",
      "バッチサイズ 16 : 1.420 秒\n",
      "epoch 0, train_loss:0.40343, valid_loss:0.32170\n",
      "epoch 1, train_loss:0.29695, valid_loss:0.30777\n",
      "epoch 2, train_loss:0.27486, valid_loss:0.29472\n",
      "バッチサイズ 32 : 1.202 秒\n",
      "epoch 0, train_loss:0.40753, valid_loss:0.32378\n",
      "epoch 1, train_loss:0.29829, valid_loss:0.29770\n",
      "epoch 2, train_loss:0.27663, valid_loss:0.30175\n",
      "バッチサイズ 64 : 1.060 秒\n",
      "epoch 0, train_loss:0.41799, valid_loss:0.33559\n",
      "epoch 1, train_loss:0.30109, valid_loss:0.30401\n",
      "epoch 2, train_loss:0.27763, valid_loss:0.30351\n",
      "バッチサイズ 128 : 0.906 秒\n",
      "epoch 0, train_loss:0.56407, valid_loss:0.30955\n",
      "epoch 1, train_loss:0.31099, valid_loss:0.32111\n",
      "epoch 2, train_loss:0.28797, valid_loss:0.29928\n",
      "バッチサイズ 256 : 2.234 秒\n",
      "epoch 0, train_loss:1.19123, valid_loss:0.32315\n",
      "epoch 1, train_loss:0.52350, valid_loss:0.39943\n",
      "epoch 2, train_loss:0.42246, valid_loss:0.36194\n",
      "バッチサイズ 512 : 1.323 秒\n",
      "epoch 0, train_loss:3.77615, valid_loss:0.60957\n",
      "epoch 1, train_loss:1.05934, valid_loss:0.89198\n",
      "epoch 2, train_loss:0.80346, valid_loss:0.61814\n",
      "バッチサイズ 1024 : 1.057 秒\n"
     ]
    }
   ],
   "source": [
    "task = Task()\n",
    "for b in B:\n",
    "    model = Perceptron(300, 4)\n",
    "    loaders = (\n",
    "        Loader(train_dataset, b, shuffle = True),\n",
    "        Loader(valid_dataset, 1)\n",
    "    )\n",
    "    trainer = Trainer(model, loaders, task, 0.1 * b, 3)\n",
    "    with timer(f'バッチサイズ {b}'):\n",
    "        trainer.train()"
   ]
  },
  {
   "cell_type": "markdown",
   "metadata": {},
   "source": [
    "### 78. GPU上での学習"
   ]
  },
  {
   "cell_type": "code",
   "execution_count": 48,
   "metadata": {},
   "outputs": [
    {
     "name": "stdout",
     "output_type": "stream",
     "text": [
      "epoch 0, train_loss:0.41928, valid_loss:0.31376\n",
      "epoch 1, train_loss:0.30053, valid_loss:0.29341\n",
      "epoch 2, train_loss:0.27865, valid_loss:0.29917\n",
      "時間 : 1.433 秒\n"
     ]
    }
   ],
   "source": [
    "device = torch.device('cuda')\n",
    "train_dataset = Dataset(train_v, train_t)\n",
    "valid_dataset = Dataset(valid_v, valid_t)\n",
    "model = Perceptron(300, 4)\n",
    "task = Task()\n",
    "loaders = (\n",
    "    Loader(train_dataset, 128, shuffle = True),\n",
    "    Loader(valid_dataset, 1),\n",
    ")\n",
    "trainer = Trainer(model, loaders, task, 0.1 * 128, 3, device=device)\n",
    "with timer('時間'):\n",
    "    trainer.train()"
   ]
  },
  {
   "cell_type": "markdown",
   "metadata": {},
   "source": [
    "### 79. 多層ニューラルネットワーク"
   ]
  },
  {
   "cell_type": "code",
   "execution_count": 49,
   "metadata": {},
   "outputs": [],
   "source": [
    "class ModelNLP79(nn.Module):\n",
    "    def __init__(self, v_size, h_size, c_size):\n",
    "        super().__init__()\n",
    "        self.fc1 = nn.Linear(v_size, h_size)\n",
    "        self.act = nn.ReLU()\n",
    "        self.fc2 = nn.Linear(h_size, c_size)\n",
    "        self.dropout = nn.Dropout(0.2)\n",
    "        nn.init.kaiming_normal_(self.fc1.weight)\n",
    "        nn.init.kaiming_normal_(self.fc2.weight)\n",
    "        \n",
    "    def forward(self, x):\n",
    "        x = self.fc1(x)\n",
    "        x = self.act(x)\n",
    "        x = self.dropout(x)\n",
    "        x = self.fc2(x)\n",
    "        return x"
   ]
  },
  {
   "cell_type": "code",
   "execution_count": 50,
   "metadata": {},
   "outputs": [
    {
     "data": {
      "image/png": "[encoded data removed]",
      "text/plain": [
       "<Figure size 720x360 with 2 Axes>"
      ]
     },
     "metadata": {},
     "output_type": "display_data"
    }
   ],
   "source": [
    "model = ModelNLP79(300, 128, 4)\n",
    "task = Task()\n",
    "loaders = (\n",
    "    Loader(train_dataset, 128, shuffle = True),\n",
    "    Loader(valid_dataset, 1)\n",
    ")\n",
    "trainer = VerboseTrainer(model, loaders, task, 0.1, 30)\n",
    "trainer.train(train_v.to(device), train_t, valid_v.to(device), valid_t)"
   ]
  }
 ],
 "metadata": {
  "kernelspec": {
   "display_name": "Python 3",
   "language": "python",
   "name": "python3"
  },
  "language_info": {
   "codemirror_mode": {
    "name": "ipython",
    "version": 3
   },
   "file_extension": ".py",
   "mimetype": "text/x-python",
   "name": "python",
   "nbconvert_exporter": "python",
   "pygments_lexer": "ipython3",
   "version": "3.8.2"
  }
 },
 "nbformat": 4,
 "nbformat_minor": 4
}
