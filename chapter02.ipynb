{
 "cells": [
  {
   "cell_type": "markdown",
   "metadata": {},
   "source": [
    "### 10. 行数のカウント"
   ]
  },
  {
   "cell_type": "markdown",
   "metadata": {},
   "source": [
    "python"
   ]
  },
  {
   "cell_type": "code",
   "execution_count": 1,
   "metadata": {},
   "outputs": [
    {
     "name": "stdout",
     "output_type": "stream",
     "text": [
      "2780\n"
     ]
    }
   ],
   "source": [
    "with open('data/popular-names.txt') as f:\n",
    "    print(len(list(f)))"
   ]
  },
  {
   "cell_type": "markdown",
   "metadata": {},
   "source": [
    "shell"
   ]
  },
  {
   "cell_type": "code",
   "execution_count": 2,
   "metadata": {},
   "outputs": [
    {
     "name": "stdout",
     "output_type": "stream",
     "text": [
      "2780\r\n"
     ]
    }
   ],
   "source": [
    "! wc -l < data/popular-names.txt"
   ]
  },
  {
   "cell_type": "markdown",
   "metadata": {},
   "source": [
    "### 11. タブをスペースに置換"
   ]
  },
  {
   "cell_type": "markdown",
   "metadata": {},
   "source": [
    "python"
   ]
  },
  {
   "cell_type": "code",
   "execution_count": 3,
   "metadata": {},
   "outputs": [
    {
     "name": "stdout",
     "output_type": "stream",
     "text": [
      "Mary F 7065 1880\n",
      "Anna F 2604 1880\n",
      "Emma F 2003 1880\n",
      "Elizabeth F 1939 1880\n",
      "Minnie F 1746 1880\n",
      "Margaret F 1578 1880\n",
      "Ida F 1472 1880\n",
      "Alice F 1414 1880\n",
      "Bertha F 1320 1880\n",
      "Sarah F 1288 1880\n"
     ]
    }
   ],
   "source": [
    "with open('data/popular-names.txt') as f:\n",
    "    for line in list(f)[:10]: # 本当はこんなことしないでfのままでいいんだけど，github上で閲覧するときにスクロールが面倒なので妥協\n",
    "        line = line.strip()\n",
    "        line = line.replace('\\t', ' ')\n",
    "        print(line)"
   ]
  },
  {
   "cell_type": "markdown",
   "metadata": {},
   "source": [
    "shell\n",
    "\n",
    "awkかperlを使っておけば大体いいと思っています"
   ]
  },
  {
   "cell_type": "code",
   "execution_count": 4,
   "metadata": {},
   "outputs": [
    {
     "name": "stdout",
     "output_type": "stream",
     "text": [
      "Mary F 7065 1880\r\n",
      "Anna F 2604 1880\r\n",
      "Emma F 2003 1880\r\n",
      "Elizabeth F 1939 1880\r\n",
      "Minnie F 1746 1880\r\n",
      "Margaret F 1578 1880\r\n",
      "Ida F 1472 1880\r\n",
      "Alice F 1414 1880\r\n",
      "Bertha F 1320 1880\r\n",
      "Sarah F 1288 1880\r\n"
     ]
    }
   ],
   "source": [
    "! awk '{gsub(\"\\t\", \" \", $0); print $0}' data/popular-names.txt | head"
   ]
  },
  {
   "cell_type": "code",
   "execution_count": 5,
   "metadata": {},
   "outputs": [
    {
     "name": "stdout",
     "output_type": "stream",
     "text": [
      "Mary F 7065 1880\r\n",
      "Anna F 2604 1880\r\n",
      "Emma F 2003 1880\r\n",
      "Elizabeth F 1939 1880\r\n",
      "Minnie F 1746 1880\r\n",
      "Margaret F 1578 1880\r\n",
      "Ida F 1472 1880\r\n",
      "Alice F 1414 1880\r\n",
      "Bertha F 1320 1880\r\n",
      "Sarah F 1288 1880\r\n",
      "-p destination: Broken pipe\r\n"
     ]
    }
   ],
   "source": [
    "! perl -pe 's/\\t/ /g' data/popular-names.txt | head"
   ]
  },
  {
   "cell_type": "code",
   "execution_count": 6,
   "metadata": {},
   "outputs": [
    {
     "name": "stdout",
     "output_type": "stream",
     "text": [
      "Mary F 7065 1880\r\n",
      "Anna F 2604 1880\r\n",
      "Emma F 2003 1880\r\n",
      "Elizabeth F 1939 1880\r\n",
      "Minnie F 1746 1880\r\n",
      "Margaret F 1578 1880\r\n",
      "Ida F 1472 1880\r\n",
      "Alice F 1414 1880\r\n",
      "Bertha F 1320 1880\r\n",
      "Sarah F 1288 1880\r\n",
      "sed: couldn't write 17 items to stdout: Broken pipe\r\n"
     ]
    }
   ],
   "source": [
    "! sed 's/\\t/ /g'  data/popular-names.txt | head"
   ]
  },
  {
   "cell_type": "code",
   "execution_count": 7,
   "metadata": {},
   "outputs": [
    {
     "name": "stdout",
     "output_type": "stream",
     "text": [
      "Mary F 7065 1880\r\n",
      "Anna F 2604 1880\r\n",
      "Emma F 2003 1880\r\n",
      "Elizabeth F 1939 1880\r\n",
      "Minnie F 1746 1880\r\n",
      "Margaret F 1578 1880\r\n",
      "Ida F 1472 1880\r\n",
      "Alice F 1414 1880\r\n",
      "Bertha F 1320 1880\r\n",
      "Sarah F 1288 1880\r\n",
      "expand: write error: Broken pipe\r\n",
      "expand: write error\r\n"
     ]
    }
   ],
   "source": [
    "! expand -t 1 data/popular-names.txt | head"
   ]
  },
  {
   "cell_type": "code",
   "execution_count": 8,
   "metadata": {},
   "outputs": [
    {
     "name": "stdout",
     "output_type": "stream",
     "text": [
      "Mary F 7065 1880\r\n",
      "Anna F 2604 1880\r\n",
      "Emma F 2003 1880\r\n",
      "Elizabeth F 1939 1880\r\n",
      "Minnie F 1746 1880\r\n",
      "Margaret F 1578 1880\r\n",
      "Ida F 1472 1880\r\n",
      "Alice F 1414 1880\r\n",
      "Bertha F 1320 1880\r\n",
      "Sarah F 1288 1880\r\n"
     ]
    }
   ],
   "source": [
    "! tr '\\t' ' ' < data/popular-names.txt | head"
   ]
  },
  {
   "cell_type": "markdown",
   "metadata": {},
   "source": [
    "### 12. 1列目をcol1.txtに，2列目をcol2.txtに保存"
   ]
  },
  {
   "cell_type": "markdown",
   "metadata": {},
   "source": [
    "python"
   ]
  },
  {
   "cell_type": "code",
   "execution_count": 9,
   "metadata": {},
   "outputs": [],
   "source": [
    "with open('data/popular-names.txt') as f, \\\n",
    "        open('result/col1.txt', 'w') as g, \\\n",
    "        open('result/col2.txt', 'w') as h:\n",
    "    for line in f:\n",
    "        line = line.strip()\n",
    "        pref, city, _, _  = line.split('\\t')\n",
    "        print(pref, file=g)\n",
    "        print(city, file=h)"
   ]
  },
  {
   "cell_type": "code",
   "execution_count": 10,
   "metadata": {},
   "outputs": [
    {
     "name": "stdout",
     "output_type": "stream",
     "text": [
      "Mary\r\n",
      "Anna\r\n",
      "Emma\r\n",
      "Elizabeth\r\n",
      "Minnie\r\n",
      "Margaret\r\n",
      "Ida\r\n",
      "Alice\r\n",
      "Bertha\r\n",
      "Sarah\r\n"
     ]
    }
   ],
   "source": [
    "! head result/col1.txt"
   ]
  },
  {
   "cell_type": "code",
   "execution_count": 11,
   "metadata": {},
   "outputs": [
    {
     "name": "stdout",
     "output_type": "stream",
     "text": [
      "F\r\n",
      "F\r\n",
      "F\r\n",
      "F\r\n",
      "F\r\n",
      "F\r\n",
      "F\r\n",
      "F\r\n",
      "F\r\n",
      "F\r\n"
     ]
    }
   ],
   "source": [
    "! head result/col2.txt"
   ]
  },
  {
   "cell_type": "markdown",
   "metadata": {},
   "source": [
    "shell"
   ]
  },
  {
   "cell_type": "code",
   "execution_count": 12,
   "metadata": {},
   "outputs": [
    {
     "name": "stdout",
     "output_type": "stream",
     "text": [
      "Mary\r\n",
      "Anna\r\n",
      "Emma\r\n",
      "Elizabeth\r\n",
      "Minnie\r\n",
      "Margaret\r\n",
      "Ida\r\n",
      "Alice\r\n",
      "Bertha\r\n",
      "Sarah\r\n",
      "cut: write error: Broken pipe\r\n"
     ]
    }
   ],
   "source": [
    "! cut -f 1 data/popular-names.txt | head"
   ]
  },
  {
   "cell_type": "code",
   "execution_count": 13,
   "metadata": {},
   "outputs": [
    {
     "name": "stdout",
     "output_type": "stream",
     "text": [
      "F\r\n",
      "F\r\n",
      "F\r\n",
      "F\r\n",
      "F\r\n",
      "F\r\n",
      "F\r\n",
      "F\r\n",
      "F\r\n",
      "F\r\n",
      "cut: write error: Broken pipe\r\n"
     ]
    }
   ],
   "source": [
    "! cut -f 2 data/popular-names.txt | head"
   ]
  },
  {
   "cell_type": "markdown",
   "metadata": {},
   "source": [
    "### 13. col1.txtとcol2.txtをマージ"
   ]
  },
  {
   "cell_type": "markdown",
   "metadata": {},
   "source": [
    "python"
   ]
  },
  {
   "cell_type": "code",
   "execution_count": 14,
   "metadata": {},
   "outputs": [],
   "source": [
    "from contextlib import ExitStack"
   ]
  },
  {
   "cell_type": "code",
   "execution_count": 15,
   "metadata": {},
   "outputs": [
    {
     "name": "stdout",
     "output_type": "stream",
     "text": [
      "Mary\tF\n",
      "Anna\tF\n",
      "Emma\tF\n",
      "Elizabeth\tF\n",
      "Minnie\tF\n",
      "Margaret\tF\n",
      "Ida\tF\n",
      "Alice\tF\n",
      "Bertha\tF\n",
      "Sarah\tF\n"
     ]
    }
   ],
   "source": [
    "files = ['result/col1.txt', 'result/col2.txt']\n",
    "with ExitStack() as stack:\n",
    "    files = [stack.enter_context(open(filename)) for filename in files]\n",
    "    for lines in list(zip(*files))[:10]: # zip(*files)でいい\n",
    "        x = [line.strip() for line in lines]\n",
    "        x = '\\t'.join(x)\n",
    "        print(x)"
   ]
  },
  {
   "cell_type": "markdown",
   "metadata": {},
   "source": [
    "shell"
   ]
  },
  {
   "cell_type": "code",
   "execution_count": 16,
   "metadata": {},
   "outputs": [
    {
     "name": "stdout",
     "output_type": "stream",
     "text": [
      "Mary\tF\r\n",
      "Anna\tF\r\n",
      "Emma\tF\r\n",
      "Elizabeth\tF\r\n",
      "Minnie\tF\r\n",
      "Margaret\tF\r\n",
      "Ida\tF\r\n",
      "Alice\tF\r\n",
      "Bertha\tF\r\n",
      "Sarah\tF\r\n",
      "paste: write error: Broken pipe\r\n",
      "paste: write error\r\n"
     ]
    }
   ],
   "source": [
    "! paste result/col1.txt result/col2.txt | head"
   ]
  },
  {
   "cell_type": "markdown",
   "metadata": {},
   "source": [
    "### 14. 先頭からN行を出力"
   ]
  },
  {
   "cell_type": "markdown",
   "metadata": {},
   "source": [
    "python"
   ]
  },
  {
   "cell_type": "code",
   "execution_count": 17,
   "metadata": {},
   "outputs": [
    {
     "name": "stdout",
     "output_type": "stream",
     "text": [
      "Mary\tF\t7065\t1880\n",
      "Anna\tF\t2604\t1880\n",
      "Emma\tF\t2003\t1880\n",
      "Elizabeth\tF\t1939\t1880\n",
      "Minnie\tF\t1746\t1880\n"
     ]
    }
   ],
   "source": [
    "N = 5\n",
    "with open('data/popular-names.txt') as f:\n",
    "    lst = range(N)\n",
    "    for _, line in zip(lst, f):\n",
    "        print(line, end='')"
   ]
  },
  {
   "cell_type": "markdown",
   "metadata": {},
   "source": [
    "shell"
   ]
  },
  {
   "cell_type": "code",
   "execution_count": 18,
   "metadata": {},
   "outputs": [
    {
     "name": "stdout",
     "output_type": "stream",
     "text": [
      "Mary\tF\t7065\t1880\r\n",
      "Anna\tF\t2604\t1880\r\n",
      "Emma\tF\t2003\t1880\r\n",
      "Elizabeth\tF\t1939\t1880\r\n",
      "Minnie\tF\t1746\t1880\r\n"
     ]
    }
   ],
   "source": [
    "! head -n 5 data/popular-names.txt"
   ]
  },
  {
   "cell_type": "markdown",
   "metadata": {},
   "source": [
    "### 15. 末尾のN行を出力"
   ]
  },
  {
   "cell_type": "markdown",
   "metadata": {},
   "source": [
    "python"
   ]
  },
  {
   "cell_type": "code",
   "execution_count": 19,
   "metadata": {},
   "outputs": [],
   "source": [
    "from collections import deque"
   ]
  },
  {
   "cell_type": "code",
   "execution_count": 20,
   "metadata": {},
   "outputs": [
    {
     "name": "stdout",
     "output_type": "stream",
     "text": [
      "Benjamin\tM\t13381\t2018\n",
      "Elijah\tM\t12886\t2018\n",
      "Lucas\tM\t12585\t2018\n",
      "Mason\tM\t12435\t2018\n",
      "Logan\tM\t12352\t2018\n"
     ]
    }
   ],
   "source": [
    "N = 5\n",
    "queue = deque([], 5)\n",
    "with open('data/popular-names.txt') as f:\n",
    "    for line in f:\n",
    "        queue.append(line)\n",
    "for line in queue:\n",
    "    print(line, end='')"
   ]
  },
  {
   "cell_type": "markdown",
   "metadata": {},
   "source": [
    "shell"
   ]
  },
  {
   "cell_type": "code",
   "execution_count": 21,
   "metadata": {},
   "outputs": [
    {
     "name": "stdout",
     "output_type": "stream",
     "text": [
      "Benjamin\tM\t13381\t2018\r\n",
      "Elijah\tM\t12886\t2018\r\n",
      "Lucas\tM\t12585\t2018\r\n",
      "Mason\tM\t12435\t2018\r\n",
      "Logan\tM\t12352\t2018\r\n"
     ]
    }
   ],
   "source": [
    "! tail -n 5 data/popular-names.txt"
   ]
  },
  {
   "cell_type": "markdown",
   "metadata": {},
   "source": [
    "### 16. ファイルをN分割する"
   ]
  },
  {
   "cell_type": "markdown",
   "metadata": {},
   "source": [
    "shell"
   ]
  },
  {
   "cell_type": "code",
   "execution_count": 22,
   "metadata": {},
   "outputs": [],
   "source": [
    "! split -d -nl/5 data/popular-names.txt result/shell5."
   ]
  },
  {
   "cell_type": "code",
   "execution_count": 23,
   "metadata": {},
   "outputs": [
    {
     "name": "stdout",
     "output_type": "stream",
     "text": [
      "  587  2348 11007 result/shell5.00\r\n",
      "  554  2216 11010 result/shell5.01\r\n",
      "  556  2224 11006 result/shell5.02\r\n",
      "  540  2160 11007 result/shell5.03\r\n",
      "  543  2172 10996 result/shell5.04\r\n",
      " 2780 11120 55026 total\r\n"
     ]
    }
   ],
   "source": [
    "! wc result/shell*"
   ]
  },
  {
   "cell_type": "markdown",
   "metadata": {},
   "source": [
    "python"
   ]
  },
  {
   "cell_type": "code",
   "execution_count": 24,
   "metadata": {},
   "outputs": [],
   "source": [
    "def split_string_list(N, lst):\n",
    "    chunk_size = sum([len(x) for x in lst]) // N\n",
    "    chunk_ends = [chunk_size * (n + 1) - 1 for n in range(N)]\n",
    "    \n",
    "    i = 0\n",
    "    acc = 0\n",
    "    out = []\n",
    "    for chunk_end in chunk_ends:\n",
    "        tmp = []\n",
    "        while acc < chunk_end:\n",
    "            tmp.append(lst[i])\n",
    "            acc += len(lst[i])\n",
    "            i += 1\n",
    "        out.append(tmp)\n",
    "    return out\n",
    "\n",
    "def split_file(N, filepath, outprefix):\n",
    "    with open(filepath) as f:\n",
    "        lst = list(f)\n",
    "    lst = split_string_list(N, lst)\n",
    "    for i, lines in enumerate(lst):\n",
    "        idx = str(i).zfill(2) # 手抜き\n",
    "        with open(outprefix + idx, 'w') as f:\n",
    "            f.write(''.join(lines))\n",
    "\n",
    "split_file(5, 'data/popular-names.txt', 'result/python5.')"
   ]
  },
  {
   "cell_type": "code",
   "execution_count": 25,
   "metadata": {},
   "outputs": [
    {
     "name": "stdout",
     "output_type": "stream",
     "text": [
      "  587  2348 11007 result/python5.00\r\n",
      "  554  2216 11010 result/python5.01\r\n",
      "  556  2224 11006 result/python5.02\r\n",
      "  540  2160 11007 result/python5.03\r\n",
      "  543  2172 10996 result/python5.04\r\n",
      " 2780 11120 55026 total\r\n"
     ]
    }
   ],
   "source": [
    "! wc result/python*"
   ]
  },
  {
   "cell_type": "markdown",
   "metadata": {},
   "source": [
    "### 17. １列目の文字列の異なり"
   ]
  },
  {
   "cell_type": "markdown",
   "metadata": {},
   "source": [
    "python"
   ]
  },
  {
   "cell_type": "code",
   "execution_count": 26,
   "metadata": {},
   "outputs": [
    {
     "name": "stdout",
     "output_type": "stream",
     "text": [
      "Abigail\n",
      "Aiden\n",
      "Alexander\n",
      "Alexis\n",
      "Alice\n",
      "Amanda\n",
      "Amelia\n",
      "Amy\n",
      "Andrew\n",
      "Angela\n"
     ]
    }
   ],
   "source": [
    "names = set()\n",
    "with open('data/popular-names.txt') as f:\n",
    "    for line in f:\n",
    "        name = line.split('\\t')[0]\n",
    "        names.add(name)\n",
    "names = sorted(names)\n",
    "\n",
    "for name in names[:10]:\n",
    "    print(name)"
   ]
  },
  {
   "cell_type": "markdown",
   "metadata": {},
   "source": [
    "shell"
   ]
  },
  {
   "cell_type": "code",
   "execution_count": 27,
   "metadata": {},
   "outputs": [
    {
     "name": "stdout",
     "output_type": "stream",
     "text": [
      "Abigail\r\n",
      "Aiden\r\n",
      "Alexander\r\n",
      "Alexis\r\n",
      "Alice\r\n",
      "Amanda\r\n",
      "Amelia\r\n",
      "Amy\r\n",
      "Andrew\r\n",
      "Angela\r\n"
     ]
    }
   ],
   "source": [
    "! cut -f 1 data/popular-names.txt | sort | uniq | head"
   ]
  },
  {
   "cell_type": "markdown",
   "metadata": {},
   "source": [
    "### 18. 各行を3コラム目の数値の降順にソートPermalink"
   ]
  },
  {
   "cell_type": "markdown",
   "metadata": {},
   "source": [
    "python"
   ]
  },
  {
   "cell_type": "code",
   "execution_count": 28,
   "metadata": {},
   "outputs": [
    {
     "name": "stdout",
     "output_type": "stream",
     "text": [
      "Linda\tF\t99689\t1947\n",
      "Linda\tF\t96211\t1948\n",
      "James\tM\t94757\t1947\n",
      "Michael\tM\t92704\t1957\n",
      "Robert\tM\t91640\t1947\n",
      "Linda\tF\t91016\t1949\n",
      "Michael\tM\t90656\t1956\n",
      "Michael\tM\t90517\t1958\n",
      "James\tM\t88584\t1948\n",
      "Michael\tM\t88528\t1954\n"
     ]
    }
   ],
   "source": [
    "with open('data/popular-names.txt') as f:\n",
    "    lst = [line.strip() for line in f]\n",
    "lst.sort(key = lambda x : -int(x.split('\\t')[2]))\n",
    "for line in lst[:10]:\n",
    "    print(line)"
   ]
  },
  {
   "cell_type": "markdown",
   "metadata": {},
   "source": [
    "shell"
   ]
  },
  {
   "cell_type": "code",
   "execution_count": 29,
   "metadata": {},
   "outputs": [
    {
     "name": "stdout",
     "output_type": "stream",
     "text": [
      "Linda\tF\t99689\t1947\r\n",
      "Linda\tF\t96211\t1948\r\n",
      "James\tM\t94757\t1947\r\n",
      "Michael\tM\t92704\t1957\r\n",
      "Robert\tM\t91640\t1947\r\n",
      "Linda\tF\t91016\t1949\r\n",
      "Michael\tM\t90656\t1956\r\n",
      "Michael\tM\t90517\t1958\r\n",
      "James\tM\t88584\t1948\r\n",
      "Michael\tM\t88528\t1954\r\n",
      "sort: write failed: 'standard output': Broken pipe\r\n",
      "sort: write error\r\n"
     ]
    }
   ],
   "source": [
    "! sort -nrk 3 data/popular-names.txt | head"
   ]
  },
  {
   "cell_type": "markdown",
   "metadata": {},
   "source": [
    "### 19. 各行の1コラム目の文字列の出現頻度を求め，出現頻度の高い順に並べる"
   ]
  },
  {
   "cell_type": "markdown",
   "metadata": {},
   "source": [
    "python"
   ]
  },
  {
   "cell_type": "code",
   "execution_count": 30,
   "metadata": {},
   "outputs": [],
   "source": [
    "from collections import Counter"
   ]
  },
  {
   "cell_type": "code",
   "execution_count": 31,
   "metadata": {},
   "outputs": [
    {
     "name": "stdout",
     "output_type": "stream",
     "text": [
      "118 James\n",
      "111 William\n",
      "108 John\n",
      "108 Robert\n",
      "92 Mary\n",
      "75 Charles\n",
      "74 Michael\n",
      "73 Elizabeth\n",
      "70 Joseph\n",
      "60 Margaret\n"
     ]
    }
   ],
   "source": [
    "cnt = Counter()\n",
    "with open('data/popular-names.txt') as f:\n",
    "    for line in f:\n",
    "        name = line.split('\\t')[0]\n",
    "        cnt.update([name])\n",
    "for name, num in cnt.most_common(10):\n",
    "    print(num, name)"
   ]
  },
  {
   "cell_type": "markdown",
   "metadata": {},
   "source": [
    "shell"
   ]
  },
  {
   "cell_type": "code",
   "execution_count": 32,
   "metadata": {},
   "outputs": [
    {
     "name": "stdout",
     "output_type": "stream",
     "text": [
      "    118 James\r\n",
      "    111 William\r\n",
      "    108 Robert\r\n",
      "    108 John\r\n",
      "     92 Mary\r\n",
      "     75 Charles\r\n",
      "     74 Michael\r\n",
      "     73 Elizabeth\r\n",
      "     70 Joseph\r\n",
      "     60 Margaret\r\n"
     ]
    }
   ],
   "source": [
    "! cut -f 1 data/popular-names.txt | sort | uniq -c | sort -nrk1 | head"
   ]
  }
 ],
 "metadata": {
  "kernelspec": {
   "display_name": "Python 3",
   "language": "python",
   "name": "python3"
  },
  "language_info": {
   "codemirror_mode": {
    "name": "ipython",
    "version": 3
   },
   "file_extension": ".py",
   "mimetype": "text/x-python",
   "name": "python",
   "nbconvert_exporter": "python",
   "pygments_lexer": "ipython3",
   "version": "3.7.4"
  }
 },
 "nbformat": 4,
 "nbformat_minor": 2
}
